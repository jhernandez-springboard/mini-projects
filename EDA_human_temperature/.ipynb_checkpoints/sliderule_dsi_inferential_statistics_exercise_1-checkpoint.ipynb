{
 "cells": [
  {
   "cell_type": "markdown",
   "metadata": {
    "toc": true
   },
   "source": [
    "<h1>Table of Contents<span class=\"tocSkip\"></span></h1>\n",
    "<div class=\"toc\"><ul class=\"toc-item\"><li><span><a href=\"#What-is-the-True-Normal-Human-Body-Temperature?\" data-toc-modified-id=\"What-is-the-True-Normal-Human-Body-Temperature?-1\"><span class=\"toc-item-num\">1&nbsp;&nbsp;</span>What is the True Normal Human Body Temperature?</a></span><ul class=\"toc-item\"><li><ul class=\"toc-item\"><li><ul class=\"toc-item\"><li><span><a href=\"#Background\" data-toc-modified-id=\"Background-1.0.0.1\"><span class=\"toc-item-num\">1.0.0.1&nbsp;&nbsp;</span>Background</a></span></li></ul></li><li><span><a href=\"#Exercises\" data-toc-modified-id=\"Exercises-1.0.1\"><span class=\"toc-item-num\">1.0.1&nbsp;&nbsp;</span>Exercises</a></span><ul class=\"toc-item\"><li><span><a href=\"#Resources\" data-toc-modified-id=\"Resources-1.0.1.1\"><span class=\"toc-item-num\">1.0.1.1&nbsp;&nbsp;</span>Resources</a></span></li></ul></li></ul></li></ul></li><li><span><a href=\"#Answers\" data-toc-modified-id=\"Answers-2\"><span class=\"toc-item-num\">2&nbsp;&nbsp;</span>Answers</a></span><ul class=\"toc-item\"><li><span><a href=\"#Normality\" data-toc-modified-id=\"Normality-2.1\"><span class=\"toc-item-num\">2.1&nbsp;&nbsp;</span>Normality</a></span><ul class=\"toc-item\"><li><span><a href=\"#Ecdf-Test\" data-toc-modified-id=\"Ecdf-Test-2.1.1\"><span class=\"toc-item-num\">2.1.1&nbsp;&nbsp;</span>Ecdf Test</a></span></li><li><span><a href=\"#Normality-Test\" data-toc-modified-id=\"Normality-Test-2.1.2\"><span class=\"toc-item-num\">2.1.2&nbsp;&nbsp;</span>Normality Test</a></span></li></ul></li><li><span><a href=\"#Is-the-sample-size-large?-Are-the-observations-independent?\" data-toc-modified-id=\"Is-the-sample-size-large?-Are-the-observations-independent?-2.2\"><span class=\"toc-item-num\">2.2&nbsp;&nbsp;</span>Is the sample size large? Are the observations independent?</a></span></li><li><span><a href=\"#Is-the-true-population-mean-really-98.6-degrees-F\" data-toc-modified-id=\"Is-the-true-population-mean-really-98.6-degrees-F-2.3\"><span class=\"toc-item-num\">2.3&nbsp;&nbsp;</span>Is the true population mean really 98.6 degrees F</a></span><ul class=\"toc-item\"><li><span><a href=\"#frequentist\" data-toc-modified-id=\"frequentist-2.3.1\"><span class=\"toc-item-num\">2.3.1&nbsp;&nbsp;</span>frequentist</a></span></li><li><span><a href=\"#bootstrap\" data-toc-modified-id=\"bootstrap-2.3.2\"><span class=\"toc-item-num\">2.3.2&nbsp;&nbsp;</span>bootstrap</a></span></li></ul></li><li><span><a href=\"#Draw-a-small-sample-of-size-10-from-the-data-and-repeat-both-frequentist-tests.\" data-toc-modified-id=\"Draw-a-small-sample-of-size-10-from-the-data-and-repeat-both-frequentist-tests.-2.4\"><span class=\"toc-item-num\">2.4&nbsp;&nbsp;</span>Draw a small sample of size 10 from the data and repeat both frequentist tests.</a></span></li><li><span><a href=\"#At-what-temperature-should-we-consider-someone's-temperature-to-be-&quot;abnormal&quot;\" data-toc-modified-id=\"At-what-temperature-should-we-consider-someone's-temperature-to-be-&quot;abnormal&quot;-2.5\"><span class=\"toc-item-num\">2.5&nbsp;&nbsp;</span>At what temperature should we consider someone's temperature to be \"abnormal\"</a></span></li><li><span><a href=\"#Is-there-a-significant-difference-between-males-and-females-in-normal-temperature?\" data-toc-modified-id=\"Is-there-a-significant-difference-between-males-and-females-in-normal-temperature?-2.6\"><span class=\"toc-item-num\">2.6&nbsp;&nbsp;</span>Is there a significant difference between males and females in normal temperature?</a></span></li></ul></li></ul></div>"
   ]
  },
  {
   "cell_type": "markdown",
   "metadata": {},
   "source": [
    "# What is the True Normal Human Body Temperature? \n",
    "\n",
    "#### Background\n",
    "\n",
    "The mean normal body temperature was held to be 37$^{\\circ}$C or 98.6$^{\\circ}$F for more than 120 years since it was first conceptualized and reported by Carl Wunderlich in a famous 1868 book. But, is this value statistically correct?"
   ]
  },
  {
   "cell_type": "markdown",
   "metadata": {},
   "source": [
    "<h3>Exercises</h3>\n",
    "\n",
    "<p>In this exercise, you will analyze a dataset of human body temperatures and employ the concepts of hypothesis testing, confidence intervals, and statistical significance.</p>\n",
    "\n",
    "<p>Answer the following questions <b>in this notebook below and submit to your Github account</b>.</p> \n",
    "\n",
    "<ol>\n",
    "<li>  Is the distribution of body temperatures normal? \n",
    "    <ul>\n",
    "    <li> Although this is not a requirement for the Central Limit Theorem to hold (read the introduction on Wikipedia's page about the CLT carefully: https://en.wikipedia.org/wiki/Central_limit_theorem), it gives us some peace of mind that the population may also be normally distributed if we assume that this sample is representative of the population.\n",
    "    <li> Think about the way you're going to check for the normality of the distribution. Graphical methods are usually used first, but there are also other ways: https://en.wikipedia.org/wiki/Normality_test\n",
    "    </ul>\n",
    "<li>  Is the sample size large? Are the observations independent?\n",
    "    <ul>\n",
    "    <li> Remember that this is a condition for the Central Limit Theorem, and hence the statistical tests we are using, to apply.\n",
    "    </ul>\n",
    "<li>  Is the true population mean really 98.6 degrees F?\n",
    "    <ul>\n",
    "    <li> First, try a bootstrap hypothesis test.\n",
    "    <li> Now, let's try frequentist statistical testing. Would you use a one-sample or two-sample test? Why?\n",
    "    <li> In this situation, is it appropriate to use the $t$ or $z$ statistic? \n",
    "    <li> Now try using the other test. How is the result be different? Why?\n",
    "    </ul>\n",
    "<li>  Draw a small sample of size 10 from the data and repeat both frequentist tests. \n",
    "    <ul>\n",
    "    <li> Which one is the correct one to use? \n",
    "    <li> What do you notice? What does this tell you about the difference in application of the $t$ and $z$ statistic?\n",
    "    </ul>\n",
    "<li>  At what temperature should we consider someone's temperature to be \"abnormal\"?\n",
    "    <ul>\n",
    "    <li> As in the previous example, try calculating everything using the boostrap approach, as well as the frequentist approach.\n",
    "    <li> Start by computing the margin of error and confidence interval. When calculating the confidence interval, keep in mind that you should use the appropriate formula for one draw, and not N draws.\n",
    "    </ul>\n",
    "<li>  Is there a significant difference between males and females in normal temperature?\n",
    "    <ul>\n",
    "    <li> What testing approach did you use and why?\n",
    "    <li> Write a story with your conclusion in the context of the original problem.\n",
    "    </ul>\n",
    "</ol>\n",
    "\n",
    "You can include written notes in notebook cells using Markdown: \n",
    "   - In the control panel at the top, choose Cell > Cell Type > Markdown\n",
    "   - Markdown syntax: http://nestacms.com/docs/creating-content/markdown-cheat-sheet\n",
    "\n",
    "#### Resources\n",
    "\n",
    "+ Information and data sources: http://www.amstat.org/publications/jse/datasets/normtemp.txt, http://www.amstat.org/publications/jse/jse_data_archive.htm\n",
    "+ Markdown syntax: http://nestacms.com/docs/creating-content/markdown-cheat-sheet\n",
    "\n",
    "****"
   ]
  },
  {
   "cell_type": "code",
   "execution_count": 4,
   "metadata": {},
   "outputs": [],
   "source": [
    "import pandas as pd\n",
    "import numpy as np\n",
    "import matplotlib.pyplot as plt\n",
    "import seaborn as sns\n",
    "from scipy import stats"
   ]
  },
  {
   "cell_type": "code",
   "execution_count": 5,
   "metadata": {},
   "outputs": [],
   "source": [
    "#load data\n",
    "df = pd.read_csv('data/human_body_temperature.csv')"
   ]
  },
  {
   "cell_type": "code",
   "execution_count": 6,
   "metadata": {},
   "outputs": [
    {
     "name": "stdout",
     "output_type": "stream",
     "text": [
      "<class 'pandas.core.frame.DataFrame'>\n",
      "RangeIndex: 130 entries, 0 to 129\n",
      "Data columns (total 3 columns):\n",
      "temperature    130 non-null float64\n",
      "gender         130 non-null object\n",
      "heart_rate     130 non-null float64\n",
      "dtypes: float64(2), object(1)\n",
      "memory usage: 3.1+ KB\n",
      "None\n",
      "   temperature gender  heart_rate\n",
      "0         99.3      F        68.0\n",
      "1         98.4      F        81.0\n",
      "2         97.8      M        73.0\n",
      "3         99.2      F        66.0\n",
      "4         98.0      F        73.0\n",
      "(130, 3)\n"
     ]
    },
    {
     "data": {
      "text/plain": [
       "F    65\n",
       "M    65\n",
       "Name: gender, dtype: int64"
      ]
     },
     "execution_count": 6,
     "metadata": {},
     "output_type": "execute_result"
    }
   ],
   "source": [
    "#Explore data\n",
    "print(df.info())\n",
    "print(df.head())\n",
    "print(df.shape)\n",
    "#check for duplicates\n",
    "df[df.duplicated() == True]\n",
    "df.gender.value_counts()"
   ]
  },
  {
   "cell_type": "markdown",
   "metadata": {},
   "source": [
    "It looks like there are no null columns, no variables with data in the wrong format. There are potentially some duplicate rows; however, since there is a small chance this is a coincidence, I'll leave them in."
   ]
  },
  {
   "cell_type": "markdown",
   "metadata": {
    "collapsed": true
   },
   "source": [
    "# Answers"
   ]
  },
  {
   "cell_type": "markdown",
   "metadata": {},
   "source": [
    "## Normality"
   ]
  },
  {
   "cell_type": "markdown",
   "metadata": {},
   "source": [
    "Is the distribution of body temperatures normal?"
   ]
  },
  {
   "cell_type": "markdown",
   "metadata": {},
   "source": [
    "### Ecdf Test"
   ]
  },
  {
   "cell_type": "code",
   "execution_count": 7,
   "metadata": {},
   "outputs": [
    {
     "data": {
      "text/plain": [
       "<matplotlib.axes._subplots.AxesSubplot at 0x1a1de1b128>"
      ]
     },
     "execution_count": 7,
     "metadata": {},
     "output_type": "execute_result"
    },
    {
     "data": {
      "image/png": "[encoded data removed]",
      "text/plain": [
       "<Figure size 432x288 with 1 Axes>"
      ]
     },
     "metadata": {
      "needs_background": "light"
     },
     "output_type": "display_data"
    }
   ],
   "source": [
    "df.temperature.hist(bins=30)"
   ]
  },
  {
   "cell_type": "code",
   "execution_count": 8,
   "metadata": {},
   "outputs": [],
   "source": [
    "# Define function to compute ECDF\n",
    "def ecdf(data):\n",
    "    \"\"\"Compute ECDF for a one-dimensional array of measurements.\"\"\"\n",
    "    # Number of data points: n\n",
    "    n = len(data)\n",
    "    # x-data for the ECDF: x\n",
    "    x = np.sort(data)\n",
    "    # y-data for the ECDF: y\n",
    "    y = np.arange(1, n+1) / n\n",
    "    return x, y"
   ]
  },
  {
   "cell_type": "code",
   "execution_count": 9,
   "metadata": {},
   "outputs": [
    {
     "name": "stdout",
     "output_type": "stream",
     "text": [
      "sample size = 130, mu = 98.249231, sigma = 0.730358\n"
     ]
    }
   ],
   "source": [
    "#create a sample normal distrbution with the same mean to compare against\n",
    "\n",
    "# Sample Size:\n",
    "n = len(df.temperature)\n",
    "\n",
    "# Sample Mean:\n",
    "mu = np.mean(df.temperature)\n",
    "\n",
    "# Sample Standard Deviation:\n",
    "sigma = np.std(df.temperature)\n",
    " \n",
    "print(\"sample size = %d, mu = %f, sigma = %f\" %(n, mu, sigma))\n",
    "\n",
    "#seed random variable\n",
    "np.random.seed(17)\n",
    "\n",
    "#create dataset\n",
    "normal = np.random.normal(mu, sigma, 10000)"
   ]
  },
  {
   "cell_type": "code",
   "execution_count": 10,
   "metadata": {},
   "outputs": [],
   "source": [
    "# Compute the ecdf of the data and the normal distribution\n",
    "x_temp, y_temp = ecdf(df['temperature'])\n",
    "x_normal, y_normal = ecdf(normal)"
   ]
  },
  {
   "cell_type": "code",
   "execution_count": 11,
   "metadata": {},
   "outputs": [
    {
     "data": {
      "image/png": "[encoded data removed]",
      "text/plain": [
       "<Figure size 432x288 with 1 Axes>"
      ]
     },
     "metadata": {
      "needs_background": "light"
     },
     "output_type": "display_data"
    }
   ],
   "source": [
    "#Plot the ECDFs against each other\n",
    "_ = plt.plot(x_temp, y_temp, marker = \".\", linestyle = \"none\")\n",
    "_ = plt.plot(x_normal, y_normal)\n",
    "_ = plt.ylabel('ECDF')\n",
    "_ = plt.xlabel('Temperature (Farenheit)')\n",
    "_ = plt.legend(('Data', 'Ideal Normal Distribution'))"
   ]
  },
  {
   "cell_type": "markdown",
   "metadata": {},
   "source": [
    "The ECDF of the empirical data seems to closely match our ideal ECDF, so we can probably say that the data is normally distributed. But I will also do a formal normality test."
   ]
  },
  {
   "cell_type": "markdown",
   "metadata": {
    "heading_collapsed": true
   },
   "source": [
    "### Normality Test"
   ]
  },
  {
   "cell_type": "code",
   "execution_count": null,
   "metadata": {
    "hidden": true
   },
   "outputs": [],
   "source": []
  },
  {
   "cell_type": "code",
   "execution_count": null,
   "metadata": {
    "hidden": true
   },
   "outputs": [],
   "source": []
  },
  {
   "cell_type": "markdown",
   "metadata": {},
   "source": [
    "## Is the sample size large? Are the observations independent?"
   ]
  },
  {
   "cell_type": "markdown",
   "metadata": {},
   "source": [
    "The sample size is $n=130$, which meets the minimum sample size criteria of $n>30$ for the central limit theorem. Furthermore, because each sample is taken from a different person, all observations are independent."
   ]
  },
  {
   "cell_type": "markdown",
   "metadata": {},
   "source": [
    "## Is the true population mean really 98.6 degrees F"
   ]
  },
  {
   "cell_type": "markdown",
   "metadata": {},
   "source": [
    "Is the true population mean really 98.6 degrees F?\n",
    "First, try a bootstrap hypothesis test.\n",
    "Now, let's try frequentist statistical testing. Would you use a one-sample or two-sample test? Why?\n",
    "In this situation, is it appropriate to use the  𝑡  or  𝑧  statistic?\n",
    "Now try using the other test. How is the result be different? Why?"
   ]
  },
  {
   "cell_type": "markdown",
   "metadata": {},
   "source": [
    "Since we do not know the population standard deviation for human body temperature, we have to use the t-statistic. And since we are comparing our data to a single value, we should use a one-sample test."
   ]
  },
  {
   "cell_type": "markdown",
   "metadata": {},
   "source": [
    "### frequentist"
   ]
  },
  {
   "cell_type": "code",
   "execution_count": 12,
   "metadata": {},
   "outputs": [
    {
     "name": "stdout",
     "output_type": "stream",
     "text": [
      "t value:-5.454823 \n",
      "p value:0.000000\n"
     ]
    }
   ],
   "source": [
    "#Null hypothesis: mean temperature = 98.6°\n",
    "#I will use the standard significance cut off of p=0.05\n",
    "\n",
    "t_value, p_value = stats.ttest_1samp(df['temperature'], 98.6)\n",
    "\n",
    "print(\"t value:%f \\np value:%f\" %(t_value, p_value))"
   ]
  },
  {
   "cell_type": "markdown",
   "metadata": {},
   "source": [
    "Since p is far bellow are chosen significance threshold of p=0.05, we can safely reject the null hypothesis."
   ]
  },
  {
   "cell_type": "code",
   "execution_count": 13,
   "metadata": {},
   "outputs": [
    {
     "name": "stdout",
     "output_type": "stream",
     "text": [
      "z value:-5.475925 \n",
      "p value:0.000000\n"
     ]
    }
   ],
   "source": [
    "#Using Z-test\n",
    "\n",
    "stderror = sigma/np.sqrt(n)\n",
    "z_value = (mu-98.6)/stderror\n",
    "p_value = stats.norm.cdf(z_value) * 2\n",
    "print(\"z value:%f \\np value:%f\" %(z_value, p_value))"
   ]
  },
  {
   "cell_type": "markdown",
   "metadata": {},
   "source": [
    "By approximating the population standard deviation with the standard error, we get a similar result to the t-test we ran earlier."
   ]
  },
  {
   "cell_type": "markdown",
   "metadata": {
    "heading_collapsed": true
   },
   "source": [
    "### bootstrap"
   ]
  },
  {
   "cell_type": "code",
   "execution_count": null,
   "metadata": {
    "hidden": true
   },
   "outputs": [],
   "source": [
    "# Define bootstrap functions:\n",
    "\n",
    "def replicate(data, function):\n",
    "    \"\"\"Return replicate of a resampled data array.\"\"\"\n",
    "    \n",
    "    # Create the resampled array and return the statistic of interest:\n",
    "    return function(np.random.choice(data, size=len(data)))\n",
    "\n",
    "\n",
    "def draw_replicates(data, function, size=1):\n",
    "    \"\"\"Draw bootstrap replicates.\"\"\"\n",
    "\n",
    "    # Initialize array of replicates:\n",
    "    replicates = np.empty(size)\n",
    "\n",
    "    # Generate replicates:\n",
    "    for i in range(size):\n",
    "        replicates[i] = replicate(data, function)\n",
    "\n",
    "    return replicates"
   ]
  },
  {
   "cell_type": "code",
   "execution_count": null,
   "metadata": {
    "hidden": true
   },
   "outputs": [],
   "source": [
    "# translate data so mean is at 98.6° F:\n",
    "translated_df = df.temperature - mu + 98.6\n",
    "\n",
    "# Take bootstrap replicates of translated temperatures: bs_replicates\n",
    "bs_replicates = draw_replicates(translated_df, np.mean, 10000)\n",
    "\n",
    "# Compute fraction of replicates that are less than the observed temperature mean: p\n",
    "p = np.sum(bs_replicates <= mu) / len(translated_df)\n",
    "\n",
    "# Print the p-value:\n",
    "print('p-value = %f' %p)"
   ]
  },
  {
   "cell_type": "markdown",
   "metadata": {
    "hidden": true
   },
   "source": [
    "using the bootstrap method, we again get a p-value close to 0, and therefore reject the null hypothesis"
   ]
  },
  {
   "cell_type": "markdown",
   "metadata": {},
   "source": [
    "## Draw a small sample of size 10 from the data and repeat both frequentist tests."
   ]
  },
  {
   "cell_type": "code",
   "execution_count": 14,
   "metadata": {},
   "outputs": [
    {
     "data": {
      "text/plain": [
       "array([98. , 98.2, 98.6, 97.6, 98.7, 96.4, 98.8, 98.7, 98.2, 98.4])"
      ]
     },
     "execution_count": 14,
     "metadata": {},
     "output_type": "execute_result"
    }
   ],
   "source": [
    "# Seed the random number generator:\n",
    "np.random.seed(17)\n",
    "\n",
    "\n",
    "# Draw a random sample of 10 from the temperature data:\n",
    "sample = np.random.choice(df.temperature, size=10)\n",
    "sample"
   ]
  },
  {
   "cell_type": "code",
   "execution_count": 15,
   "metadata": {},
   "outputs": [
    {
     "name": "stdout",
     "output_type": "stream",
     "text": [
      "t value:-1.928704 \n",
      "p value:0.085851\n"
     ]
    }
   ],
   "source": [
    "#Null hypothesis: mean temperature = 98.6°\n",
    "#I will use the standard significance cut off of p=0.05\n",
    "\n",
    "t_value, p_value = stats.ttest_1samp(sample, 98.6)\n",
    "\n",
    "print(\"t value:%f \\np value:%f\" %(t_value, p_value))"
   ]
  },
  {
   "cell_type": "markdown",
   "metadata": {},
   "source": [
    "Here we fail to meet our significance cutoff, so we should accept the null hypothesis"
   ]
  },
  {
   "cell_type": "code",
   "execution_count": 16,
   "metadata": {},
   "outputs": [
    {
     "name": "stdout",
     "output_type": "stream",
     "text": [
      "z value:-2.033032 \n",
      "p value:0.042049\n"
     ]
    }
   ],
   "source": [
    "#Using Z-test\n",
    "\n",
    "stderror = np.std(sample)/np.sqrt(len(sample))\n",
    "z_value = (np.mean(sample)-98.6)/stderror\n",
    "p_value = stats.norm.cdf(z_value) * 2\n",
    "print(\"z value:%f \\np value:%f\" %(z_value, p_value))"
   ]
  },
  {
   "cell_type": "markdown",
   "metadata": {},
   "source": [
    "Our z-test meets the significance threshold of 0.05, so we should reject the null hypothesis."
   ]
  },
  {
   "cell_type": "markdown",
   "metadata": {},
   "source": [
    "## At what temperature should we consider someone's temperature to be \"abnormal\""
   ]
  },
  {
   "cell_type": "markdown",
   "metadata": {},
   "source": [
    "We generally consider data points to be outliers when they are more than 2 standard deviations from the mean."
   ]
  },
  {
   "cell_type": "code",
   "execution_count": 17,
   "metadata": {},
   "outputs": [
    {
     "name": "stdout",
     "output_type": "stream",
     "text": [
      "normal range is between 96.788515° F and 99.709946° F\n"
     ]
    }
   ],
   "source": [
    "pop_sigma = np.std(df.temperature)\n",
    "mean_temp = np.mean(df.temperature)\n",
    "high_temp = mean_temp + 2*pop_sigma\n",
    "low_temp = mean_temp - 2*pop_sigma\n",
    "print (\"normal range is between %f° F and %f° F\" %(low_temp, high_temp))"
   ]
  },
  {
   "cell_type": "markdown",
   "metadata": {},
   "source": [
    "## Is there a significant difference between males and females in normal temperature?"
   ]
  },
  {
   "cell_type": "code",
   "execution_count": 18,
   "metadata": {},
   "outputs": [
    {
     "name": "stdout",
     "output_type": "stream",
     "text": [
      "FEMALES\n",
      "MALES\n"
     ]
    },
    {
     "name": "stderr",
     "output_type": "stream",
     "text": [
      "/anaconda3/lib/python3.7/site-packages/matplotlib/axes/_axes.py:6521: MatplotlibDeprecationWarning: \n",
      "The 'normed' kwarg was deprecated in Matplotlib 2.1 and will be removed in 3.1. Use 'density' instead.\n",
      "  alternative=\"'density'\", removal=\"3.1\")\n",
      "/anaconda3/lib/python3.7/site-packages/matplotlib/axes/_axes.py:6521: MatplotlibDeprecationWarning: \n",
      "The 'normed' kwarg was deprecated in Matplotlib 2.1 and will be removed in 3.1. Use 'density' instead.\n",
      "  alternative=\"'density'\", removal=\"3.1\")\n"
     ]
    },
    {
     "data": {
      "image/png": "[encoded data removed]",
      "text/plain": [
       "<Figure size 576x720 with 2 Axes>"
      ]
     },
     "metadata": {
      "needs_background": "light"
     },
     "output_type": "display_data"
    }
   ],
   "source": [
    "# Separate observations by gender\n",
    "females = df[df['gender'] == 'F']\n",
    "males = df[df['gender'] == 'M']\n",
    "\n",
    "# Descriptive statistics \n",
    "print('FEMALES')\n",
    "females['temperature'].describe()\n",
    "print('MALES')\n",
    "males['temperature'].describe()\n",
    "f_mean = np.mean(females['temperature'])\n",
    "m_mean = np.mean(males['temperature'])\n",
    "# print('Mean female temperature: ', f_mean, 'deg. F (n =', len(females), ')')\n",
    "# print('Mean male temperature: ', m_mean, 'deg. F (n =', len(males), ')')\n",
    "\n",
    "\n",
    "# Compute ecdfs\n",
    "x_female, y_female = ecdf(females['temperature'])\n",
    "x_male, y_male = ecdf(males['temperature'])\n",
    "\n",
    "# Examine differences visually\n",
    "fig = plt.figure(figsize=(8, 10))\n",
    "_ = plt.subplot(2,1,1)\n",
    "_ = plt.hist(females['temperature'], bins=15, normed=True, histtype='step')\n",
    "_ = plt.hist(males['temperature'], bins=15, normed=True, histtype='step')\n",
    "_ = plt.xlabel('Temperature ($^\\circ$F)')\n",
    "_ = plt.ylabel('PDF')\n",
    "_ = plt.legend(('females', 'males'))\n",
    "\n",
    "_ = plt.subplot(2,1,2)\n",
    "_ = plt.plot(x_female, y_female, marker='.', linestyle='none')\n",
    "_ = plt.plot(x_male, y_male, marker='.', linestyle='none')\n",
    "_ = plt.ylabel('ECDF')\n",
    "_ = plt.xlabel('Temperature ($^\\circ$F)')\n",
    "_ = plt.legend(('females', 'males'))"
   ]
  },
  {
   "cell_type": "code",
   "execution_count": null,
   "metadata": {},
   "outputs": [],
   "source": []
  },
  {
   "cell_type": "code",
   "execution_count": null,
   "metadata": {},
   "outputs": [],
   "source": []
  }
 ],
 "metadata": {
  "kernelspec": {
   "display_name": "Python 3",
   "language": "python",
   "name": "python3"
  },
  "language_info": {
   "codemirror_mode": {
    "name": "ipython",
    "version": 3
   },
   "file_extension": ".py",
   "mimetype": "text/x-python",
   "name": "python",
   "nbconvert_exporter": "python",
   "pygments_lexer": "ipython3",
   "version": "3.7.1"
  },
  "toc": {
   "base_numbering": 1,
   "nav_menu": {},
   "number_sections": true,
   "sideBar": true,
   "skip_h1_title": false,
   "title_cell": "Table of Contents",
   "title_sidebar": "Contents",
   "toc_cell": true,
   "toc_position": {},
   "toc_section_display": true,
   "toc_window_display": true
  }
 },
 "nbformat": 4,
 "nbformat_minor": 1
}
