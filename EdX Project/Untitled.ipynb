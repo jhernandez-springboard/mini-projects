{
 "cells": [
  {
   "cell_type": "markdown",
   "metadata": {
    "toc": true
   },
   "source": [
    "<h1>Table of Contents<span class=\"tocSkip\"></span></h1>\n",
    "<div class=\"toc\"><ul class=\"toc-item\"><li><span><a href=\"#Objective\" data-toc-modified-id=\"Objective-1\"><span class=\"toc-item-num\">1&nbsp;&nbsp;</span>Objective</a></span></li><li><span><a href=\"#Examine-Data\" data-toc-modified-id=\"Examine-Data-2\"><span class=\"toc-item-num\">2&nbsp;&nbsp;</span>Examine Data</a></span></li><li><span><a href=\"#Treat-Data\" data-toc-modified-id=\"Treat-Data-3\"><span class=\"toc-item-num\">3&nbsp;&nbsp;</span>Treat Data</a></span></li><li><span><a href=\"#Feature-Engineering\" data-toc-modified-id=\"Feature-Engineering-4\"><span class=\"toc-item-num\">4&nbsp;&nbsp;</span>Feature Engineering</a></span></li><li><span><a href=\"#Exploring-Demographics\" data-toc-modified-id=\"Exploring-Demographics-5\"><span class=\"toc-item-num\">5&nbsp;&nbsp;</span>Exploring Demographics</a></span><ul class=\"toc-item\"><li><span><a href=\"#Students-who-only-registered\" data-toc-modified-id=\"Students-who-only-registered-5.1\"><span class=\"toc-item-num\">5.1&nbsp;&nbsp;</span>Students who only registered</a></span><ul class=\"toc-item\"><li><span><a href=\"#Compare-to-certificate-earners\" data-toc-modified-id=\"Compare-to-certificate-earners-5.1.1\"><span class=\"toc-item-num\">5.1.1&nbsp;&nbsp;</span>Compare to certificate earners</a></span></li></ul></li><li><span><a href=\"#Activity-vs-Completion\" data-toc-modified-id=\"Activity-vs-Completion-5.2\"><span class=\"toc-item-num\">5.2&nbsp;&nbsp;</span>Activity vs Completion</a></span><ul class=\"toc-item\"><li><span><a href=\"#Days-Active-vs-Completion\" data-toc-modified-id=\"Days-Active-vs-Completion-5.2.1\"><span class=\"toc-item-num\">5.2.1&nbsp;&nbsp;</span>Days Active vs Completion</a></span></li><li><span><a href=\"#Events-Vs-Completion\" data-toc-modified-id=\"Events-Vs-Completion-5.2.2\"><span class=\"toc-item-num\">5.2.2&nbsp;&nbsp;</span>Events Vs Completion</a></span></li><li><span><a href=\"#Forum-Posts\" data-toc-modified-id=\"Forum-Posts-5.2.3\"><span class=\"toc-item-num\">5.2.3&nbsp;&nbsp;</span>Forum Posts</a></span></li><li><span><a href=\"#Chapters-Read\" data-toc-modified-id=\"Chapters-Read-5.2.4\"><span class=\"toc-item-num\">5.2.4&nbsp;&nbsp;</span>Chapters Read</a></span></li></ul></li><li><span><a href=\"#Viewed-Only\" data-toc-modified-id=\"Viewed-Only-5.3\"><span class=\"toc-item-num\">5.3&nbsp;&nbsp;</span>Viewed Only</a></span><ul class=\"toc-item\"><li><span><a href=\"#Engagement\" data-toc-modified-id=\"Engagement-5.3.1\"><span class=\"toc-item-num\">5.3.1&nbsp;&nbsp;</span>Engagement</a></span></li><li><span><a href=\"#Gender\" data-toc-modified-id=\"Gender-5.3.2\"><span class=\"toc-item-num\">5.3.2&nbsp;&nbsp;</span>Gender</a></span></li><li><span><a href=\"#Date-of-Birth\" data-toc-modified-id=\"Date-of-Birth-5.3.3\"><span class=\"toc-item-num\">5.3.3&nbsp;&nbsp;</span>Date of Birth</a></span></li><li><span><a href=\"#Education\" data-toc-modified-id=\"Education-5.3.4\"><span class=\"toc-item-num\">5.3.4&nbsp;&nbsp;</span>Education</a></span></li><li><span><a href=\"#Course\" data-toc-modified-id=\"Course-5.3.5\"><span class=\"toc-item-num\">5.3.5&nbsp;&nbsp;</span>Course</a></span></li></ul></li><li><span><a href=\"#Only-explored\" data-toc-modified-id=\"Only-explored-5.4\"><span class=\"toc-item-num\">5.4&nbsp;&nbsp;</span>Only explored</a></span><ul class=\"toc-item\"><li><span><a href=\"#Gender\" data-toc-modified-id=\"Gender-5.4.1\"><span class=\"toc-item-num\">5.4.1&nbsp;&nbsp;</span>Gender</a></span></li><li><span><a href=\"#Date-of-Birth\" data-toc-modified-id=\"Date-of-Birth-5.4.2\"><span class=\"toc-item-num\">5.4.2&nbsp;&nbsp;</span>Date of Birth</a></span></li><li><span><a href=\"#Education\" data-toc-modified-id=\"Education-5.4.3\"><span class=\"toc-item-num\">5.4.3&nbsp;&nbsp;</span>Education</a></span></li></ul></li></ul></li><li><span><a href=\"#Causes-of-Non-Completion\" data-toc-modified-id=\"Causes-of-Non-Completion-6\"><span class=\"toc-item-num\">6&nbsp;&nbsp;</span>Causes of Non-Completion</a></span><ul class=\"toc-item\"><li><span><a href=\"#Forum-Posts\" data-toc-modified-id=\"Forum-Posts-6.1\"><span class=\"toc-item-num\">6.1&nbsp;&nbsp;</span>Forum Posts</a></span></li><li><span><a href=\"#Videos\" data-toc-modified-id=\"Videos-6.2\"><span class=\"toc-item-num\">6.2&nbsp;&nbsp;</span>Videos</a></span></li></ul></li><li><span><a href=\"#Grade-Distribution\" data-toc-modified-id=\"Grade-Distribution-7\"><span class=\"toc-item-num\">7&nbsp;&nbsp;</span>Grade Distribution</a></span></li></ul></div>"
   ]
  },
  {
   "cell_type": "markdown",
   "metadata": {},
   "source": [
    "# Objective"
   ]
  },
  {
   "cell_type": "markdown",
   "metadata": {},
   "source": [
    "To Increase the **rate** of at which certificates are earned among students. This can be done demographically, by targeting more people who are likely to complete the course, by changing the product, identifying bottlenecks and eliminating them, by targeting students with more appropriate material, redefining \"completion,\" or increasing engagement\n"
   ]
  },
  {
   "cell_type": "markdown",
   "metadata": {},
   "source": [
    "# Examine Data"
   ]
  },
  {
   "cell_type": "code",
   "execution_count": 141,
   "metadata": {},
   "outputs": [],
   "source": [
    "import pandas as pd\n",
    "import numpy as np\n",
    "import matplotlib.pyplot as plt\n",
    "import seaborn as sns\n",
    "import scipy.stats as stats\n",
    "from sklearn.linear_model import LogisticRegression\n",
    "from sklearn.model_selection import train_test_split\n",
    "from sklearn import metrics \n",
    "from sklearn.metrics import classification_report\n",
    "from sklearn.metrics import confusion_matrix\n",
    "from sklearn.utils import resample\n",
    "from sklearn.metrics import accuracy_score\n",
    "%matplotlib inline\n",
    "plt.style.use('ggplot')"
   ]
  },
  {
   "cell_type": "code",
   "execution_count": 2,
   "metadata": {},
   "outputs": [],
   "source": [
    "students = pd.read_csv(\"HMXPC13_DI_v2_5-14-14.csv\")"
   ]
  },
  {
   "cell_type": "code",
   "execution_count": 3,
   "metadata": {},
   "outputs": [
    {
     "data": {
      "text/html": [
       "<div>\n",
       "<style scoped>\n",
       "    .dataframe tbody tr th:only-of-type {\n",
       "        vertical-align: middle;\n",
       "    }\n",
       "\n",
       "    .dataframe tbody tr th {\n",
       "        vertical-align: top;\n",
       "    }\n",
       "\n",
       "    .dataframe thead th {\n",
       "        text-align: right;\n",
       "    }\n",
       "</style>\n",
       "<table border=\"1\" class=\"dataframe\">\n",
       "  <thead>\n",
       "    <tr style=\"text-align: right;\">\n",
       "      <th></th>\n",
       "      <th>registered</th>\n",
       "      <th>viewed</th>\n",
       "      <th>explored</th>\n",
       "      <th>certified</th>\n",
       "      <th>YoB</th>\n",
       "      <th>nevents</th>\n",
       "      <th>ndays_act</th>\n",
       "      <th>nplay_video</th>\n",
       "      <th>nchapters</th>\n",
       "      <th>nforum_posts</th>\n",
       "      <th>roles</th>\n",
       "      <th>incomplete_flag</th>\n",
       "    </tr>\n",
       "  </thead>\n",
       "  <tbody>\n",
       "    <tr>\n",
       "      <th>count</th>\n",
       "      <td>641138.0</td>\n",
       "      <td>641138.000000</td>\n",
       "      <td>641138.000000</td>\n",
       "      <td>641138.000000</td>\n",
       "      <td>544533.000000</td>\n",
       "      <td>441987.000000</td>\n",
       "      <td>478395.000000</td>\n",
       "      <td>183608.000000</td>\n",
       "      <td>382385.000000</td>\n",
       "      <td>641138.000000</td>\n",
       "      <td>0.0</td>\n",
       "      <td>100161.0</td>\n",
       "    </tr>\n",
       "    <tr>\n",
       "      <th>mean</th>\n",
       "      <td>1.0</td>\n",
       "      <td>0.624299</td>\n",
       "      <td>0.061899</td>\n",
       "      <td>0.027587</td>\n",
       "      <td>1985.253279</td>\n",
       "      <td>431.008018</td>\n",
       "      <td>5.710254</td>\n",
       "      <td>114.844173</td>\n",
       "      <td>3.634423</td>\n",
       "      <td>0.018968</td>\n",
       "      <td>NaN</td>\n",
       "      <td>1.0</td>\n",
       "    </tr>\n",
       "    <tr>\n",
       "      <th>std</th>\n",
       "      <td>0.0</td>\n",
       "      <td>0.484304</td>\n",
       "      <td>0.240973</td>\n",
       "      <td>0.163786</td>\n",
       "      <td>8.891814</td>\n",
       "      <td>1516.116057</td>\n",
       "      <td>11.866471</td>\n",
       "      <td>426.996844</td>\n",
       "      <td>4.490987</td>\n",
       "      <td>0.229539</td>\n",
       "      <td>NaN</td>\n",
       "      <td>0.0</td>\n",
       "    </tr>\n",
       "    <tr>\n",
       "      <th>min</th>\n",
       "      <td>1.0</td>\n",
       "      <td>0.000000</td>\n",
       "      <td>0.000000</td>\n",
       "      <td>0.000000</td>\n",
       "      <td>1931.000000</td>\n",
       "      <td>1.000000</td>\n",
       "      <td>1.000000</td>\n",
       "      <td>1.000000</td>\n",
       "      <td>1.000000</td>\n",
       "      <td>0.000000</td>\n",
       "      <td>NaN</td>\n",
       "      <td>1.0</td>\n",
       "    </tr>\n",
       "    <tr>\n",
       "      <th>25%</th>\n",
       "      <td>1.0</td>\n",
       "      <td>0.000000</td>\n",
       "      <td>0.000000</td>\n",
       "      <td>0.000000</td>\n",
       "      <td>1982.000000</td>\n",
       "      <td>3.000000</td>\n",
       "      <td>1.000000</td>\n",
       "      <td>5.000000</td>\n",
       "      <td>1.000000</td>\n",
       "      <td>0.000000</td>\n",
       "      <td>NaN</td>\n",
       "      <td>1.0</td>\n",
       "    </tr>\n",
       "    <tr>\n",
       "      <th>50%</th>\n",
       "      <td>1.0</td>\n",
       "      <td>1.000000</td>\n",
       "      <td>0.000000</td>\n",
       "      <td>0.000000</td>\n",
       "      <td>1988.000000</td>\n",
       "      <td>24.000000</td>\n",
       "      <td>2.000000</td>\n",
       "      <td>18.000000</td>\n",
       "      <td>2.000000</td>\n",
       "      <td>0.000000</td>\n",
       "      <td>NaN</td>\n",
       "      <td>1.0</td>\n",
       "    </tr>\n",
       "    <tr>\n",
       "      <th>75%</th>\n",
       "      <td>1.0</td>\n",
       "      <td>1.000000</td>\n",
       "      <td>0.000000</td>\n",
       "      <td>0.000000</td>\n",
       "      <td>1991.000000</td>\n",
       "      <td>158.000000</td>\n",
       "      <td>4.000000</td>\n",
       "      <td>73.000000</td>\n",
       "      <td>4.000000</td>\n",
       "      <td>0.000000</td>\n",
       "      <td>NaN</td>\n",
       "      <td>1.0</td>\n",
       "    </tr>\n",
       "    <tr>\n",
       "      <th>max</th>\n",
       "      <td>1.0</td>\n",
       "      <td>1.000000</td>\n",
       "      <td>1.000000</td>\n",
       "      <td>1.000000</td>\n",
       "      <td>2013.000000</td>\n",
       "      <td>197757.000000</td>\n",
       "      <td>205.000000</td>\n",
       "      <td>98517.000000</td>\n",
       "      <td>48.000000</td>\n",
       "      <td>20.000000</td>\n",
       "      <td>NaN</td>\n",
       "      <td>1.0</td>\n",
       "    </tr>\n",
       "  </tbody>\n",
       "</table>\n",
       "</div>"
      ],
      "text/plain": [
       "       registered         viewed       explored      certified            YoB  \\\n",
       "count    641138.0  641138.000000  641138.000000  641138.000000  544533.000000   \n",
       "mean          1.0       0.624299       0.061899       0.027587    1985.253279   \n",
       "std           0.0       0.484304       0.240973       0.163786       8.891814   \n",
       "min           1.0       0.000000       0.000000       0.000000    1931.000000   \n",
       "25%           1.0       0.000000       0.000000       0.000000    1982.000000   \n",
       "50%           1.0       1.000000       0.000000       0.000000    1988.000000   \n",
       "75%           1.0       1.000000       0.000000       0.000000    1991.000000   \n",
       "max           1.0       1.000000       1.000000       1.000000    2013.000000   \n",
       "\n",
       "             nevents      ndays_act    nplay_video      nchapters  \\\n",
       "count  441987.000000  478395.000000  183608.000000  382385.000000   \n",
       "mean      431.008018       5.710254     114.844173       3.634423   \n",
       "std      1516.116057      11.866471     426.996844       4.490987   \n",
       "min         1.000000       1.000000       1.000000       1.000000   \n",
       "25%         3.000000       1.000000       5.000000       1.000000   \n",
       "50%        24.000000       2.000000      18.000000       2.000000   \n",
       "75%       158.000000       4.000000      73.000000       4.000000   \n",
       "max    197757.000000     205.000000   98517.000000      48.000000   \n",
       "\n",
       "        nforum_posts  roles  incomplete_flag  \n",
       "count  641138.000000    0.0         100161.0  \n",
       "mean        0.018968    NaN              1.0  \n",
       "std         0.229539    NaN              0.0  \n",
       "min         0.000000    NaN              1.0  \n",
       "25%         0.000000    NaN              1.0  \n",
       "50%         0.000000    NaN              1.0  \n",
       "75%         0.000000    NaN              1.0  \n",
       "max        20.000000    NaN              1.0  "
      ]
     },
     "execution_count": 3,
     "metadata": {},
     "output_type": "execute_result"
    }
   ],
   "source": [
    "students.describe()"
   ]
  },
  {
   "cell_type": "code",
   "execution_count": 4,
   "metadata": {},
   "outputs": [
    {
     "name": "stdout",
     "output_type": "stream",
     "text": [
      "<class 'pandas.core.frame.DataFrame'>\n",
      "RangeIndex: 641138 entries, 0 to 641137\n",
      "Data columns (total 20 columns):\n",
      "course_id            641138 non-null object\n",
      "userid_DI            641138 non-null object\n",
      "registered           641138 non-null int64\n",
      "viewed               641138 non-null int64\n",
      "explored             641138 non-null int64\n",
      "certified            641138 non-null int64\n",
      "final_cc_cname_DI    641138 non-null object\n",
      "LoE_DI               535130 non-null object\n",
      "YoB                  544533 non-null float64\n",
      "gender               554332 non-null object\n",
      "grade                592766 non-null object\n",
      "start_time_DI        641138 non-null object\n",
      "last_event_DI        462184 non-null object\n",
      "nevents              441987 non-null float64\n",
      "ndays_act            478395 non-null float64\n",
      "nplay_video          183608 non-null float64\n",
      "nchapters            382385 non-null float64\n",
      "nforum_posts         641138 non-null int64\n",
      "roles                0 non-null float64\n",
      "incomplete_flag      100161 non-null float64\n",
      "dtypes: float64(7), int64(5), object(8)\n",
      "memory usage: 97.8+ MB\n"
     ]
    }
   ],
   "source": [
    "students.info()"
   ]
  },
  {
   "cell_type": "code",
   "execution_count": 5,
   "metadata": {},
   "outputs": [
    {
     "data": {
      "text/html": [
       "<div>\n",
       "<style scoped>\n",
       "    .dataframe tbody tr th:only-of-type {\n",
       "        vertical-align: middle;\n",
       "    }\n",
       "\n",
       "    .dataframe tbody tr th {\n",
       "        vertical-align: top;\n",
       "    }\n",
       "\n",
       "    .dataframe thead th {\n",
       "        text-align: right;\n",
       "    }\n",
       "</style>\n",
       "<table border=\"1\" class=\"dataframe\">\n",
       "  <thead>\n",
       "    <tr style=\"text-align: right;\">\n",
       "      <th></th>\n",
       "      <th>course_id</th>\n",
       "      <th>userid_DI</th>\n",
       "      <th>registered</th>\n",
       "      <th>viewed</th>\n",
       "      <th>explored</th>\n",
       "      <th>certified</th>\n",
       "      <th>final_cc_cname_DI</th>\n",
       "      <th>LoE_DI</th>\n",
       "      <th>YoB</th>\n",
       "      <th>gender</th>\n",
       "      <th>grade</th>\n",
       "      <th>start_time_DI</th>\n",
       "      <th>last_event_DI</th>\n",
       "      <th>nevents</th>\n",
       "      <th>ndays_act</th>\n",
       "      <th>nplay_video</th>\n",
       "      <th>nchapters</th>\n",
       "      <th>nforum_posts</th>\n",
       "      <th>roles</th>\n",
       "      <th>incomplete_flag</th>\n",
       "    </tr>\n",
       "  </thead>\n",
       "  <tbody>\n",
       "    <tr>\n",
       "      <th>0</th>\n",
       "      <td>HarvardX/CB22x/2013_Spring</td>\n",
       "      <td>MHxPC130442623</td>\n",
       "      <td>1</td>\n",
       "      <td>0</td>\n",
       "      <td>0</td>\n",
       "      <td>0</td>\n",
       "      <td>United States</td>\n",
       "      <td>NaN</td>\n",
       "      <td>NaN</td>\n",
       "      <td>NaN</td>\n",
       "      <td>0</td>\n",
       "      <td>2012-12-19</td>\n",
       "      <td>2013-11-17</td>\n",
       "      <td>NaN</td>\n",
       "      <td>9.0</td>\n",
       "      <td>NaN</td>\n",
       "      <td>NaN</td>\n",
       "      <td>0</td>\n",
       "      <td>NaN</td>\n",
       "      <td>1.0</td>\n",
       "    </tr>\n",
       "    <tr>\n",
       "      <th>1</th>\n",
       "      <td>HarvardX/CS50x/2012</td>\n",
       "      <td>MHxPC130442623</td>\n",
       "      <td>1</td>\n",
       "      <td>1</td>\n",
       "      <td>0</td>\n",
       "      <td>0</td>\n",
       "      <td>United States</td>\n",
       "      <td>NaN</td>\n",
       "      <td>NaN</td>\n",
       "      <td>NaN</td>\n",
       "      <td>0</td>\n",
       "      <td>2012-10-15</td>\n",
       "      <td>NaN</td>\n",
       "      <td>NaN</td>\n",
       "      <td>9.0</td>\n",
       "      <td>NaN</td>\n",
       "      <td>1.0</td>\n",
       "      <td>0</td>\n",
       "      <td>NaN</td>\n",
       "      <td>1.0</td>\n",
       "    </tr>\n",
       "    <tr>\n",
       "      <th>2</th>\n",
       "      <td>HarvardX/CB22x/2013_Spring</td>\n",
       "      <td>MHxPC130275857</td>\n",
       "      <td>1</td>\n",
       "      <td>0</td>\n",
       "      <td>0</td>\n",
       "      <td>0</td>\n",
       "      <td>United States</td>\n",
       "      <td>NaN</td>\n",
       "      <td>NaN</td>\n",
       "      <td>NaN</td>\n",
       "      <td>0</td>\n",
       "      <td>2013-02-08</td>\n",
       "      <td>2013-11-17</td>\n",
       "      <td>NaN</td>\n",
       "      <td>16.0</td>\n",
       "      <td>NaN</td>\n",
       "      <td>NaN</td>\n",
       "      <td>0</td>\n",
       "      <td>NaN</td>\n",
       "      <td>1.0</td>\n",
       "    </tr>\n",
       "    <tr>\n",
       "      <th>3</th>\n",
       "      <td>HarvardX/CS50x/2012</td>\n",
       "      <td>MHxPC130275857</td>\n",
       "      <td>1</td>\n",
       "      <td>0</td>\n",
       "      <td>0</td>\n",
       "      <td>0</td>\n",
       "      <td>United States</td>\n",
       "      <td>NaN</td>\n",
       "      <td>NaN</td>\n",
       "      <td>NaN</td>\n",
       "      <td>0</td>\n",
       "      <td>2012-09-17</td>\n",
       "      <td>NaN</td>\n",
       "      <td>NaN</td>\n",
       "      <td>16.0</td>\n",
       "      <td>NaN</td>\n",
       "      <td>NaN</td>\n",
       "      <td>0</td>\n",
       "      <td>NaN</td>\n",
       "      <td>1.0</td>\n",
       "    </tr>\n",
       "    <tr>\n",
       "      <th>4</th>\n",
       "      <td>HarvardX/ER22x/2013_Spring</td>\n",
       "      <td>MHxPC130275857</td>\n",
       "      <td>1</td>\n",
       "      <td>0</td>\n",
       "      <td>0</td>\n",
       "      <td>0</td>\n",
       "      <td>United States</td>\n",
       "      <td>NaN</td>\n",
       "      <td>NaN</td>\n",
       "      <td>NaN</td>\n",
       "      <td>0</td>\n",
       "      <td>2012-12-19</td>\n",
       "      <td>NaN</td>\n",
       "      <td>NaN</td>\n",
       "      <td>16.0</td>\n",
       "      <td>NaN</td>\n",
       "      <td>NaN</td>\n",
       "      <td>0</td>\n",
       "      <td>NaN</td>\n",
       "      <td>1.0</td>\n",
       "    </tr>\n",
       "  </tbody>\n",
       "</table>\n",
       "</div>"
      ],
      "text/plain": [
       "                    course_id       userid_DI  registered  viewed  explored  \\\n",
       "0  HarvardX/CB22x/2013_Spring  MHxPC130442623           1       0         0   \n",
       "1         HarvardX/CS50x/2012  MHxPC130442623           1       1         0   \n",
       "2  HarvardX/CB22x/2013_Spring  MHxPC130275857           1       0         0   \n",
       "3         HarvardX/CS50x/2012  MHxPC130275857           1       0         0   \n",
       "4  HarvardX/ER22x/2013_Spring  MHxPC130275857           1       0         0   \n",
       "\n",
       "   certified final_cc_cname_DI LoE_DI  YoB gender grade start_time_DI  \\\n",
       "0          0     United States    NaN  NaN    NaN     0    2012-12-19   \n",
       "1          0     United States    NaN  NaN    NaN     0    2012-10-15   \n",
       "2          0     United States    NaN  NaN    NaN     0    2013-02-08   \n",
       "3          0     United States    NaN  NaN    NaN     0    2012-09-17   \n",
       "4          0     United States    NaN  NaN    NaN     0    2012-12-19   \n",
       "\n",
       "  last_event_DI  nevents  ndays_act  nplay_video  nchapters  nforum_posts  \\\n",
       "0    2013-11-17      NaN        9.0          NaN        NaN             0   \n",
       "1           NaN      NaN        9.0          NaN        1.0             0   \n",
       "2    2013-11-17      NaN       16.0          NaN        NaN             0   \n",
       "3           NaN      NaN       16.0          NaN        NaN             0   \n",
       "4           NaN      NaN       16.0          NaN        NaN             0   \n",
       "\n",
       "   roles  incomplete_flag  \n",
       "0    NaN              1.0  \n",
       "1    NaN              1.0  \n",
       "2    NaN              1.0  \n",
       "3    NaN              1.0  \n",
       "4    NaN              1.0  "
      ]
     },
     "execution_count": 5,
     "metadata": {},
     "output_type": "execute_result"
    }
   ],
   "source": [
    "students.head()"
   ]
  },
  {
   "cell_type": "code",
   "execution_count": 6,
   "metadata": {},
   "outputs": [
    {
     "name": "stdout",
     "output_type": "stream",
     "text": [
      "\n",
      "The value table for course_id is:\n",
      "HarvardX/CS50x/2012            169621\n",
      "MITx/6.00x/2012_Fall            66731\n",
      "MITx/6.00x/2013_Spring          57715\n",
      "HarvardX/ER22x/2013_Spring      57406\n",
      "HarvardX/PH207x/2012_Fall       41592\n",
      "MITx/6.002x/2012_Fall           40811\n",
      "HarvardX/PH278x/2013_Spring     39602\n",
      "MITx/8.02x/2013_Spring          31048\n",
      "HarvardX/CB22x/2013_Spring      30002\n",
      "MITx/14.73x/2013_Spring         27870\n",
      "MITx/6.002x/2013_Spring         22235\n",
      "MITx/7.00x/2013_Spring          21009\n",
      "MITx/3.091x/2012_Fall           14215\n",
      "MITx/8.MReV/2013_Summer          9477\n",
      "MITx/3.091x/2013_Spring          6139\n",
      "MITx/2.01x/2013_Spring           5665\n",
      "Name: course_id, dtype: int64\n",
      "\n",
      "The value table for userid_DI is:\n",
      "MHxPC130394596    16\n",
      "MHxPC130200926    16\n",
      "MHxPC130388108    16\n",
      "MHxPC130126780    16\n",
      "MHxPC130592976    16\n",
      "MHxPC130027283    16\n",
      "MHxPC130121287    16\n",
      "MHxPC130574097    16\n",
      "MHxPC130208203    16\n",
      "MHxPC130183602    16\n",
      "MHxPC130309858    16\n",
      "MHxPC130464954    16\n",
      "MHxPC130505428    16\n",
      "MHxPC130357903    16\n",
      "MHxPC130490962    16\n",
      "MHxPC130103410    16\n",
      "MHxPC130362373    16\n",
      "MHxPC130517983    16\n",
      "MHxPC130594562    16\n",
      "MHxPC130232546    16\n",
      "MHxPC130522464    15\n",
      "MHxPC130203535    15\n",
      "MHxPC130105631    15\n",
      "MHxPC130505370    15\n",
      "MHxPC130571193    15\n",
      "MHxPC130059641    15\n",
      "MHxPC130165828    15\n",
      "MHxPC130043781    15\n",
      "MHxPC130520285    15\n",
      "MHxPC130024894    15\n",
      "                  ..\n",
      "MHxPC130584012     1\n",
      "MHxPC130147522     1\n",
      "MHxPC130335789     1\n",
      "MHxPC130363631     1\n",
      "MHxPC130581253     1\n",
      "MHxPC130235596     1\n",
      "MHxPC130415016     1\n",
      "MHxPC130272972     1\n",
      "MHxPC130071009     1\n",
      "MHxPC130293607     1\n",
      "MHxPC130086527     1\n",
      "MHxPC130504974     1\n",
      "MHxPC130365540     1\n",
      "MHxPC130172315     1\n",
      "MHxPC130040060     1\n",
      "MHxPC130172316     1\n",
      "MHxPC130168519     1\n",
      "MHxPC130469124     1\n",
      "MHxPC130411379     1\n",
      "MHxPC130420281     1\n",
      "MHxPC130302770     1\n",
      "MHxPC130484454     1\n",
      "MHxPC130417407     1\n",
      "MHxPC130442605     1\n",
      "MHxPC130493201     1\n",
      "MHxPC130127334     1\n",
      "MHxPC130479072     1\n",
      "MHxPC130305112     1\n",
      "MHxPC130307083     1\n",
      "MHxPC130134147     1\n",
      "Name: userid_DI, Length: 476532, dtype: int64\n",
      "\n",
      "The value table for registered is:\n",
      "1    641138\n",
      "Name: registered, dtype: int64\n",
      "\n",
      "The value table for viewed is:\n",
      "1    400262\n",
      "0    240876\n",
      "Name: viewed, dtype: int64\n",
      "\n",
      "The value table for explored is:\n",
      "0    601452\n",
      "1     39686\n",
      "Name: explored, dtype: int64\n",
      "\n",
      "The value table for certified is:\n",
      "0    623451\n",
      "1     17687\n",
      "Name: certified, dtype: int64\n",
      "\n",
      "The value table for final_cc_cname_DI is:\n",
      "United States                             184240\n",
      "India                                      88696\n",
      "Unknown/Other                              82029\n",
      "Other Europe                               40377\n",
      "Other Africa                               23897\n",
      "United Kingdom                             22131\n",
      "Brazil                                     17856\n",
      "Other Middle East/Central Asia             17325\n",
      "Other South Asia                           12992\n",
      "Canada                                     12738\n",
      "Pakistan                                   10824\n",
      "Russian Federation                         10432\n",
      "Spain                                      10003\n",
      "Other South America                         9916\n",
      "Egypt                                       9286\n",
      "Germany                                     8074\n",
      "Nigeria                                     7483\n",
      "Other East Asia                             6446\n",
      "Australia                                   6419\n",
      "Mexico                                      5638\n",
      "Philippines                                 5374\n",
      "Poland                                      5226\n",
      "China                                       5170\n",
      "Greece                                      5162\n",
      "Colombia                                    4803\n",
      "France                                      4700\n",
      "Other North & Central Amer., Caribbean      4434\n",
      "Ukraine                                     4100\n",
      "Morocco                                     3966\n",
      "Indonesia                                   3410\n",
      "Bangladesh                                  3182\n",
      "Japan                                       2270\n",
      "Portugal                                    2193\n",
      "Other Oceania                                346\n",
      "Name: final_cc_cname_DI, dtype: int64\n",
      "\n",
      "The value table for LoE_DI is:\n",
      "Bachelor's             219768\n",
      "Secondary              169694\n",
      "Master's               118189\n",
      "Less than Secondary     14092\n",
      "Doctorate               13387\n",
      "Name: LoE_DI, dtype: int64\n",
      "\n",
      "The value table for YoB is:\n",
      "1990.0    38524\n",
      "1992.0    37846\n",
      "1991.0    37544\n",
      "1989.0    36831\n",
      "1988.0    34436\n",
      "1993.0    33999\n",
      "1987.0    31313\n",
      "1986.0    28725\n",
      "1985.0    25539\n",
      "1994.0    23921\n",
      "1984.0    22138\n",
      "1983.0    18869\n",
      "1982.0    16867\n",
      "1981.0    14477\n",
      "1980.0    13806\n",
      "1995.0    13806\n",
      "1979.0    10954\n",
      "1978.0     9383\n",
      "1977.0     8312\n",
      "1996.0     7754\n",
      "1976.0     7131\n",
      "1975.0     6174\n",
      "1974.0     5596\n",
      "1973.0     4740\n",
      "1972.0     4493\n",
      "1997.0     4082\n",
      "1970.0     4075\n",
      "1971.0     3878\n",
      "1969.0     3296\n",
      "1968.0     3010\n",
      "          ...  \n",
      "1951.0      667\n",
      "1950.0      656\n",
      "1949.0      500\n",
      "2012.0      472\n",
      "1947.0      460\n",
      "1948.0      365\n",
      "2000.0      340\n",
      "1946.0      331\n",
      "1943.0      223\n",
      "1944.0      221\n",
      "1945.0      216\n",
      "1942.0      196\n",
      "2001.0      142\n",
      "1941.0       96\n",
      "1940.0       92\n",
      "1939.0       86\n",
      "1938.0       74\n",
      "1937.0       64\n",
      "2013.0       61\n",
      "2002.0       45\n",
      "1936.0       43\n",
      "1935.0       36\n",
      "2011.0       34\n",
      "2010.0       17\n",
      "2003.0       10\n",
      "2008.0       10\n",
      "2009.0        8\n",
      "1931.0        7\n",
      "2007.0        6\n",
      "1934.0        5\n",
      "Name: YoB, Length: 78, dtype: int64\n",
      "\n",
      "The value table for gender is:\n",
      "m    411520\n",
      "f    142795\n",
      "o        17\n",
      "Name: gender, dtype: int64\n",
      "\n",
      "The value table for grade is:\n",
      "0       490868\n",
      "0.01     19891\n",
      "0.0      18525\n",
      "          9028\n",
      "0.02      5417\n",
      "0.03      4769\n",
      "0.04      3912\n",
      "0.05      2238\n",
      "0.06      2203\n",
      "1         2010\n",
      "0.07      1330\n",
      "0.09      1293\n",
      "0.08      1069\n",
      "0.1        817\n",
      "0.13       753\n",
      "0.11       705\n",
      "0.12       680\n",
      "0.89       586\n",
      "0.91       575\n",
      "0.93       551\n",
      "0.15       547\n",
      "0.88       545\n",
      "0.9        541\n",
      "0.96       535\n",
      "0.14       518\n",
      "0.87       507\n",
      "0.97       504\n",
      "0.92       502\n",
      "0.99       502\n",
      "0.94       497\n",
      "         ...  \n",
      "0.65       250\n",
      "0.61       250\n",
      "0.34       249\n",
      "0.6        238\n",
      "0.39       226\n",
      "0.38       226\n",
      "0.4        217\n",
      "0.36       214\n",
      "0.37       213\n",
      "0.35       208\n",
      "0.42       184\n",
      "0.56       182\n",
      "0.57       174\n",
      "0.45       174\n",
      "0.55       173\n",
      "0.46       170\n",
      "0.5        170\n",
      "0.53       167\n",
      "0.59       165\n",
      "0.51       160\n",
      "0.43       157\n",
      "0.47       155\n",
      "0.41       155\n",
      "0.58       153\n",
      "0.44       149\n",
      "0.54       145\n",
      "0.52       142\n",
      "0.48       139\n",
      "0.49       118\n",
      "1.01         6\n",
      "Name: grade, Length: 104, dtype: int64\n",
      "\n",
      "The value table for start_time_DI is:\n",
      "2012-08-17    10165\n",
      "2013-01-23     8368\n",
      "2012-10-15     6766\n",
      "2012-08-16     6369\n",
      "2012-12-20     5858\n",
      "2013-02-14     5810\n",
      "2012-12-21     5809\n",
      "2012-08-18     5531\n",
      "2012-08-13     5247\n",
      "2013-03-03     5053\n",
      "2012-10-16     4639\n",
      "2012-07-24     4635\n",
      "2013-02-15     4436\n",
      "2013-01-22     4263\n",
      "2012-08-20     4107\n",
      "2012-10-03     3885\n",
      "2012-10-14     3683\n",
      "2013-01-24     3493\n",
      "2012-09-04     3432\n",
      "2013-02-12     3409\n",
      "2012-08-21     3381\n",
      "2012-08-19     3375\n",
      "2012-07-25     3356\n",
      "2013-02-21     3344\n",
      "2012-09-05     3334\n",
      "2012-09-12     3325\n",
      "2013-02-04     3315\n",
      "2013-01-31     3290\n",
      "2012-10-17     3106\n",
      "2013-02-18     3076\n",
      "              ...  \n",
      "2013-06-23      460\n",
      "2013-07-17      459\n",
      "2012-12-16      452\n",
      "2013-09-07      450\n",
      "2013-07-24      443\n",
      "2013-08-17      441\n",
      "2013-06-30      440\n",
      "2013-07-16      437\n",
      "2013-06-29      434\n",
      "2013-07-22      432\n",
      "2013-08-11      431\n",
      "2013-08-10      423\n",
      "2013-06-28      410\n",
      "2013-07-21      400\n",
      "2013-07-11      399\n",
      "2013-07-15      396\n",
      "2013-07-18      390\n",
      "2013-07-10      386\n",
      "2013-07-20      378\n",
      "2013-07-09      374\n",
      "2013-07-08      365\n",
      "2013-07-04      357\n",
      "2013-07-12      334\n",
      "2013-07-05      307\n",
      "2013-07-14      279\n",
      "2013-07-13      275\n",
      "2013-07-06      274\n",
      "2013-07-07      273\n",
      "2012-07-23        5\n",
      "2013-09-08        1\n",
      "Name: start_time_DI, Length: 413, dtype: int64\n",
      "\n",
      "The value table for last_event_DI is:\n",
      "2013-11-17    7046\n",
      "2013-03-13    4747\n",
      "2013-03-14    3470\n",
      "2012-10-16    3339\n",
      "2012-10-15    3125\n",
      "2013-03-12    3033\n",
      "2013-03-30    2903\n",
      "2013-02-15    2896\n",
      "2013-03-19    2888\n",
      "2013-03-06    2829\n",
      "2013-03-18    2815\n",
      "2013-02-14    2738\n",
      "2013-02-19    2710\n",
      "2013-01-23    2675\n",
      "2013-03-20    2666\n",
      "2013-03-15    2636\n",
      "2013-02-21    2524\n",
      "2013-03-04    2497\n",
      "2013-02-18    2433\n",
      "2013-03-25    2428\n",
      "2013-03-05    2418\n",
      "2013-02-20    2396\n",
      "2013-03-07    2377\n",
      "2013-02-12    2326\n",
      "2012-10-03    2302\n",
      "2013-02-13    2254\n",
      "2013-05-15    2243\n",
      "2013-04-01    2235\n",
      "2013-02-27    2226\n",
      "2013-03-21    2224\n",
      "              ... \n",
      "2012-08-15     351\n",
      "2012-08-26     350\n",
      "2012-12-29     347\n",
      "2012-07-31     339\n",
      "2012-12-30     335\n",
      "2012-12-02     334\n",
      "2012-11-30     333\n",
      "2012-07-28     324\n",
      "2012-09-02     320\n",
      "2012-12-01     319\n",
      "2012-08-25     295\n",
      "2012-09-01     284\n",
      "2012-08-07     275\n",
      "2012-12-18     273\n",
      "2012-12-13     273\n",
      "2012-12-14     257\n",
      "2012-12-17     253\n",
      "2012-08-01     252\n",
      "2012-08-02     246\n",
      "2012-12-16     244\n",
      "2012-12-15     238\n",
      "2012-08-06     234\n",
      "2012-08-09     233\n",
      "2012-12-19     228\n",
      "2012-08-08     227\n",
      "2012-08-10     205\n",
      "2012-08-11     202\n",
      "2012-08-03     177\n",
      "2012-08-04     172\n",
      "2012-08-05     141\n",
      "Name: last_event_DI, Length: 404, dtype: int64\n",
      "\n",
      "The value table for nevents is:\n",
      "1.0        63565\n",
      "2.0        34329\n",
      "3.0        17669\n",
      "4.0        12217\n",
      "5.0         9850\n",
      "6.0         8480\n",
      "7.0         7259\n",
      "8.0         6648\n",
      "9.0         6076\n",
      "10.0        5621\n",
      "11.0        5197\n",
      "12.0        4870\n",
      "13.0        4476\n",
      "14.0        4222\n",
      "15.0        3891\n",
      "16.0        3808\n",
      "17.0        3545\n",
      "18.0        3349\n",
      "19.0        3144\n",
      "20.0        3064\n",
      "21.0        2956\n",
      "22.0        2795\n",
      "24.0        2621\n",
      "23.0        2578\n",
      "25.0        2420\n",
      "26.0        2391\n",
      "27.0        2216\n",
      "28.0        2170\n",
      "29.0        2122\n",
      "30.0        2079\n",
      "           ...  \n",
      "13018.0        1\n",
      "6761.0         1\n",
      "3809.0         1\n",
      "13009.0        1\n",
      "11960.0        1\n",
      "13005.0        1\n",
      "11028.0        1\n",
      "12989.0        1\n",
      "12978.0        1\n",
      "12977.0        1\n",
      "6770.0         1\n",
      "12975.0        1\n",
      "12973.0        1\n",
      "6775.0         1\n",
      "12915.0        1\n",
      "12958.0        1\n",
      "6952.0         1\n",
      "12953.0        1\n",
      "6777.0         1\n",
      "14668.0        1\n",
      "11024.0        1\n",
      "16752.0        1\n",
      "3235.0         1\n",
      "6376.0         1\n",
      "12934.0        1\n",
      "12820.0        1\n",
      "12925.0        1\n",
      "12922.0        1\n",
      "12919.0        1\n",
      "10436.0        1\n",
      "Name: nevents, Length: 10609, dtype: int64\n",
      "\n",
      "The value table for ndays_act is:\n",
      "1.0      209941\n",
      "2.0       80625\n",
      "3.0       43081\n",
      "4.0       26813\n",
      "5.0       18552\n",
      "6.0       13239\n",
      "7.0       10281\n",
      "8.0        8075\n",
      "9.0        6510\n",
      "10.0       5324\n",
      "11.0       4415\n",
      "12.0       3815\n",
      "13.0       3323\n",
      "14.0       2794\n",
      "15.0       2542\n",
      "16.0       2146\n",
      "17.0       2002\n",
      "18.0       1852\n",
      "19.0       1564\n",
      "20.0       1497\n",
      "21.0       1339\n",
      "22.0       1309\n",
      "23.0       1207\n",
      "24.0       1093\n",
      "25.0       1027\n",
      "26.0        947\n",
      "28.0        891\n",
      "27.0        887\n",
      "29.0        838\n",
      "30.0        806\n",
      "          ...  \n",
      "132.0         4\n",
      "138.0         4\n",
      "133.0         4\n",
      "125.0         4\n",
      "131.0         4\n",
      "143.0         4\n",
      "127.0         4\n",
      "155.0         3\n",
      "129.0         3\n",
      "147.0         3\n",
      "134.0         3\n",
      "142.0         2\n",
      "159.0         2\n",
      "135.0         2\n",
      "157.0         1\n",
      "148.0         1\n",
      "165.0         1\n",
      "162.0         1\n",
      "158.0         1\n",
      "150.0         1\n",
      "137.0         1\n",
      "149.0         1\n",
      "139.0         1\n",
      "160.0         1\n",
      "205.0         1\n",
      "140.0         1\n",
      "151.0         1\n",
      "176.0         1\n",
      "144.0         1\n",
      "153.0         1\n",
      "Name: ndays_act, Length: 159, dtype: int64\n",
      "\n",
      "The value table for nplay_video is:\n",
      "1.0       16968\n",
      "2.0       11000\n",
      "3.0        8371\n",
      "4.0        6995\n",
      "5.0        5992\n",
      "6.0        5373\n",
      "7.0        4714\n",
      "8.0        4296\n",
      "9.0        4076\n",
      "10.0       3620\n",
      "11.0       3453\n",
      "12.0       3187\n",
      "13.0       2853\n",
      "14.0       2641\n",
      "15.0       2453\n",
      "16.0       2401\n",
      "17.0       2138\n",
      "18.0       2085\n",
      "19.0       1887\n",
      "20.0       1835\n",
      "21.0       1803\n",
      "22.0       1671\n",
      "23.0       1565\n",
      "25.0       1553\n",
      "24.0       1501\n",
      "26.0       1412\n",
      "27.0       1330\n",
      "28.0       1219\n",
      "30.0       1205\n",
      "29.0       1179\n",
      "          ...  \n",
      "4562.0        1\n",
      "2925.0        1\n",
      "2902.0        1\n",
      "4485.0        1\n",
      "2922.0        1\n",
      "2312.0        1\n",
      "1842.0        1\n",
      "4486.0        1\n",
      "1624.0        1\n",
      "2913.0        1\n",
      "4515.0        1\n",
      "1843.0        1\n",
      "2909.0        1\n",
      "4521.0        1\n",
      "1847.0        1\n",
      "2901.0        1\n",
      "2887.0        1\n",
      "2898.0        1\n",
      "2128.0        1\n",
      "4534.0        1\n",
      "2895.0        1\n",
      "3796.0        1\n",
      "2316.0        1\n",
      "6707.0        1\n",
      "2891.0        1\n",
      "2890.0        1\n",
      "3952.0        1\n",
      "4548.0        1\n",
      "4561.0        1\n",
      "4178.0        1\n",
      "Name: nplay_video, Length: 2728, dtype: int64\n",
      "\n",
      "The value table for nchapters is:\n",
      "1.0     121837\n",
      "2.0     110085\n",
      "3.0      52296\n",
      "4.0      24937\n",
      "5.0      13838\n",
      "6.0       8536\n",
      "12.0      7987\n",
      "7.0       6556\n",
      "8.0       5009\n",
      "9.0       4091\n",
      "10.0      3598\n",
      "18.0      3411\n",
      "11.0      3258\n",
      "16.0      2890\n",
      "15.0      2684\n",
      "13.0      2053\n",
      "14.0      2021\n",
      "17.0      1877\n",
      "32.0       657\n",
      "20.0       624\n",
      "33.0       511\n",
      "19.0       473\n",
      "21.0       424\n",
      "31.0       385\n",
      "27.0       352\n",
      "26.0       339\n",
      "34.0       271\n",
      "25.0       250\n",
      "28.0       193\n",
      "30.0       181\n",
      "29.0       179\n",
      "24.0       157\n",
      "22.0       150\n",
      "23.0       149\n",
      "36.0        23\n",
      "35.0        16\n",
      "37.0        15\n",
      "40.0        12\n",
      "42.0        11\n",
      "39.0        10\n",
      "38.0         8\n",
      "43.0         6\n",
      "48.0         6\n",
      "41.0         5\n",
      "47.0         5\n",
      "45.0         3\n",
      "46.0         3\n",
      "44.0         3\n",
      "Name: nchapters, dtype: int64\n",
      "\n",
      "The value table for nforum_posts is:\n",
      "0     633677\n",
      "1       4996\n",
      "2       1496\n",
      "3        483\n",
      "4        197\n",
      "5        129\n",
      "6         88\n",
      "8         18\n",
      "7         15\n",
      "13        13\n",
      "9         10\n",
      "20         6\n",
      "15         5\n",
      "12         5\n",
      "Name: nforum_posts, dtype: int64\n",
      "\n",
      "The value table for roles is:\n",
      "Series([], Name: roles, dtype: int64)\n",
      "\n",
      "The value table for incomplete_flag is:\n",
      "1.0    100161\n",
      "Name: incomplete_flag, dtype: int64\n"
     ]
    }
   ],
   "source": [
    "#generate table of values for each column \n",
    "\n",
    "for name in students.columns.values:\n",
    "    print(f\"\\nThe value table for {name} is:\")\n",
    "    print(students[name].value_counts())"
   ]
  },
  {
   "cell_type": "markdown",
   "metadata": {},
   "source": [
    "__Notes:__\n",
    "\n",
    "* Perform string split on course_id to extract more useful information\n",
    "* registered is a superflous variable\n",
    "* viewed to explored could be a measure of engagement, but it doesn't seem like a priority\n",
    "* explored seems like the metric to focus on\n",
    "* make country data less granular\n",
    "* lots of missing values. Try to infer if there is anything systemic about it.\n",
    "* Think about how to standardize grade. Z standardization is probably the way to go.\n",
    "* look at delta between start time and last event\n",
    "* Brainstorm ideas for _Nevents_ variable\n",
    "* nplay video is interesting, because it could be a positive sign of engagement or a sign of confusion\n",
    "* look into nchapters, might be misleading if chapters vary significantly in length\n",
    "* nforum_posts is a clear engagement metric\n",
    "* _roles_ should be removed\n",
    "* brainstorm ideas to deal with inconsistent data\n"
   ]
  },
  {
   "cell_type": "markdown",
   "metadata": {},
   "source": [
    "# Treat Data"
   ]
  },
  {
   "cell_type": "code",
   "execution_count": 7,
   "metadata": {},
   "outputs": [],
   "source": [
    "#drop unnecessary columns\n",
    "students = students.drop(['registered', 'roles'], axis=1)"
   ]
  },
  {
   "cell_type": "code",
   "execution_count": 8,
   "metadata": {},
   "outputs": [],
   "source": [
    "#Remove rows with inconsistent flags\n",
    "#There is still enough data to work with, and not worth skewing results over bad data\n",
    "students = students.drop(students[students.incomplete_flag == 1].index)"
   ]
  },
  {
   "cell_type": "code",
   "execution_count": 9,
   "metadata": {},
   "outputs": [],
   "source": [
    "#split course ID\n",
    "students['university'] = students.course_id.str.split(\"/\").str[0]\n",
    "students['course'] = students.course_id.str.split(\"/\").str[1]\n",
    "students['course_variant'] = students.course_id.str.split(\"/\").str[2]"
   ]
  },
  {
   "cell_type": "code",
   "execution_count": 10,
   "metadata": {},
   "outputs": [],
   "source": [
    "#standardize chapters (courses vary in length, so it makes more sense to look at chapters as a %)\n",
    "#define function to map chapters to percentage\n",
    "\n",
    "max_chapter_dict = students.groupby(['course_id']).nchapters.max().to_dict()\n",
    "\n",
    "def chapter_percentage(df):\n",
    "    \"\"\"\"function that maps the number of chapters completed by a student to the \n",
    "    percentage of the max chapters completed for the corresponding course\n",
    "    \"\"\"\n",
    "    max_chapter = max_chapter_dict[df['course_id']]\n",
    "    max_chapter = float(max_chapter)\n",
    "    chapter_percentage = float(df['nchapters'])/max_chapter\n",
    "    return chapter_percentage\n",
    "\n",
    "#create new % column\n",
    "students[\"chapter_percent\"] = students.apply(chapter_percentage, axis=1)"
   ]
  },
  {
   "cell_type": "code",
   "execution_count": 11,
   "metadata": {},
   "outputs": [],
   "source": [
    "#Map regions to continents\n"
   ]
  },
  {
   "cell_type": "code",
   "execution_count": 12,
   "metadata": {},
   "outputs": [
    {
     "name": "stderr",
     "output_type": "stream",
     "text": [
      "/anaconda3/lib/python3.7/site-packages/ipykernel_launcher.py:2: SettingWithCopyWarning: \n",
      "A value is trying to be set on a copy of a slice from a DataFrame\n",
      "\n",
      "See the caveats in the documentation: http://pandas.pydata.org/pandas-docs/stable/indexing.html#indexing-view-versus-copy\n",
      "  \n"
     ]
    }
   ],
   "source": [
    "#Replace NaN values with 1 for n_days based on active_interval\n",
    "students.ndays_act[np.isnan(students.ndays_act)] = 1"
   ]
  },
  {
   "cell_type": "code",
   "execution_count": 13,
   "metadata": {},
   "outputs": [],
   "source": [
    "#change LoE to numerical ranking\n",
    "education_dict = {\"LoE_DI\":{'Less than Secondary':0, 'Secondary':1,\n",
    "                 \"Bachelor's\":2, \"Master's\":3, \"Doctorate\":4}}\n",
    "students.replace(education_dict, inplace=True)\n",
    "\n",
    "#too few o genders, will just lead to overfiting\n",
    "students = students.drop(students[students.gender == 'o'].index) \n"
   ]
  },
  {
   "cell_type": "code",
   "execution_count": 14,
   "metadata": {},
   "outputs": [
    {
     "data": {
      "text/html": [
       "<div>\n",
       "<style scoped>\n",
       "    .dataframe tbody tr th:only-of-type {\n",
       "        vertical-align: middle;\n",
       "    }\n",
       "\n",
       "    .dataframe tbody tr th {\n",
       "        vertical-align: top;\n",
       "    }\n",
       "\n",
       "    .dataframe thead th {\n",
       "        text-align: right;\n",
       "    }\n",
       "</style>\n",
       "<table border=\"1\" class=\"dataframe\">\n",
       "  <thead>\n",
       "    <tr style=\"text-align: right;\">\n",
       "      <th></th>\n",
       "      <th>count</th>\n",
       "      <th>mean</th>\n",
       "      <th>std</th>\n",
       "      <th>min</th>\n",
       "      <th>25%</th>\n",
       "      <th>50%</th>\n",
       "      <th>75%</th>\n",
       "      <th>max</th>\n",
       "    </tr>\n",
       "    <tr>\n",
       "      <th>course_id</th>\n",
       "      <th></th>\n",
       "      <th></th>\n",
       "      <th></th>\n",
       "      <th></th>\n",
       "      <th></th>\n",
       "      <th></th>\n",
       "      <th></th>\n",
       "      <th></th>\n",
       "    </tr>\n",
       "  </thead>\n",
       "  <tbody>\n",
       "    <tr>\n",
       "      <th>HarvardX/CB22x/2013_Spring</th>\n",
       "      <td>2125.0</td>\n",
       "      <td>0.190151</td>\n",
       "      <td>0.273948</td>\n",
       "      <td>0.01</td>\n",
       "      <td>0.02</td>\n",
       "      <td>0.05</td>\n",
       "      <td>0.20</td>\n",
       "      <td>1.00</td>\n",
       "    </tr>\n",
       "    <tr>\n",
       "      <th>HarvardX/CS50x/2012</th>\n",
       "      <td>1286.0</td>\n",
       "      <td>1.000000</td>\n",
       "      <td>0.000000</td>\n",
       "      <td>1.00</td>\n",
       "      <td>1.00</td>\n",
       "      <td>1.00</td>\n",
       "      <td>1.00</td>\n",
       "      <td>1.00</td>\n",
       "    </tr>\n",
       "    <tr>\n",
       "      <th>HarvardX/ER22x/2013_Spring</th>\n",
       "      <td>5686.0</td>\n",
       "      <td>0.405900</td>\n",
       "      <td>0.371357</td>\n",
       "      <td>0.01</td>\n",
       "      <td>0.04</td>\n",
       "      <td>0.26</td>\n",
       "      <td>0.79</td>\n",
       "      <td>1.00</td>\n",
       "    </tr>\n",
       "    <tr>\n",
       "      <th>HarvardX/PH207x/2012_Fall</th>\n",
       "      <td>8611.0</td>\n",
       "      <td>0.301795</td>\n",
       "      <td>0.366249</td>\n",
       "      <td>0.01</td>\n",
       "      <td>0.02</td>\n",
       "      <td>0.09</td>\n",
       "      <td>0.62</td>\n",
       "      <td>1.01</td>\n",
       "    </tr>\n",
       "    <tr>\n",
       "      <th>HarvardX/PH278x/2013_Spring</th>\n",
       "      <td>3238.0</td>\n",
       "      <td>0.266121</td>\n",
       "      <td>0.283718</td>\n",
       "      <td>0.01</td>\n",
       "      <td>0.05</td>\n",
       "      <td>0.14</td>\n",
       "      <td>0.42</td>\n",
       "      <td>0.89</td>\n",
       "    </tr>\n",
       "    <tr>\n",
       "      <th>MITx/14.73x/2013_Spring</th>\n",
       "      <td>6253.0</td>\n",
       "      <td>0.333109</td>\n",
       "      <td>0.345071</td>\n",
       "      <td>0.01</td>\n",
       "      <td>0.03</td>\n",
       "      <td>0.15</td>\n",
       "      <td>0.70</td>\n",
       "      <td>1.00</td>\n",
       "    </tr>\n",
       "    <tr>\n",
       "      <th>MITx/2.01x/2013_Spring</th>\n",
       "      <td>1064.0</td>\n",
       "      <td>0.270282</td>\n",
       "      <td>0.324696</td>\n",
       "      <td>0.01</td>\n",
       "      <td>0.06</td>\n",
       "      <td>0.06</td>\n",
       "      <td>0.55</td>\n",
       "      <td>1.00</td>\n",
       "    </tr>\n",
       "    <tr>\n",
       "      <th>MITx/3.091x/2012_Fall</th>\n",
       "      <td>2038.0</td>\n",
       "      <td>0.334828</td>\n",
       "      <td>0.368710</td>\n",
       "      <td>0.01</td>\n",
       "      <td>0.04</td>\n",
       "      <td>0.09</td>\n",
       "      <td>0.74</td>\n",
       "      <td>1.00</td>\n",
       "    </tr>\n",
       "    <tr>\n",
       "      <th>MITx/3.091x/2013_Spring</th>\n",
       "      <td>662.0</td>\n",
       "      <td>0.231541</td>\n",
       "      <td>0.316330</td>\n",
       "      <td>0.01</td>\n",
       "      <td>0.03</td>\n",
       "      <td>0.04</td>\n",
       "      <td>0.33</td>\n",
       "      <td>0.97</td>\n",
       "    </tr>\n",
       "    <tr>\n",
       "      <th>MITx/6.002x/2012_Fall</th>\n",
       "      <td>6457.0</td>\n",
       "      <td>0.314513</td>\n",
       "      <td>0.372980</td>\n",
       "      <td>0.01</td>\n",
       "      <td>0.03</td>\n",
       "      <td>0.09</td>\n",
       "      <td>0.68</td>\n",
       "      <td>1.00</td>\n",
       "    </tr>\n",
       "    <tr>\n",
       "      <th>MITx/6.002x/2013_Spring</th>\n",
       "      <td>2450.0</td>\n",
       "      <td>0.250053</td>\n",
       "      <td>0.329009</td>\n",
       "      <td>0.01</td>\n",
       "      <td>0.03</td>\n",
       "      <td>0.06</td>\n",
       "      <td>0.46</td>\n",
       "      <td>1.00</td>\n",
       "    </tr>\n",
       "    <tr>\n",
       "      <th>MITx/6.00x/2012_Fall</th>\n",
       "      <td>13543.0</td>\n",
       "      <td>0.201582</td>\n",
       "      <td>0.314389</td>\n",
       "      <td>0.01</td>\n",
       "      <td>0.01</td>\n",
       "      <td>0.02</td>\n",
       "      <td>0.27</td>\n",
       "      <td>1.00</td>\n",
       "    </tr>\n",
       "    <tr>\n",
       "      <th>MITx/6.00x/2013_Spring</th>\n",
       "      <td>11342.0</td>\n",
       "      <td>0.140183</td>\n",
       "      <td>0.242845</td>\n",
       "      <td>0.01</td>\n",
       "      <td>0.01</td>\n",
       "      <td>0.02</td>\n",
       "      <td>0.12</td>\n",
       "      <td>1.00</td>\n",
       "    </tr>\n",
       "    <tr>\n",
       "      <th>MITx/7.00x/2013_Spring</th>\n",
       "      <td>3651.0</td>\n",
       "      <td>0.244092</td>\n",
       "      <td>0.303034</td>\n",
       "      <td>0.01</td>\n",
       "      <td>0.02</td>\n",
       "      <td>0.06</td>\n",
       "      <td>0.46</td>\n",
       "      <td>0.99</td>\n",
       "    </tr>\n",
       "    <tr>\n",
       "      <th>MITx/8.02x/2013_Spring</th>\n",
       "      <td>3860.0</td>\n",
       "      <td>0.244997</td>\n",
       "      <td>0.327470</td>\n",
       "      <td>0.01</td>\n",
       "      <td>0.01</td>\n",
       "      <td>0.05</td>\n",
       "      <td>0.40</td>\n",
       "      <td>1.00</td>\n",
       "    </tr>\n",
       "    <tr>\n",
       "      <th>MITx/8.MReV/2013_Summer</th>\n",
       "      <td>1677.0</td>\n",
       "      <td>0.215194</td>\n",
       "      <td>0.282435</td>\n",
       "      <td>0.01</td>\n",
       "      <td>0.02</td>\n",
       "      <td>0.06</td>\n",
       "      <td>0.36</td>\n",
       "      <td>1.00</td>\n",
       "    </tr>\n",
       "  </tbody>\n",
       "</table>\n",
       "</div>"
      ],
      "text/plain": [
       "                               count      mean       std   min   25%   50%  \\\n",
       "course_id                                                                    \n",
       "HarvardX/CB22x/2013_Spring    2125.0  0.190151  0.273948  0.01  0.02  0.05   \n",
       "HarvardX/CS50x/2012           1286.0  1.000000  0.000000  1.00  1.00  1.00   \n",
       "HarvardX/ER22x/2013_Spring    5686.0  0.405900  0.371357  0.01  0.04  0.26   \n",
       "HarvardX/PH207x/2012_Fall     8611.0  0.301795  0.366249  0.01  0.02  0.09   \n",
       "HarvardX/PH278x/2013_Spring   3238.0  0.266121  0.283718  0.01  0.05  0.14   \n",
       "MITx/14.73x/2013_Spring       6253.0  0.333109  0.345071  0.01  0.03  0.15   \n",
       "MITx/2.01x/2013_Spring        1064.0  0.270282  0.324696  0.01  0.06  0.06   \n",
       "MITx/3.091x/2012_Fall         2038.0  0.334828  0.368710  0.01  0.04  0.09   \n",
       "MITx/3.091x/2013_Spring        662.0  0.231541  0.316330  0.01  0.03  0.04   \n",
       "MITx/6.002x/2012_Fall         6457.0  0.314513  0.372980  0.01  0.03  0.09   \n",
       "MITx/6.002x/2013_Spring       2450.0  0.250053  0.329009  0.01  0.03  0.06   \n",
       "MITx/6.00x/2012_Fall         13543.0  0.201582  0.314389  0.01  0.01  0.02   \n",
       "MITx/6.00x/2013_Spring       11342.0  0.140183  0.242845  0.01  0.01  0.02   \n",
       "MITx/7.00x/2013_Spring        3651.0  0.244092  0.303034  0.01  0.02  0.06   \n",
       "MITx/8.02x/2013_Spring        3860.0  0.244997  0.327470  0.01  0.01  0.05   \n",
       "MITx/8.MReV/2013_Summer       1677.0  0.215194  0.282435  0.01  0.02  0.06   \n",
       "\n",
       "                              75%   max  \n",
       "course_id                                \n",
       "HarvardX/CB22x/2013_Spring   0.20  1.00  \n",
       "HarvardX/CS50x/2012          1.00  1.00  \n",
       "HarvardX/ER22x/2013_Spring   0.79  1.00  \n",
       "HarvardX/PH207x/2012_Fall    0.62  1.01  \n",
       "HarvardX/PH278x/2013_Spring  0.42  0.89  \n",
       "MITx/14.73x/2013_Spring      0.70  1.00  \n",
       "MITx/2.01x/2013_Spring       0.55  1.00  \n",
       "MITx/3.091x/2012_Fall        0.74  1.00  \n",
       "MITx/3.091x/2013_Spring      0.33  0.97  \n",
       "MITx/6.002x/2012_Fall        0.68  1.00  \n",
       "MITx/6.002x/2013_Spring      0.46  1.00  \n",
       "MITx/6.00x/2012_Fall         0.27  1.00  \n",
       "MITx/6.00x/2013_Spring       0.12  1.00  \n",
       "MITx/7.00x/2013_Spring       0.46  0.99  \n",
       "MITx/8.02x/2013_Spring       0.40  1.00  \n",
       "MITx/8.MReV/2013_Summer      0.36  1.00  "
      ]
     },
     "execution_count": 14,
     "metadata": {},
     "output_type": "execute_result"
    }
   ],
   "source": [
    "#standardize grades\n",
    "students.grade.replace('', np.nan, inplace=True)\n",
    "students.grade.replace(' ', np.nan, inplace=True)\n",
    "students.grade = pd.to_numeric(students.grade)\n",
    "nonzero_grades = students[students.grade != 0]\n",
    "nonzero_grades.groupby(['course_id']).grade.describe()"
   ]
  },
  {
   "cell_type": "code",
   "execution_count": 15,
   "metadata": {
    "scrolled": true
   },
   "outputs": [
    {
     "data": {
      "text/html": [
       "<div>\n",
       "<style scoped>\n",
       "    .dataframe tbody tr th:only-of-type {\n",
       "        vertical-align: middle;\n",
       "    }\n",
       "\n",
       "    .dataframe tbody tr th {\n",
       "        vertical-align: top;\n",
       "    }\n",
       "\n",
       "    .dataframe thead th {\n",
       "        text-align: right;\n",
       "    }\n",
       "</style>\n",
       "<table border=\"1\" class=\"dataframe\">\n",
       "  <thead>\n",
       "    <tr style=\"text-align: right;\">\n",
       "      <th></th>\n",
       "      <th>count</th>\n",
       "      <th>mean</th>\n",
       "      <th>std</th>\n",
       "      <th>min</th>\n",
       "      <th>25%</th>\n",
       "      <th>50%</th>\n",
       "      <th>75%</th>\n",
       "      <th>max</th>\n",
       "    </tr>\n",
       "    <tr>\n",
       "      <th>university</th>\n",
       "      <th></th>\n",
       "      <th></th>\n",
       "      <th></th>\n",
       "      <th></th>\n",
       "      <th></th>\n",
       "      <th></th>\n",
       "      <th></th>\n",
       "      <th></th>\n",
       "    </tr>\n",
       "  </thead>\n",
       "  <tbody>\n",
       "    <tr>\n",
       "      <th>HarvardX</th>\n",
       "      <td>20946.0</td>\n",
       "      <td>0.356081</td>\n",
       "      <td>0.379488</td>\n",
       "      <td>0.01</td>\n",
       "      <td>0.03</td>\n",
       "      <td>0.14</td>\n",
       "      <td>0.77</td>\n",
       "      <td>1.01</td>\n",
       "    </tr>\n",
       "    <tr>\n",
       "      <th>MITx</th>\n",
       "      <td>52997.0</td>\n",
       "      <td>0.233359</td>\n",
       "      <td>0.321985</td>\n",
       "      <td>0.01</td>\n",
       "      <td>0.01</td>\n",
       "      <td>0.04</td>\n",
       "      <td>0.37</td>\n",
       "      <td>1.00</td>\n",
       "    </tr>\n",
       "  </tbody>\n",
       "</table>\n",
       "</div>"
      ],
      "text/plain": [
       "              count      mean       std   min   25%   50%   75%   max\n",
       "university                                                           \n",
       "HarvardX    20946.0  0.356081  0.379488  0.01  0.03  0.14  0.77  1.01\n",
       "MITx        52997.0  0.233359  0.321985  0.01  0.01  0.04  0.37  1.00"
      ]
     },
     "execution_count": 15,
     "metadata": {},
     "output_type": "execute_result"
    }
   ],
   "source": [
    "nonzero_grades.groupby(['university']).grade.describe()"
   ]
  },
  {
   "cell_type": "code",
   "execution_count": 16,
   "metadata": {},
   "outputs": [
    {
     "data": {
      "text/html": [
       "<div>\n",
       "<style scoped>\n",
       "    .dataframe tbody tr th:only-of-type {\n",
       "        vertical-align: middle;\n",
       "    }\n",
       "\n",
       "    .dataframe tbody tr th {\n",
       "        vertical-align: top;\n",
       "    }\n",
       "\n",
       "    .dataframe thead th {\n",
       "        text-align: right;\n",
       "    }\n",
       "</style>\n",
       "<table border=\"1\" class=\"dataframe\">\n",
       "  <thead>\n",
       "    <tr style=\"text-align: right;\">\n",
       "      <th></th>\n",
       "      <th>count</th>\n",
       "      <th>mean</th>\n",
       "      <th>std</th>\n",
       "      <th>min</th>\n",
       "      <th>25%</th>\n",
       "      <th>50%</th>\n",
       "      <th>75%</th>\n",
       "      <th>max</th>\n",
       "    </tr>\n",
       "    <tr>\n",
       "      <th>course</th>\n",
       "      <th></th>\n",
       "      <th></th>\n",
       "      <th></th>\n",
       "      <th></th>\n",
       "      <th></th>\n",
       "      <th></th>\n",
       "      <th></th>\n",
       "      <th></th>\n",
       "    </tr>\n",
       "  </thead>\n",
       "  <tbody>\n",
       "    <tr>\n",
       "      <th>14.73x</th>\n",
       "      <td>6253.0</td>\n",
       "      <td>0.333109</td>\n",
       "      <td>0.345071</td>\n",
       "      <td>0.01</td>\n",
       "      <td>0.03</td>\n",
       "      <td>0.15</td>\n",
       "      <td>0.70</td>\n",
       "      <td>1.00</td>\n",
       "    </tr>\n",
       "    <tr>\n",
       "      <th>2.01x</th>\n",
       "      <td>1064.0</td>\n",
       "      <td>0.270282</td>\n",
       "      <td>0.324696</td>\n",
       "      <td>0.01</td>\n",
       "      <td>0.06</td>\n",
       "      <td>0.06</td>\n",
       "      <td>0.55</td>\n",
       "      <td>1.00</td>\n",
       "    </tr>\n",
       "    <tr>\n",
       "      <th>3.091x</th>\n",
       "      <td>2700.0</td>\n",
       "      <td>0.309504</td>\n",
       "      <td>0.359283</td>\n",
       "      <td>0.01</td>\n",
       "      <td>0.04</td>\n",
       "      <td>0.08</td>\n",
       "      <td>0.69</td>\n",
       "      <td>1.00</td>\n",
       "    </tr>\n",
       "    <tr>\n",
       "      <th>6.002x</th>\n",
       "      <td>8907.0</td>\n",
       "      <td>0.296782</td>\n",
       "      <td>0.362546</td>\n",
       "      <td>0.01</td>\n",
       "      <td>0.03</td>\n",
       "      <td>0.08</td>\n",
       "      <td>0.60</td>\n",
       "      <td>1.00</td>\n",
       "    </tr>\n",
       "    <tr>\n",
       "      <th>6.00x</th>\n",
       "      <td>24885.0</td>\n",
       "      <td>0.173598</td>\n",
       "      <td>0.285661</td>\n",
       "      <td>0.01</td>\n",
       "      <td>0.01</td>\n",
       "      <td>0.02</td>\n",
       "      <td>0.20</td>\n",
       "      <td>1.00</td>\n",
       "    </tr>\n",
       "    <tr>\n",
       "      <th>7.00x</th>\n",
       "      <td>3651.0</td>\n",
       "      <td>0.244092</td>\n",
       "      <td>0.303034</td>\n",
       "      <td>0.01</td>\n",
       "      <td>0.02</td>\n",
       "      <td>0.06</td>\n",
       "      <td>0.46</td>\n",
       "      <td>0.99</td>\n",
       "    </tr>\n",
       "    <tr>\n",
       "      <th>8.02x</th>\n",
       "      <td>3860.0</td>\n",
       "      <td>0.244997</td>\n",
       "      <td>0.327470</td>\n",
       "      <td>0.01</td>\n",
       "      <td>0.01</td>\n",
       "      <td>0.05</td>\n",
       "      <td>0.40</td>\n",
       "      <td>1.00</td>\n",
       "    </tr>\n",
       "    <tr>\n",
       "      <th>8.MReV</th>\n",
       "      <td>1677.0</td>\n",
       "      <td>0.215194</td>\n",
       "      <td>0.282435</td>\n",
       "      <td>0.01</td>\n",
       "      <td>0.02</td>\n",
       "      <td>0.06</td>\n",
       "      <td>0.36</td>\n",
       "      <td>1.00</td>\n",
       "    </tr>\n",
       "    <tr>\n",
       "      <th>CB22x</th>\n",
       "      <td>2125.0</td>\n",
       "      <td>0.190151</td>\n",
       "      <td>0.273948</td>\n",
       "      <td>0.01</td>\n",
       "      <td>0.02</td>\n",
       "      <td>0.05</td>\n",
       "      <td>0.20</td>\n",
       "      <td>1.00</td>\n",
       "    </tr>\n",
       "    <tr>\n",
       "      <th>CS50x</th>\n",
       "      <td>1286.0</td>\n",
       "      <td>1.000000</td>\n",
       "      <td>0.000000</td>\n",
       "      <td>1.00</td>\n",
       "      <td>1.00</td>\n",
       "      <td>1.00</td>\n",
       "      <td>1.00</td>\n",
       "      <td>1.00</td>\n",
       "    </tr>\n",
       "    <tr>\n",
       "      <th>ER22x</th>\n",
       "      <td>5686.0</td>\n",
       "      <td>0.405900</td>\n",
       "      <td>0.371357</td>\n",
       "      <td>0.01</td>\n",
       "      <td>0.04</td>\n",
       "      <td>0.26</td>\n",
       "      <td>0.79</td>\n",
       "      <td>1.00</td>\n",
       "    </tr>\n",
       "    <tr>\n",
       "      <th>PH207x</th>\n",
       "      <td>8611.0</td>\n",
       "      <td>0.301795</td>\n",
       "      <td>0.366249</td>\n",
       "      <td>0.01</td>\n",
       "      <td>0.02</td>\n",
       "      <td>0.09</td>\n",
       "      <td>0.62</td>\n",
       "      <td>1.01</td>\n",
       "    </tr>\n",
       "    <tr>\n",
       "      <th>PH278x</th>\n",
       "      <td>3238.0</td>\n",
       "      <td>0.266121</td>\n",
       "      <td>0.283718</td>\n",
       "      <td>0.01</td>\n",
       "      <td>0.05</td>\n",
       "      <td>0.14</td>\n",
       "      <td>0.42</td>\n",
       "      <td>0.89</td>\n",
       "    </tr>\n",
       "  </tbody>\n",
       "</table>\n",
       "</div>"
      ],
      "text/plain": [
       "          count      mean       std   min   25%   50%   75%   max\n",
       "course                                                           \n",
       "14.73x   6253.0  0.333109  0.345071  0.01  0.03  0.15  0.70  1.00\n",
       "2.01x    1064.0  0.270282  0.324696  0.01  0.06  0.06  0.55  1.00\n",
       "3.091x   2700.0  0.309504  0.359283  0.01  0.04  0.08  0.69  1.00\n",
       "6.002x   8907.0  0.296782  0.362546  0.01  0.03  0.08  0.60  1.00\n",
       "6.00x   24885.0  0.173598  0.285661  0.01  0.01  0.02  0.20  1.00\n",
       "7.00x    3651.0  0.244092  0.303034  0.01  0.02  0.06  0.46  0.99\n",
       "8.02x    3860.0  0.244997  0.327470  0.01  0.01  0.05  0.40  1.00\n",
       "8.MReV   1677.0  0.215194  0.282435  0.01  0.02  0.06  0.36  1.00\n",
       "CB22x    2125.0  0.190151  0.273948  0.01  0.02  0.05  0.20  1.00\n",
       "CS50x    1286.0  1.000000  0.000000  1.00  1.00  1.00  1.00  1.00\n",
       "ER22x    5686.0  0.405900  0.371357  0.01  0.04  0.26  0.79  1.00\n",
       "PH207x   8611.0  0.301795  0.366249  0.01  0.02  0.09  0.62  1.01\n",
       "PH278x   3238.0  0.266121  0.283718  0.01  0.05  0.14  0.42  0.89"
      ]
     },
     "execution_count": 16,
     "metadata": {},
     "output_type": "execute_result"
    }
   ],
   "source": [
    "nonzero_grades.groupby(['course']).grade.describe()"
   ]
  },
  {
   "cell_type": "markdown",
   "metadata": {},
   "source": [
    "Here we can see that the courses have very different grading, with means as high as 1 and as low as 0.23\n",
    "\n",
    "Need to do a deeper exploration of why some courses have a lower average grade"
   ]
  },
  {
   "cell_type": "code",
   "execution_count": 17,
   "metadata": {},
   "outputs": [],
   "source": [
    "#clean dates\n",
    "students.last_event_DI = pd.to_datetime(students.last_event_DI)\n",
    "students.start_time_DI = pd.to_datetime(students.start_time_DI)"
   ]
  },
  {
   "cell_type": "markdown",
   "metadata": {},
   "source": [
    "# Feature Engineering"
   ]
  },
  {
   "cell_type": "code",
   "execution_count": 201,
   "metadata": {},
   "outputs": [
    {
     "name": "stdout",
     "output_type": "stream",
     "text": [
      "<class 'pandas.core.frame.DataFrame'>\n",
      "Int64Index: 540969 entries, 5 to 641136\n",
      "Data columns (total 28 columns):\n",
      "course_id            540969 non-null object\n",
      "userid_DI            540969 non-null object\n",
      "viewed               540969 non-null int64\n",
      "explored             540969 non-null int64\n",
      "certified            540969 non-null int64\n",
      "final_cc_cname_DI    540969 non-null object\n",
      "LoE_DI               451973 non-null float64\n",
      "YoB                  458828 non-null float64\n",
      "gender               467156 non-null object\n",
      "grade                489080 non-null float64\n",
      "start_time_DI        540969 non-null datetime64[ns]\n",
      "last_event_DI        447620 non-null datetime64[ns]\n",
      "nevents              441983 non-null float64\n",
      "ndays_act            540969 non-null float64\n",
      "nplay_video          181612 non-null float64\n",
      "nchapters            309813 non-null float64\n",
      "nforum_posts         540969 non-null int64\n",
      "incomplete_flag      0 non-null float64\n",
      "university           540969 non-null object\n",
      "course               540969 non-null object\n",
      "course_variant       540969 non-null object\n",
      "chapter_percent      309813 non-null float64\n",
      "only_registered      540969 non-null int64\n",
      "only_viewed          540969 non-null int64\n",
      "only_explored        540969 non-null int64\n",
      "eventsPerDay         441983 non-null float64\n",
      "active_interval      540969 non-null timedelta64[ns]\n",
      "postsPerDay          540969 non-null float64\n",
      "dtypes: datetime64[ns](2), float64(11), int64(7), object(7), timedelta64[ns](1)\n",
      "memory usage: 139.7+ MB\n"
     ]
    }
   ],
   "source": [
    "students.info()"
   ]
  },
  {
   "cell_type": "markdown",
   "metadata": {},
   "source": [
    "**Classify Students by Activity**"
   ]
  },
  {
   "cell_type": "code",
   "execution_count": 110,
   "metadata": {},
   "outputs": [],
   "source": [
    "students['only_registered'] = np.where((students.viewed == 0) & (students.explored == 0), 1, 0)\n",
    "students['only_viewed'] = np.where((students.viewed == 1) & (students.explored == 0), 1, 0)\n",
    "students['only_explored'] = np.where((students.explored == 1) & (students.certified == 0), 1, 0)"
   ]
  },
  {
   "cell_type": "markdown",
   "metadata": {},
   "source": [
    "**Metrics for Interaction**"
   ]
  },
  {
   "cell_type": "code",
   "execution_count": 341,
   "metadata": {},
   "outputs": [],
   "source": [
    "students['eventsPerDay'] = students.nevents/students.ndays_act\n",
    "students['active_interval'] = students.last_event_DI - students.start_time_DI\n",
    "students.active_interval = students.active_interval.fillna(0)\n",
    "students['postsPerDay'] = students.nforum_posts/students.ndays_act\n",
    "students['videosPerDay'] = students.nplay_video/students.ndays_act"
   ]
  },
  {
   "cell_type": "markdown",
   "metadata": {},
   "source": [
    "# Exploring Demographics"
   ]
  },
  {
   "cell_type": "markdown",
   "metadata": {},
   "source": [
    "## Students who only registered"
   ]
  },
  {
   "cell_type": "code",
   "execution_count": 21,
   "metadata": {},
   "outputs": [],
   "source": [
    "registration = students[students.only_registered == 1]"
   ]
  },
  {
   "cell_type": "code",
   "execution_count": 233,
   "metadata": {},
   "outputs": [
    {
     "data": {
      "text/html": [
       "<div>\n",
       "<style scoped>\n",
       "    .dataframe tbody tr th:only-of-type {\n",
       "        vertical-align: middle;\n",
       "    }\n",
       "\n",
       "    .dataframe tbody tr th {\n",
       "        vertical-align: top;\n",
       "    }\n",
       "\n",
       "    .dataframe thead th {\n",
       "        text-align: right;\n",
       "    }\n",
       "</style>\n",
       "<table border=\"1\" class=\"dataframe\">\n",
       "  <thead>\n",
       "    <tr style=\"text-align: right;\">\n",
       "      <th></th>\n",
       "      <th>viewed</th>\n",
       "      <th>explored</th>\n",
       "      <th>certified</th>\n",
       "      <th>LoE_DI</th>\n",
       "      <th>YoB</th>\n",
       "      <th>grade</th>\n",
       "      <th>nevents</th>\n",
       "      <th>ndays_act</th>\n",
       "      <th>nplay_video</th>\n",
       "      <th>nchapters</th>\n",
       "      <th>nforum_posts</th>\n",
       "      <th>incomplete_flag</th>\n",
       "      <th>chapter_percent</th>\n",
       "      <th>only_registered</th>\n",
       "      <th>only_viewed</th>\n",
       "      <th>only_explored</th>\n",
       "      <th>eventsPerDay</th>\n",
       "      <th>active_interval</th>\n",
       "      <th>postsPerDay</th>\n",
       "    </tr>\n",
       "  </thead>\n",
       "  <tbody>\n",
       "    <tr>\n",
       "      <th>count</th>\n",
       "      <td>214953.0</td>\n",
       "      <td>214953.0</td>\n",
       "      <td>214953.0</td>\n",
       "      <td>184931.000000</td>\n",
       "      <td>188787.000000</td>\n",
       "      <td>1.924180e+05</td>\n",
       "      <td>117774.000000</td>\n",
       "      <td>214953.000000</td>\n",
       "      <td>126.000000</td>\n",
       "      <td>1644.000000</td>\n",
       "      <td>214953.000000</td>\n",
       "      <td>0.0</td>\n",
       "      <td>1644.000000</td>\n",
       "      <td>214953.0</td>\n",
       "      <td>214953.0</td>\n",
       "      <td>214953.0</td>\n",
       "      <td>117774.000000</td>\n",
       "      <td>214953</td>\n",
       "      <td>214953.000000</td>\n",
       "    </tr>\n",
       "    <tr>\n",
       "      <th>mean</th>\n",
       "      <td>0.0</td>\n",
       "      <td>0.0</td>\n",
       "      <td>0.0</td>\n",
       "      <td>1.925588</td>\n",
       "      <td>1985.007130</td>\n",
       "      <td>6.236423e-07</td>\n",
       "      <td>3.120918</td>\n",
       "      <td>1.145097</td>\n",
       "      <td>3.079365</td>\n",
       "      <td>2.204380</td>\n",
       "      <td>0.000233</td>\n",
       "      <td>NaN</td>\n",
       "      <td>0.115972</td>\n",
       "      <td>1.0</td>\n",
       "      <td>0.0</td>\n",
       "      <td>0.0</td>\n",
       "      <td>2.383850</td>\n",
       "      <td>14 days 20:01:53.550404</td>\n",
       "      <td>0.000163</td>\n",
       "    </tr>\n",
       "    <tr>\n",
       "      <th>std</th>\n",
       "      <td>0.0</td>\n",
       "      <td>0.0</td>\n",
       "      <td>0.0</td>\n",
       "      <td>0.834298</td>\n",
       "      <td>8.783136</td>\n",
       "      <td>1.367808e-04</td>\n",
       "      <td>10.876929</td>\n",
       "      <td>0.537451</td>\n",
       "      <td>4.184931</td>\n",
       "      <td>2.452138</td>\n",
       "      <td>0.016425</td>\n",
       "      <td>NaN</td>\n",
       "      <td>0.116257</td>\n",
       "      <td>0.0</td>\n",
       "      <td>0.0</td>\n",
       "      <td>0.0</td>\n",
       "      <td>5.864288</td>\n",
       "      <td>55 days 22:01:51.015417</td>\n",
       "      <td>0.012251</td>\n",
       "    </tr>\n",
       "    <tr>\n",
       "      <th>min</th>\n",
       "      <td>0.0</td>\n",
       "      <td>0.0</td>\n",
       "      <td>0.0</td>\n",
       "      <td>0.000000</td>\n",
       "      <td>1931.000000</td>\n",
       "      <td>0.000000e+00</td>\n",
       "      <td>1.000000</td>\n",
       "      <td>1.000000</td>\n",
       "      <td>1.000000</td>\n",
       "      <td>1.000000</td>\n",
       "      <td>0.000000</td>\n",
       "      <td>NaN</td>\n",
       "      <td>0.020833</td>\n",
       "      <td>1.0</td>\n",
       "      <td>0.0</td>\n",
       "      <td>0.0</td>\n",
       "      <td>0.142857</td>\n",
       "      <td>-381 days +00:00:00</td>\n",
       "      <td>0.000000</td>\n",
       "    </tr>\n",
       "    <tr>\n",
       "      <th>25%</th>\n",
       "      <td>0.0</td>\n",
       "      <td>0.0</td>\n",
       "      <td>0.0</td>\n",
       "      <td>1.000000</td>\n",
       "      <td>1982.000000</td>\n",
       "      <td>0.000000e+00</td>\n",
       "      <td>1.000000</td>\n",
       "      <td>1.000000</td>\n",
       "      <td>1.000000</td>\n",
       "      <td>1.000000</td>\n",
       "      <td>0.000000</td>\n",
       "      <td>NaN</td>\n",
       "      <td>0.055556</td>\n",
       "      <td>1.0</td>\n",
       "      <td>0.0</td>\n",
       "      <td>0.0</td>\n",
       "      <td>1.000000</td>\n",
       "      <td>0 days 00:00:00</td>\n",
       "      <td>0.000000</td>\n",
       "    </tr>\n",
       "    <tr>\n",
       "      <th>50%</th>\n",
       "      <td>0.0</td>\n",
       "      <td>0.0</td>\n",
       "      <td>0.0</td>\n",
       "      <td>2.000000</td>\n",
       "      <td>1987.000000</td>\n",
       "      <td>0.000000e+00</td>\n",
       "      <td>2.000000</td>\n",
       "      <td>1.000000</td>\n",
       "      <td>2.000000</td>\n",
       "      <td>2.000000</td>\n",
       "      <td>0.000000</td>\n",
       "      <td>NaN</td>\n",
       "      <td>0.083333</td>\n",
       "      <td>1.0</td>\n",
       "      <td>0.0</td>\n",
       "      <td>0.0</td>\n",
       "      <td>1.000000</td>\n",
       "      <td>0 days 00:00:00</td>\n",
       "      <td>0.000000</td>\n",
       "    </tr>\n",
       "    <tr>\n",
       "      <th>75%</th>\n",
       "      <td>0.0</td>\n",
       "      <td>0.0</td>\n",
       "      <td>0.0</td>\n",
       "      <td>2.000000</td>\n",
       "      <td>1991.000000</td>\n",
       "      <td>0.000000e+00</td>\n",
       "      <td>3.000000</td>\n",
       "      <td>1.000000</td>\n",
       "      <td>3.000000</td>\n",
       "      <td>2.000000</td>\n",
       "      <td>0.000000</td>\n",
       "      <td>NaN</td>\n",
       "      <td>0.142857</td>\n",
       "      <td>1.0</td>\n",
       "      <td>0.0</td>\n",
       "      <td>0.0</td>\n",
       "      <td>2.000000</td>\n",
       "      <td>0 days 00:00:00</td>\n",
       "      <td>0.000000</td>\n",
       "    </tr>\n",
       "    <tr>\n",
       "      <th>max</th>\n",
       "      <td>0.0</td>\n",
       "      <td>0.0</td>\n",
       "      <td>0.0</td>\n",
       "      <td>4.000000</td>\n",
       "      <td>2013.000000</td>\n",
       "      <td>3.000000e-02</td>\n",
       "      <td>1357.000000</td>\n",
       "      <td>29.000000</td>\n",
       "      <td>38.000000</td>\n",
       "      <td>28.000000</td>\n",
       "      <td>2.000000</td>\n",
       "      <td>NaN</td>\n",
       "      <td>1.000000</td>\n",
       "      <td>1.0</td>\n",
       "      <td>0.0</td>\n",
       "      <td>0.0</td>\n",
       "      <td>598.000000</td>\n",
       "      <td>404 days 00:00:00</td>\n",
       "      <td>2.000000</td>\n",
       "    </tr>\n",
       "  </tbody>\n",
       "</table>\n",
       "</div>"
      ],
      "text/plain": [
       "         viewed  explored  certified         LoE_DI            YoB  \\\n",
       "count  214953.0  214953.0   214953.0  184931.000000  188787.000000   \n",
       "mean        0.0       0.0        0.0       1.925588    1985.007130   \n",
       "std         0.0       0.0        0.0       0.834298       8.783136   \n",
       "min         0.0       0.0        0.0       0.000000    1931.000000   \n",
       "25%         0.0       0.0        0.0       1.000000    1982.000000   \n",
       "50%         0.0       0.0        0.0       2.000000    1987.000000   \n",
       "75%         0.0       0.0        0.0       2.000000    1991.000000   \n",
       "max         0.0       0.0        0.0       4.000000    2013.000000   \n",
       "\n",
       "              grade        nevents      ndays_act  nplay_video    nchapters  \\\n",
       "count  1.924180e+05  117774.000000  214953.000000   126.000000  1644.000000   \n",
       "mean   6.236423e-07       3.120918       1.145097     3.079365     2.204380   \n",
       "std    1.367808e-04      10.876929       0.537451     4.184931     2.452138   \n",
       "min    0.000000e+00       1.000000       1.000000     1.000000     1.000000   \n",
       "25%    0.000000e+00       1.000000       1.000000     1.000000     1.000000   \n",
       "50%    0.000000e+00       2.000000       1.000000     2.000000     2.000000   \n",
       "75%    0.000000e+00       3.000000       1.000000     3.000000     2.000000   \n",
       "max    3.000000e-02    1357.000000      29.000000    38.000000    28.000000   \n",
       "\n",
       "        nforum_posts  incomplete_flag  chapter_percent  only_registered  \\\n",
       "count  214953.000000              0.0      1644.000000         214953.0   \n",
       "mean        0.000233              NaN         0.115972              1.0   \n",
       "std         0.016425              NaN         0.116257              0.0   \n",
       "min         0.000000              NaN         0.020833              1.0   \n",
       "25%         0.000000              NaN         0.055556              1.0   \n",
       "50%         0.000000              NaN         0.083333              1.0   \n",
       "75%         0.000000              NaN         0.142857              1.0   \n",
       "max         2.000000              NaN         1.000000              1.0   \n",
       "\n",
       "       only_viewed  only_explored   eventsPerDay          active_interval  \\\n",
       "count     214953.0       214953.0  117774.000000                   214953   \n",
       "mean           0.0            0.0       2.383850  14 days 20:01:53.550404   \n",
       "std            0.0            0.0       5.864288  55 days 22:01:51.015417   \n",
       "min            0.0            0.0       0.142857      -381 days +00:00:00   \n",
       "25%            0.0            0.0       1.000000          0 days 00:00:00   \n",
       "50%            0.0            0.0       1.000000          0 days 00:00:00   \n",
       "75%            0.0            0.0       2.000000          0 days 00:00:00   \n",
       "max            0.0            0.0     598.000000        404 days 00:00:00   \n",
       "\n",
       "         postsPerDay  \n",
       "count  214953.000000  \n",
       "mean        0.000163  \n",
       "std         0.012251  \n",
       "min         0.000000  \n",
       "25%         0.000000  \n",
       "50%         0.000000  \n",
       "75%         0.000000  \n",
       "max         2.000000  "
      ]
     },
     "execution_count": 233,
     "metadata": {},
     "output_type": "execute_result"
    }
   ],
   "source": [
    "registration.describe()"
   ]
  },
  {
   "cell_type": "markdown",
   "metadata": {},
   "source": [
    "1. Students only active 2 weeks on average\n",
    "2. Most will only interact once per day\n",
    "3. Most will only look at 2 chapters or 11% of content\n",
    "4. Most are college level"
   ]
  },
  {
   "cell_type": "code",
   "execution_count": 23,
   "metadata": {},
   "outputs": [
    {
     "name": "stdout",
     "output_type": "stream",
     "text": [
      "0.8976008708880546\n",
      "0.1023991291119454\n",
      "0.7827385521486092\n"
     ]
    }
   ],
   "source": [
    "##days active\n",
    "print(len(registration[registration.ndays_act ==1])/len(registration))\n",
    "print(len(registration[registration.ndays_act >1])/len(registration))\n",
    "print(len(registration[registration.active_interval <=\"0 days\"])/len(registration))"
   ]
  },
  {
   "cell_type": "code",
   "execution_count": 24,
   "metadata": {},
   "outputs": [
    {
     "data": {
      "text/plain": [
       "1.0     0.897601\n",
       "2.0     0.076310\n",
       "3.0     0.017627\n",
       "4.0     0.004922\n",
       "5.0     0.001842\n",
       "6.0     0.000749\n",
       "7.0     0.000381\n",
       "8.0     0.000219\n",
       "9.0     0.000088\n",
       "10.0    0.000060\n",
       "13.0    0.000051\n",
       "12.0    0.000037\n",
       "11.0    0.000033\n",
       "15.0    0.000033\n",
       "14.0    0.000019\n",
       "16.0    0.000014\n",
       "29.0    0.000005\n",
       "24.0    0.000005\n",
       "20.0    0.000005\n",
       "Name: ndays_act, dtype: float64"
      ]
     },
     "execution_count": 24,
     "metadata": {},
     "output_type": "execute_result"
    }
   ],
   "source": [
    "registration.ndays_act.value_counts()/len(registration)"
   ]
  },
  {
   "cell_type": "markdown",
   "metadata": {},
   "source": [
    "**GENDER**"
   ]
  },
  {
   "cell_type": "code",
   "execution_count": 101,
   "metadata": {
    "scrolled": true
   },
   "outputs": [
    {
     "data": {
      "image/png": "[encoded data removed]",
      "text/plain": [
       "<Figure size 432x288 with 1 Axes>"
      ]
     },
     "metadata": {
      "needs_background": "light"
     },
     "output_type": "display_data"
    }
   ],
   "source": [
    "x, y, hue = \"only_registered\", \"prop\", \"gender\"\n",
    "gender_prop = (students[\"gender\"]\n",
    "                               .groupby(students[\"only_registered\"])\n",
    "                               .value_counts(normalize=True)\n",
    "                               .rename(y)\n",
    "                               .reset_index()\n",
    "                               .pipe((sns.barplot, \"data\"), x=x, y=y, hue=hue))\n",
    "gender_prop = plt.xlabel(\"Only Registered\")\n",
    "plt.xticks([0,1], ['no', 'yes'])\n",
    "gender_prop = plt.ylabel(\"Percent of Users\")\n",
    "plt.savefig(\"registerOnlyGender.png\")\n",
    "plt.show()"
   ]
  },
  {
   "cell_type": "markdown",
   "metadata": {},
   "source": [
    "Women seem to only register at a higher rate than men"
   ]
  },
  {
   "cell_type": "markdown",
   "metadata": {},
   "source": [
    "**Date of Birth**"
   ]
  },
  {
   "cell_type": "code",
   "execution_count": 26,
   "metadata": {},
   "outputs": [
    {
     "data": {
      "image/png": "[encoded data removed]",
      "text/plain": [
       "<Figure size 432x288 with 1 Axes>"
      ]
     },
     "metadata": {
      "needs_background": "light"
     },
     "output_type": "display_data"
    }
   ],
   "source": [
    "_ = students.groupby('YoB')['only_registered'].mean().plot()\n",
    "_ = plt.xlabel(\"Year Born\")\n",
    "_ = plt.ylabel(\"Year Born\")\n",
    "_ = plt.xlim(right=2000)"
   ]
  },
  {
   "cell_type": "code",
   "execution_count": 95,
   "metadata": {},
   "outputs": [
    {
     "data": {
      "image/png": "[encoded data removed]",
      "text/plain": [
       "<Figure size 432x288 with 1 Axes>"
      ]
     },
     "metadata": {
      "needs_background": "light"
     },
     "output_type": "display_data"
    }
   ],
   "source": [
    "x, y, hue =  \"YoB\", \"prop\", \"only_registered\"\n",
    "education_prop = (students[x]\n",
    "                               .groupby(students[hue])\n",
    "                               .value_counts(normalize=True)\n",
    "                               .rename(y)\n",
    "                               .reset_index()\n",
    "                               .pipe((sns.lineplot, \"data\"), x=x, y=y, hue=hue))\n",
    "education_prop = plt.xlabel(\"Year of Birth\")\n",
    "education_prop = plt.ylabel(\"Percent of Users\")\n",
    "_ = plt.legend(('Everyone Else', 'Only Registered'))\n",
    "plt.savefig(\"registerOnlyYob.png\")\n",
    "plt.show()"
   ]
  },
  {
   "cell_type": "markdown",
   "metadata": {},
   "source": [
    "Spike at top is due to lack of data, but clear correlation with age"
   ]
  },
  {
   "cell_type": "markdown",
   "metadata": {},
   "source": [
    "**Education**"
   ]
  },
  {
   "cell_type": "code",
   "execution_count": 108,
   "metadata": {},
   "outputs": [
    {
     "data": {
      "image/png": "[encoded data removed]",
      "text/plain": [
       "<Figure size 432x288 with 1 Axes>"
      ]
     },
     "metadata": {
      "needs_background": "light"
     },
     "output_type": "display_data"
    }
   ],
   "source": [
    "x, y, hue =  \"LoE_DI\", \"prop\", \"only_registered\"\n",
    "education_prop = (students[x]\n",
    "                               .groupby(students[hue])\n",
    "                               .value_counts(normalize=True)\n",
    "                               .rename(y)\n",
    "                               .reset_index()\n",
    "                               .pipe((sns.barplot, \"data\"), x=x, y=y, hue=hue))\n",
    "education_prop = plt.xlabel(\"Level of Education\")\n",
    "education_prop = plt.ylabel(\"Percent of Users\")\n",
    "plt.xticks([0,1,2,3,4], labels=['no secondary', 'secondary', 'College', \"Master's\", 'PhD'], rotation=20)\n",
    "plt.savefig(\"registerOnlyEducation.png\")\n",
    "plt.show()"
   ]
  },
  {
   "cell_type": "code",
   "execution_count": 97,
   "metadata": {},
   "outputs": [
    {
     "data": {
      "image/png": "[encoded data removed]",
      "text/plain": [
       "<Figure size 432x288 with 1 Axes>"
      ]
     },
     "metadata": {
      "needs_background": "light"
     },
     "output_type": "display_data"
    }
   ],
   "source": [
    "_ = students.groupby('LoE_DI')['only_registered'].mean().plot(kind=\"bar\")\n",
    "_ = plt.xlabel(\"Education Level\")\n",
    "_ = plt.ylabel(\"View Only Rate\")\n",
    "_ = plt.xticks([0,1,2,3,4], labels=['less than secondary', 'secondary', 'College', \"Master's\", 'PhD'], rotation=70)"
   ]
  },
  {
   "cell_type": "markdown",
   "metadata": {},
   "source": [
    "**Course**"
   ]
  },
  {
   "cell_type": "code",
   "execution_count": 199,
   "metadata": {},
   "outputs": [
    {
     "data": {
      "image/png": "[encoded data removed]",
      "text/plain": [
       "<Figure size 432x288 with 1 Axes>"
      ]
     },
     "metadata": {},
     "output_type": "display_data"
    }
   ],
   "source": [
    "x, y, hue =  \"course\", \"prop\", \"only_registered\"\n",
    "education_prop = (students[x]\n",
    "                               .groupby(students[hue])\n",
    "                               .value_counts(normalize=True)\n",
    "                               .rename(y)\n",
    "                               .reset_index()\n",
    "                               .pipe((sns.barplot, \"data\"), x=y, y=x, hue=hue))\n",
    "education_prop = plt.xlabel(\"Percent of Cohort\")\n",
    "education_prop = plt.ylabel(\"Class\")\n",
    "plt.savefig(\"registerByClass.png\")\n",
    "plt.show()"
   ]
  },
  {
   "cell_type": "code",
   "execution_count": 200,
   "metadata": {},
   "outputs": [
    {
     "data": {
      "text/plain": [
       "<matplotlib.axes._subplots.AxesSubplot at 0x1a40939e10>"
      ]
     },
     "execution_count": 200,
     "metadata": {},
     "output_type": "execute_result"
    },
    {
     "data": {
      "image/png": "[encoded data removed]",
      "text/plain": [
       "<Figure size 432x288 with 1 Axes>"
      ]
     },
     "metadata": {},
     "output_type": "display_data"
    }
   ],
   "source": [
    "students.groupby('university')['only_registered'].mean().plot(kind=\"bar\")"
   ]
  },
  {
   "cell_type": "code",
   "execution_count": 279,
   "metadata": {},
   "outputs": [
    {
     "data": {
      "image/png": "[encoded data removed]",
      "text/plain": [
       "<Figure size 432x288 with 1 Axes>"
      ]
     },
     "metadata": {},
     "output_type": "display_data"
    }
   ],
   "source": [
    "registration.nevents.value_counts(normalize=True).plot()\n",
    "plt.xlim(left=0, right=15)\n",
    "plt.ylabel(\"% of users\")\n",
    "plt.xlabel(\"Number of Events\")\n",
    "plt.title(\"Activity Dropoff \\n Registered Only\")\n",
    "plt.savefig(\"RegisterEvents.png\")"
   ]
  },
  {
   "cell_type": "code",
   "execution_count": null,
   "metadata": {},
   "outputs": [],
   "source": []
  },
  {
   "cell_type": "markdown",
   "metadata": {},
   "source": [
    "### Compare to certificate earners"
   ]
  },
  {
   "cell_type": "code",
   "execution_count": 112,
   "metadata": {},
   "outputs": [],
   "source": [
    "register_comp = viewed = students[(students.only_registered == 1) | (students.certified == 1)]"
   ]
  },
  {
   "cell_type": "code",
   "execution_count": 129,
   "metadata": {},
   "outputs": [
    {
     "data": {
      "image/png": "[encoded data removed]",
      "text/plain": [
       "<Figure size 432x288 with 1 Axes>"
      ]
     },
     "metadata": {
      "needs_background": "light"
     },
     "output_type": "display_data"
    }
   ],
   "source": [
    "x, y, hue =  \"LoE_DI\", \"prop\", \"only_registered\"\n",
    "education_prop = (register_comp[x]\n",
    "                               .groupby(register_comp[hue])\n",
    "                               .value_counts(normalize=True)\n",
    "                               .rename(y)\n",
    "                               .reset_index()\n",
    "                               .pipe((sns.barplot, \"data\"), x=x, y=y, hue=hue))\n",
    "education_prop = plt.xlabel(\"Level of Education\")\n",
    "education_prop = plt.ylabel(\"Percent of Users\")\n",
    "plt.xticks([0,1,2,3,4], labels=['no secondary', 'secondary', 'College', \"Master's\", 'PhD'], rotation=20)\n",
    "L=plt.legend()\n",
    "L.get_texts()[0].set_text('Certified')\n",
    "L.get_texts()[1].set_text('Only Registered')\n",
    "plt.savefig(\"registerVsCertEducation.png\")\n",
    "plt.show()"
   ]
  },
  {
   "cell_type": "code",
   "execution_count": 136,
   "metadata": {
    "scrolled": true
   },
   "outputs": [
    {
     "data": {
      "image/png": "[encoded data removed]",
      "text/plain": [
       "<Figure size 432x288 with 1 Axes>"
      ]
     },
     "metadata": {
      "needs_background": "light"
     },
     "output_type": "display_data"
    }
   ],
   "source": [
    "x, y, hue =  \"YoB\", \"prop\", \"only_registered\"\n",
    "education_prop = (register_comp[x]\n",
    "                               .groupby(register_comp[hue])\n",
    "                               .value_counts(normalize=True)\n",
    "                               .rename(y)\n",
    "                               .reset_index()\n",
    "                               .pipe((sns.lineplot, \"data\"), x=x, y=y, hue=hue))\n",
    "education_prop = plt.xlabel(\"Year of Birth\")\n",
    "education_prop = plt.ylabel(\"Percent of Users\")\n",
    "L=plt.legend()\n",
    "L.get_texts()[0].set_text('Engagement Level')\n",
    "L.get_texts()[1].set_text('Certified')\n",
    "L.get_texts()[2].set_text('Only Registered')\n",
    "plt.savefig(\"registerVsCertYob.png\")\n",
    "plt.show()"
   ]
  },
  {
   "cell_type": "code",
   "execution_count": 139,
   "metadata": {},
   "outputs": [
    {
     "data": {
      "image/png": "[encoded data removed]",
      "text/plain": [
       "<Figure size 432x288 with 1 Axes>"
      ]
     },
     "metadata": {
      "needs_background": "light"
     },
     "output_type": "display_data"
    }
   ],
   "source": [
    "x, y, hue = \"only_registered\", \"prop\", \"gender\"\n",
    "gender_prop = (register_comp[\"gender\"]\n",
    "                               .groupby(register_comp[\"only_registered\"])\n",
    "                               .value_counts(normalize=True)\n",
    "                               .rename(y)\n",
    "                               .reset_index()\n",
    "                               .pipe((sns.barplot, \"data\"), x=x, y=y, hue=hue))\n",
    "gender_prop = plt.xlabel(\"Cohort\")\n",
    "plt.xticks([0,1], ['Certified', 'Only Registered'])\n",
    "gender_prop = plt.ylabel(\"Percent of Users\")\n",
    "plt.savefig(\"registerCompGender.png\")\n",
    "plt.show()"
   ]
  },
  {
   "cell_type": "code",
   "execution_count": 182,
   "metadata": {},
   "outputs": [
    {
     "name": "stdout",
     "output_type": "stream",
     "text": [
      "prop    732.314039\n",
      "dtype: float64\n"
     ]
    }
   ],
   "source": [
    "x, y, hue =  \"LoE_DI\", \"prop\", \"only_registered\"\n",
    "ed_table = register_comp[x].groupby(register_comp[hue]).value_counts().rename(y).reset_index()\n",
    "observed = ed_table[ed_table.only_registered == 0][[\"LoE_DI\", \"prop\"]]\n",
    "observed.set_index('LoE_DI', inplace=True)\n",
    "expected = ed_table[ed_table.only_registered == 1][[\"LoE_DI\", \"prop\"]]\n",
    "expected.set_index('LoE_DI', inplace=True)\n",
    "exp_ratios = expected/expected.prop.sum()\n",
    "expected = exp_ratios * observed.prop.sum()\n",
    "chi_squared_stat = (((observed-expected)**2)/expected).sum()\n",
    "\n",
    "print(chi_squared_stat)"
   ]
  },
  {
   "cell_type": "code",
   "execution_count": 197,
   "metadata": {},
   "outputs": [
    {
     "name": "stdout",
     "output_type": "stream",
     "text": [
      "Critical value\n",
      "9.487729036781154\n",
      "P value\n",
      "[0.]\n"
     ]
    },
    {
     "data": {
      "text/plain": [
       "array([1.])"
      ]
     },
     "execution_count": 197,
     "metadata": {},
     "output_type": "execute_result"
    }
   ],
   "source": [
    "crit = stats.chi2.ppf(q = 0.95, # Find the critical value for 95% confidence*\n",
    "                      df = 4)   # Df = number of variable categories - 1\n",
    "\n",
    "print(\"Critical value\")\n",
    "print(crit)\n",
    "\n",
    "p_value = 1 - stats.chi2.cdf(x=chi_squared_stat,  # Find the p-value\n",
    "                             df=4)\n",
    "print(\"P value\")\n",
    "print(p_value)"
   ]
  },
  {
   "cell_type": "markdown",
   "metadata": {},
   "source": [
    "## Activity vs Completion"
   ]
  },
  {
   "cell_type": "markdown",
   "metadata": {},
   "source": [
    "### Days Active vs Completion"
   ]
  },
  {
   "cell_type": "code",
   "execution_count": 349,
   "metadata": {},
   "outputs": [
    {
     "name": "stdout",
     "output_type": "stream",
     "text": [
      "0    523294\n",
      "1     17675\n",
      "Name: certified, dtype: int64\n",
      "1    523294\n",
      "0    523294\n",
      "Name: certified, dtype: int64\n"
     ]
    }
   ],
   "source": [
    "print(students.certified.value_counts())\n",
    "students_majority = students[students.certified==0]\n",
    "students_minority = students[students.certified==1]\n",
    "# Upsample minority class\n",
    "students_minority_upsampled = resample(students_minority, \n",
    "                                 replace=True,     # sample with replacement\n",
    "                                 n_samples=523294,    # to match majority class\n",
    "                                 random_state=123) # reproducible results\n",
    " \n",
    "# Combine majority class with upsampled minority class\n",
    "students_balanced = pd.concat([students_majority, students_minority_upsampled])\n",
    "print(students_balanced.certified.value_counts())"
   ]
  },
  {
   "cell_type": "code",
   "execution_count": 33,
   "metadata": {},
   "outputs": [],
   "source": [
    "X = students_balanced.loc[:,['ndays_act']]\n",
    "y = students_balanced.loc[:,[\"certified\"]]"
   ]
  },
  {
   "cell_type": "code",
   "execution_count": 34,
   "metadata": {},
   "outputs": [],
   "source": [
    "X_train, X_test, y_train, y_test = train_test_split(X, y, test_size = .3, random_state=25)"
   ]
  },
  {
   "cell_type": "code",
   "execution_count": 35,
   "metadata": {},
   "outputs": [
    {
     "data": {
      "text/plain": [
       "LogisticRegression(C=1.0, class_weight=None, dual=False, fit_intercept=True,\n",
       "          intercept_scaling=1, max_iter=100, multi_class='warn',\n",
       "          n_jobs=None, penalty='l2', random_state=None, solver='liblinear',\n",
       "          tol=0.0001, verbose=0, warm_start=False)"
      ]
     },
     "execution_count": 35,
     "metadata": {},
     "output_type": "execute_result"
    }
   ],
   "source": [
    "LogReg = LogisticRegression(solver='liblinear')\n",
    "LogReg.fit(X_train, y_train.values.ravel())"
   ]
  },
  {
   "cell_type": "code",
   "execution_count": 36,
   "metadata": {},
   "outputs": [],
   "source": [
    "y_pred = LogReg.predict(X_test)"
   ]
  },
  {
   "cell_type": "code",
   "execution_count": 37,
   "metadata": {},
   "outputs": [
    {
     "data": {
      "text/plain": [
       "array([[149640,   6976],\n",
       "       [ 14328, 143033]])"
      ]
     },
     "execution_count": 37,
     "metadata": {},
     "output_type": "execute_result"
    }
   ],
   "source": [
    "confusionMatrix = confusion_matrix(y_test, y_pred)\n",
    "confusionMatrix"
   ]
  },
  {
   "cell_type": "code",
   "execution_count": 38,
   "metadata": {},
   "outputs": [
    {
     "name": "stdout",
     "output_type": "stream",
     "text": [
      "              precision    recall  f1-score   support\n",
      "\n",
      "           0       0.91      0.96      0.93    156616\n",
      "           1       0.95      0.91      0.93    157361\n",
      "\n",
      "   micro avg       0.93      0.93      0.93    313977\n",
      "   macro avg       0.93      0.93      0.93    313977\n",
      "weighted avg       0.93      0.93      0.93    313977\n",
      "\n",
      "0.9321478961834784\n"
     ]
    }
   ],
   "source": [
    "print(classification_report(y_test, y_pred))\n",
    "print(accuracy_score(y_test, y_pred))"
   ]
  },
  {
   "cell_type": "code",
   "execution_count": 39,
   "metadata": {},
   "outputs": [
    {
     "data": {
      "image/png": "[encoded data removed]",
      "text/plain": [
       "<Figure size 432x288 with 1 Axes>"
      ]
     },
     "metadata": {
      "needs_background": "light"
     },
     "output_type": "display_data"
    }
   ],
   "source": [
    "plt.figure(1)\n",
    "plt.clf()\n",
    "plt.scatter(X.values.ravel(), y, color='black', zorder=20)\n",
    "X_test = np.linspace(0, 200, 2000)\n",
    "\n",
    "\n",
    "def model(x):\n",
    "    return 1 / (1 + np.exp(-x))\n",
    "\n",
    "loss = model(X_test * LogReg.coef_ + LogReg.intercept_).ravel()\n",
    "plt.plot(X_test, loss, color='red', linewidth=3)\n",
    "plt.xlim(0, 100)\n",
    "plt.ylabel('Probability of Completion')\n",
    "plt.xlabel('Days Active')\n",
    "plt.xticks(range(0, 100, 5))\n",
    "plt.title(\"Completion vs. Activity\")\n",
    "plt.tight_layout()\n",
    "plt.savefig('DaysActiveCurve.png')\n",
    "plt.show()"
   ]
  },
  {
   "cell_type": "markdown",
   "metadata": {},
   "source": [
    "### Events Vs Completion"
   ]
  },
  {
   "cell_type": "code",
   "execution_count": 238,
   "metadata": {},
   "outputs": [],
   "source": [
    "X = students_balanced.loc[:,['eventsPerDay']].fillna(0)\n",
    "y = students_balanced.loc[:,[\"certified\"]]"
   ]
  },
  {
   "cell_type": "code",
   "execution_count": 239,
   "metadata": {},
   "outputs": [],
   "source": [
    "X_train, X_test, y_train, y_test = train_test_split(X, y, test_size = .3, random_state=25)"
   ]
  },
  {
   "cell_type": "code",
   "execution_count": 240,
   "metadata": {},
   "outputs": [
    {
     "data": {
      "text/plain": [
       "LogisticRegression(C=1.0, class_weight=None, dual=False, fit_intercept=True,\n",
       "          intercept_scaling=1, max_iter=100, multi_class='warn',\n",
       "          n_jobs=None, penalty='l2', random_state=None, solver='liblinear',\n",
       "          tol=0.0001, verbose=0, warm_start=False)"
      ]
     },
     "execution_count": 240,
     "metadata": {},
     "output_type": "execute_result"
    }
   ],
   "source": [
    "LogReg = LogisticRegression(solver='liblinear')\n",
    "LogReg.fit(X_train, y_train.values.ravel())"
   ]
  },
  {
   "cell_type": "code",
   "execution_count": 241,
   "metadata": {},
   "outputs": [],
   "source": [
    "y_pred = LogReg.predict(X_test)"
   ]
  },
  {
   "cell_type": "code",
   "execution_count": 242,
   "metadata": {},
   "outputs": [
    {
     "data": {
      "text/plain": [
       "array([[134798,  21818],\n",
       "       [ 29688, 127673]])"
      ]
     },
     "execution_count": 242,
     "metadata": {},
     "output_type": "execute_result"
    }
   ],
   "source": [
    "confusionMatrix = confusion_matrix(y_test, y_pred)\n",
    "confusionMatrix"
   ]
  },
  {
   "cell_type": "code",
   "execution_count": 243,
   "metadata": {},
   "outputs": [
    {
     "name": "stdout",
     "output_type": "stream",
     "text": [
      "              precision    recall  f1-score   support\n",
      "\n",
      "           0       0.82      0.86      0.84    156616\n",
      "           1       0.85      0.81      0.83    157361\n",
      "\n",
      "   micro avg       0.84      0.84      0.84    313977\n",
      "   macro avg       0.84      0.84      0.84    313977\n",
      "weighted avg       0.84      0.84      0.84    313977\n",
      "\n",
      "0.8359561369144873\n"
     ]
    }
   ],
   "source": [
    "print(classification_report(y_test, y_pred))\n",
    "print(accuracy_score(y_test, y_pred))"
   ]
  },
  {
   "cell_type": "code",
   "execution_count": 248,
   "metadata": {},
   "outputs": [
    {
     "data": {
      "image/png": "[encoded data removed]",
      "text/plain": [
       "<Figure size 432x288 with 1 Axes>"
      ]
     },
     "metadata": {},
     "output_type": "display_data"
    }
   ],
   "source": [
    "plt.figure(1)\n",
    "plt.clf()\n",
    "plt.scatter(X.values.ravel(), y, color='black', zorder=20)\n",
    "X_test = np.linspace(0, 200, 2000)\n",
    "\n",
    "\n",
    "def model(x):\n",
    "    return 1 / (1 + np.exp(-x))\n",
    "\n",
    "loss = model(X_test * LogReg.coef_ + LogReg.intercept_).ravel()\n",
    "plt.plot(X_test, loss, color='red', linewidth=3)\n",
    "plt.xlim(0, 100)\n",
    "plt.ylabel('Probability of Completion')\n",
    "plt.xlabel('Events Per Day')\n",
    "plt.xticks(range(0, 200, 20))\n",
    "plt.title(\"Completion vs. Events per Day\")\n",
    "plt.tight_layout()\n",
    "plt.savefig('EventsCurve.png')\n",
    "plt.show()"
   ]
  },
  {
   "cell_type": "markdown",
   "metadata": {},
   "source": [
    "### Forum Posts"
   ]
  },
  {
   "cell_type": "code",
   "execution_count": 249,
   "metadata": {},
   "outputs": [],
   "source": [
    "X = students_balanced.loc[:,['postsPerDay']]\n",
    "y = students_balanced.loc[:,[\"certified\"]]"
   ]
  },
  {
   "cell_type": "code",
   "execution_count": 250,
   "metadata": {},
   "outputs": [],
   "source": [
    "X_train, X_test, y_train, y_test = train_test_split(X, y, test_size = .3, random_state=25)"
   ]
  },
  {
   "cell_type": "code",
   "execution_count": 251,
   "metadata": {},
   "outputs": [
    {
     "data": {
      "text/plain": [
       "LogisticRegression(C=1.0, class_weight=None, dual=False, fit_intercept=True,\n",
       "          intercept_scaling=1, max_iter=100, multi_class='warn',\n",
       "          n_jobs=None, penalty='l2', random_state=None, solver='liblinear',\n",
       "          tol=0.0001, verbose=0, warm_start=False)"
      ]
     },
     "execution_count": 251,
     "metadata": {},
     "output_type": "execute_result"
    }
   ],
   "source": [
    "LogReg = LogisticRegression(solver='liblinear')\n",
    "LogReg.fit(X_train, y_train.values.ravel())"
   ]
  },
  {
   "cell_type": "code",
   "execution_count": 252,
   "metadata": {},
   "outputs": [],
   "source": [
    "y_pred = LogReg.predict(X_test)"
   ]
  },
  {
   "cell_type": "code",
   "execution_count": 253,
   "metadata": {},
   "outputs": [
    {
     "data": {
      "text/plain": [
       "array([[154984,   1632],\n",
       "       [140786,  16575]])"
      ]
     },
     "execution_count": 253,
     "metadata": {},
     "output_type": "execute_result"
    }
   ],
   "source": [
    "confusionMatrix = confusion_matrix(y_test, y_pred)\n",
    "confusionMatrix"
   ]
  },
  {
   "cell_type": "code",
   "execution_count": 254,
   "metadata": {},
   "outputs": [
    {
     "name": "stdout",
     "output_type": "stream",
     "text": [
      "              precision    recall  f1-score   support\n",
      "\n",
      "           0       0.52      0.99      0.69    156616\n",
      "           1       0.91      0.11      0.19    157361\n",
      "\n",
      "   micro avg       0.55      0.55      0.55    313977\n",
      "   macro avg       0.72      0.55      0.44    313977\n",
      "weighted avg       0.72      0.55      0.44    313977\n",
      "\n",
      "0.5464062654270854\n"
     ]
    }
   ],
   "source": [
    "print(classification_report(y_test, y_pred))\n",
    "print(accuracy_score(y_test, y_pred))"
   ]
  },
  {
   "cell_type": "code",
   "execution_count": 267,
   "metadata": {},
   "outputs": [
    {
     "data": {
      "image/png": "[encoded data removed]",
      "text/plain": [
       "<Figure size 432x288 with 1 Axes>"
      ]
     },
     "metadata": {},
     "output_type": "display_data"
    }
   ],
   "source": [
    "plt.figure(1)\n",
    "plt.clf()\n",
    "plt.scatter(X.values.ravel(), y, color='black', zorder=20)\n",
    "X_test = np.linspace(0, 200, 2000)\n",
    "\n",
    "\n",
    "def model(x):\n",
    "    return 1 / (1 + np.exp(-x))\n",
    "\n",
    "loss = model(X_test * LogReg.coef_ + LogReg.intercept_).ravel()\n",
    "plt.plot(X_test, loss, color='red', linewidth=3)\n",
    "plt.xlim(0, 100)\n",
    "plt.ylabel('Probability of Completion')\n",
    "plt.xlabel('Events Per Day')\n",
    "plt.xticks(range(0, 200, 20))\n",
    "plt.title(\"Completion vs. Events per Day\")\n",
    "plt.tight_layout()\n",
    "#plt.savefig('EventsCurve.png')\n",
    "plt.show()"
   ]
  },
  {
   "cell_type": "markdown",
   "metadata": {},
   "source": [
    "### Chapters Read"
   ]
  },
  {
   "cell_type": "code",
   "execution_count": null,
   "metadata": {},
   "outputs": [],
   "source": []
  },
  {
   "cell_type": "code",
   "execution_count": 258,
   "metadata": {},
   "outputs": [],
   "source": [
    "X = students_balanced.loc[:,['chapter_percent']].fillna(0)\n",
    "y = students_balanced.loc[:,[\"certified\"]]"
   ]
  },
  {
   "cell_type": "code",
   "execution_count": 259,
   "metadata": {},
   "outputs": [],
   "source": [
    "X_train, X_test, y_train, y_test = train_test_split(X, y, test_size = .3, random_state=25)"
   ]
  },
  {
   "cell_type": "code",
   "execution_count": 260,
   "metadata": {},
   "outputs": [
    {
     "data": {
      "text/plain": [
       "LogisticRegression(C=1.0, class_weight=None, dual=False, fit_intercept=True,\n",
       "          intercept_scaling=1, max_iter=100, multi_class='warn',\n",
       "          n_jobs=None, penalty='l2', random_state=None, solver='liblinear',\n",
       "          tol=0.0001, verbose=0, warm_start=False)"
      ]
     },
     "execution_count": 260,
     "metadata": {},
     "output_type": "execute_result"
    }
   ],
   "source": [
    "LogReg = LogisticRegression(solver='liblinear')\n",
    "LogReg.fit(X_train, y_train.values.ravel())"
   ]
  },
  {
   "cell_type": "code",
   "execution_count": 261,
   "metadata": {},
   "outputs": [],
   "source": [
    "y_pred = LogReg.predict(X_test)"
   ]
  },
  {
   "cell_type": "code",
   "execution_count": 262,
   "metadata": {},
   "outputs": [
    {
     "data": {
      "text/plain": [
       "array([[150220,   6396],\n",
       "       [  5699, 151662]])"
      ]
     },
     "execution_count": 262,
     "metadata": {},
     "output_type": "execute_result"
    }
   ],
   "source": [
    "confusionMatrix = confusion_matrix(y_test, y_pred)\n",
    "confusionMatrix"
   ]
  },
  {
   "cell_type": "code",
   "execution_count": 263,
   "metadata": {},
   "outputs": [
    {
     "name": "stdout",
     "output_type": "stream",
     "text": [
      "              precision    recall  f1-score   support\n",
      "\n",
      "           0       0.96      0.96      0.96    156616\n",
      "           1       0.96      0.96      0.96    157361\n",
      "\n",
      "   micro avg       0.96      0.96      0.96    313977\n",
      "   macro avg       0.96      0.96      0.96    313977\n",
      "weighted avg       0.96      0.96      0.96    313977\n",
      "\n",
      "0.961478070049717\n"
     ]
    }
   ],
   "source": [
    "print(classification_report(y_test, y_pred))\n",
    "print(accuracy_score(y_test, y_pred))"
   ]
  },
  {
   "cell_type": "code",
   "execution_count": 265,
   "metadata": {},
   "outputs": [
    {
     "data": {
      "image/png": "[encoded data removed]",
      "text/plain": [
       "<Figure size 432x288 with 1 Axes>"
      ]
     },
     "metadata": {},
     "output_type": "display_data"
    }
   ],
   "source": [
    "plt.figure(1)\n",
    "plt.clf()\n",
    "plt.scatter(X.values.ravel(), y, color='black', zorder=20)\n",
    "X_test = np.linspace(0, 1, 10)\n",
    "\n",
    "\n",
    "def model(x):\n",
    "    return 1 / (1 + np.exp(-x))\n",
    "\n",
    "loss = model(X_test * LogReg.coef_ + LogReg.intercept_).ravel()\n",
    "plt.plot(X_test, loss, color='red', linewidth=3)\n",
    "plt.xlim(0, 1)\n",
    "plt.ylabel('Probability of Completion')\n",
    "plt.xlabel('Events Per Day')\n",
    "#plt.xticks(range(0, 200, 20))\n",
    "plt.title(\"Completion vs. Events per Day\")\n",
    "plt.tight_layout()\n",
    "#plt.savefig('EventsCurve.png')\n",
    "plt.show()"
   ]
  },
  {
   "cell_type": "markdown",
   "metadata": {},
   "source": [
    "## Viewed Only"
   ]
  },
  {
   "cell_type": "code",
   "execution_count": 302,
   "metadata": {},
   "outputs": [],
   "source": [
    "viewed = students[students.only_viewed == 1]"
   ]
  },
  {
   "cell_type": "code",
   "execution_count": 291,
   "metadata": {},
   "outputs": [
    {
     "data": {
      "text/html": [
       "<div>\n",
       "<style scoped>\n",
       "    .dataframe tbody tr th:only-of-type {\n",
       "        vertical-align: middle;\n",
       "    }\n",
       "\n",
       "    .dataframe tbody tr th {\n",
       "        vertical-align: top;\n",
       "    }\n",
       "\n",
       "    .dataframe thead th {\n",
       "        text-align: right;\n",
       "    }\n",
       "</style>\n",
       "<table border=\"1\" class=\"dataframe\">\n",
       "  <thead>\n",
       "    <tr style=\"text-align: right;\">\n",
       "      <th></th>\n",
       "      <th>viewed</th>\n",
       "      <th>explored</th>\n",
       "      <th>certified</th>\n",
       "      <th>LoE_DI</th>\n",
       "      <th>YoB</th>\n",
       "      <th>grade</th>\n",
       "      <th>nevents</th>\n",
       "      <th>ndays_act</th>\n",
       "      <th>nplay_video</th>\n",
       "      <th>nchapters</th>\n",
       "      <th>nforum_posts</th>\n",
       "      <th>incomplete_flag</th>\n",
       "      <th>chapter_percent</th>\n",
       "      <th>only_registered</th>\n",
       "      <th>only_viewed</th>\n",
       "      <th>only_explored</th>\n",
       "      <th>eventsPerDay</th>\n",
       "      <th>active_interval</th>\n",
       "      <th>postsPerDay</th>\n",
       "    </tr>\n",
       "  </thead>\n",
       "  <tbody>\n",
       "    <tr>\n",
       "      <th>count</th>\n",
       "      <td>232628.000000</td>\n",
       "      <td>232628.000000</td>\n",
       "      <td>232628.000000</td>\n",
       "      <td>198691.000000</td>\n",
       "      <td>202595.000000</td>\n",
       "      <td>210093.000000</td>\n",
       "      <td>135449.000000</td>\n",
       "      <td>232628.000000</td>\n",
       "      <td>13432.000000</td>\n",
       "      <td>19319.000000</td>\n",
       "      <td>232628.000000</td>\n",
       "      <td>0.0</td>\n",
       "      <td>19319.000000</td>\n",
       "      <td>232628.000000</td>\n",
       "      <td>232628.000000</td>\n",
       "      <td>232628.0</td>\n",
       "      <td>135449.000000</td>\n",
       "      <td>232628</td>\n",
       "      <td>232628.000000</td>\n",
       "    </tr>\n",
       "    <tr>\n",
       "      <th>mean</th>\n",
       "      <td>0.075980</td>\n",
       "      <td>0.073018</td>\n",
       "      <td>0.075980</td>\n",
       "      <td>1.932765</td>\n",
       "      <td>1985.039769</td>\n",
       "      <td>0.070303</td>\n",
       "      <td>676.478549</td>\n",
       "      <td>4.622358</td>\n",
       "      <td>657.178082</td>\n",
       "      <td>15.481288</td>\n",
       "      <td>0.016271</td>\n",
       "      <td>NaN</td>\n",
       "      <td>0.808112</td>\n",
       "      <td>0.924020</td>\n",
       "      <td>0.002962</td>\n",
       "      <td>0.0</td>\n",
       "      <td>16.498733</td>\n",
       "      <td>25 days 17:24:55.228433</td>\n",
       "      <td>0.000465</td>\n",
       "    </tr>\n",
       "    <tr>\n",
       "      <th>std</th>\n",
       "      <td>0.264966</td>\n",
       "      <td>0.260166</td>\n",
       "      <td>0.264966</td>\n",
       "      <td>0.840033</td>\n",
       "      <td>8.757802</td>\n",
       "      <td>0.235036</td>\n",
       "      <td>2297.341440</td>\n",
       "      <td>14.152359</td>\n",
       "      <td>858.829586</td>\n",
       "      <td>7.487544</td>\n",
       "      <td>0.255815</td>\n",
       "      <td>NaN</td>\n",
       "      <td>0.259667</td>\n",
       "      <td>0.264966</td>\n",
       "      <td>0.054342</td>\n",
       "      <td>0.0</td>\n",
       "      <td>44.255323</td>\n",
       "      <td>68 days 10:19:18.772286</td>\n",
       "      <td>0.012755</td>\n",
       "    </tr>\n",
       "    <tr>\n",
       "      <th>min</th>\n",
       "      <td>0.000000</td>\n",
       "      <td>0.000000</td>\n",
       "      <td>0.000000</td>\n",
       "      <td>0.000000</td>\n",
       "      <td>1931.000000</td>\n",
       "      <td>0.000000</td>\n",
       "      <td>1.000000</td>\n",
       "      <td>1.000000</td>\n",
       "      <td>1.000000</td>\n",
       "      <td>1.000000</td>\n",
       "      <td>0.000000</td>\n",
       "      <td>NaN</td>\n",
       "      <td>0.020833</td>\n",
       "      <td>0.000000</td>\n",
       "      <td>0.000000</td>\n",
       "      <td>0.0</td>\n",
       "      <td>0.142857</td>\n",
       "      <td>-381 days +00:00:00</td>\n",
       "      <td>0.000000</td>\n",
       "    </tr>\n",
       "    <tr>\n",
       "      <th>25%</th>\n",
       "      <td>0.000000</td>\n",
       "      <td>0.000000</td>\n",
       "      <td>0.000000</td>\n",
       "      <td>1.000000</td>\n",
       "      <td>1982.000000</td>\n",
       "      <td>0.000000</td>\n",
       "      <td>1.000000</td>\n",
       "      <td>1.000000</td>\n",
       "      <td>146.000000</td>\n",
       "      <td>12.000000</td>\n",
       "      <td>0.000000</td>\n",
       "      <td>NaN</td>\n",
       "      <td>0.777778</td>\n",
       "      <td>1.000000</td>\n",
       "      <td>0.000000</td>\n",
       "      <td>0.0</td>\n",
       "      <td>1.000000</td>\n",
       "      <td>0 days 00:00:00</td>\n",
       "      <td>0.000000</td>\n",
       "    </tr>\n",
       "    <tr>\n",
       "      <th>50%</th>\n",
       "      <td>0.000000</td>\n",
       "      <td>0.000000</td>\n",
       "      <td>0.000000</td>\n",
       "      <td>2.000000</td>\n",
       "      <td>1987.000000</td>\n",
       "      <td>0.000000</td>\n",
       "      <td>2.000000</td>\n",
       "      <td>1.000000</td>\n",
       "      <td>413.000000</td>\n",
       "      <td>15.000000</td>\n",
       "      <td>0.000000</td>\n",
       "      <td>NaN</td>\n",
       "      <td>0.911765</td>\n",
       "      <td>1.000000</td>\n",
       "      <td>0.000000</td>\n",
       "      <td>0.0</td>\n",
       "      <td>1.666667</td>\n",
       "      <td>0 days 00:00:00</td>\n",
       "      <td>0.000000</td>\n",
       "    </tr>\n",
       "    <tr>\n",
       "      <th>75%</th>\n",
       "      <td>0.000000</td>\n",
       "      <td>0.000000</td>\n",
       "      <td>0.000000</td>\n",
       "      <td>3.000000</td>\n",
       "      <td>1991.000000</td>\n",
       "      <td>0.000000</td>\n",
       "      <td>4.000000</td>\n",
       "      <td>1.000000</td>\n",
       "      <td>850.000000</td>\n",
       "      <td>18.000000</td>\n",
       "      <td>0.000000</td>\n",
       "      <td>NaN</td>\n",
       "      <td>0.970588</td>\n",
       "      <td>1.000000</td>\n",
       "      <td>0.000000</td>\n",
       "      <td>0.0</td>\n",
       "      <td>3.000000</td>\n",
       "      <td>1 days 00:00:00</td>\n",
       "      <td>0.000000</td>\n",
       "    </tr>\n",
       "    <tr>\n",
       "      <th>max</th>\n",
       "      <td>1.000000</td>\n",
       "      <td>1.000000</td>\n",
       "      <td>1.000000</td>\n",
       "      <td>4.000000</td>\n",
       "      <td>2013.000000</td>\n",
       "      <td>1.010000</td>\n",
       "      <td>61376.000000</td>\n",
       "      <td>162.000000</td>\n",
       "      <td>19179.000000</td>\n",
       "      <td>48.000000</td>\n",
       "      <td>20.000000</td>\n",
       "      <td>NaN</td>\n",
       "      <td>1.000000</td>\n",
       "      <td>1.000000</td>\n",
       "      <td>1.000000</td>\n",
       "      <td>0.0</td>\n",
       "      <td>1462.000000</td>\n",
       "      <td>409 days 00:00:00</td>\n",
       "      <td>2.000000</td>\n",
       "    </tr>\n",
       "  </tbody>\n",
       "</table>\n",
       "</div>"
      ],
      "text/plain": [
       "              viewed       explored      certified         LoE_DI  \\\n",
       "count  232628.000000  232628.000000  232628.000000  198691.000000   \n",
       "mean        0.075980       0.073018       0.075980       1.932765   \n",
       "std         0.264966       0.260166       0.264966       0.840033   \n",
       "min         0.000000       0.000000       0.000000       0.000000   \n",
       "25%         0.000000       0.000000       0.000000       1.000000   \n",
       "50%         0.000000       0.000000       0.000000       2.000000   \n",
       "75%         0.000000       0.000000       0.000000       3.000000   \n",
       "max         1.000000       1.000000       1.000000       4.000000   \n",
       "\n",
       "                 YoB          grade        nevents      ndays_act  \\\n",
       "count  202595.000000  210093.000000  135449.000000  232628.000000   \n",
       "mean     1985.039769       0.070303     676.478549       4.622358   \n",
       "std         8.757802       0.235036    2297.341440      14.152359   \n",
       "min      1931.000000       0.000000       1.000000       1.000000   \n",
       "25%      1982.000000       0.000000       1.000000       1.000000   \n",
       "50%      1987.000000       0.000000       2.000000       1.000000   \n",
       "75%      1991.000000       0.000000       4.000000       1.000000   \n",
       "max      2013.000000       1.010000   61376.000000     162.000000   \n",
       "\n",
       "        nplay_video     nchapters   nforum_posts  incomplete_flag  \\\n",
       "count  13432.000000  19319.000000  232628.000000              0.0   \n",
       "mean     657.178082     15.481288       0.016271              NaN   \n",
       "std      858.829586      7.487544       0.255815              NaN   \n",
       "min        1.000000      1.000000       0.000000              NaN   \n",
       "25%      146.000000     12.000000       0.000000              NaN   \n",
       "50%      413.000000     15.000000       0.000000              NaN   \n",
       "75%      850.000000     18.000000       0.000000              NaN   \n",
       "max    19179.000000     48.000000      20.000000              NaN   \n",
       "\n",
       "       chapter_percent  only_registered    only_viewed  only_explored  \\\n",
       "count     19319.000000    232628.000000  232628.000000       232628.0   \n",
       "mean          0.808112         0.924020       0.002962            0.0   \n",
       "std           0.259667         0.264966       0.054342            0.0   \n",
       "min           0.020833         0.000000       0.000000            0.0   \n",
       "25%           0.777778         1.000000       0.000000            0.0   \n",
       "50%           0.911765         1.000000       0.000000            0.0   \n",
       "75%           0.970588         1.000000       0.000000            0.0   \n",
       "max           1.000000         1.000000       1.000000            0.0   \n",
       "\n",
       "        eventsPerDay          active_interval    postsPerDay  \n",
       "count  135449.000000                   232628  232628.000000  \n",
       "mean       16.498733  25 days 17:24:55.228433       0.000465  \n",
       "std        44.255323  68 days 10:19:18.772286       0.012755  \n",
       "min         0.142857      -381 days +00:00:00       0.000000  \n",
       "25%         1.000000          0 days 00:00:00       0.000000  \n",
       "50%         1.666667          0 days 00:00:00       0.000000  \n",
       "75%         3.000000          1 days 00:00:00       0.000000  \n",
       "max      1462.000000        409 days 00:00:00       2.000000  "
      ]
     },
     "execution_count": 291,
     "metadata": {},
     "output_type": "execute_result"
    }
   ],
   "source": [
    "viewed.describe()"
   ]
  },
  {
   "cell_type": "markdown",
   "metadata": {},
   "source": [
    "1. Same number of chapters as only registered\n",
    "2. Most will only interact once per day\n",
    "3. Most will only look at 2 chapters or 11% of content\n",
    "4. Slightly lower education level\n",
    "5. much more active"
   ]
  },
  {
   "cell_type": "markdown",
   "metadata": {},
   "source": [
    "### Engagement"
   ]
  },
  {
   "cell_type": "code",
   "execution_count": 63,
   "metadata": {},
   "outputs": [
    {
     "name": "stdout",
     "output_type": "stream",
     "text": [
      "0.32489068129566506\n",
      "0.675109318704335\n",
      "0.23842400746245365\n"
     ]
    }
   ],
   "source": [
    "##days active\n",
    "print(len(viewed[viewed.ndays_act ==1])/len(viewed))\n",
    "print(len(viewed[viewed.ndays_act >1])/len(viewed))\n",
    "print(len(viewed[viewed.active_interval <=\"0 days\"])/len(viewed))"
   ]
  },
  {
   "cell_type": "code",
   "execution_count": 64,
   "metadata": {},
   "outputs": [
    {
     "data": {
      "image/png": "[encoded data removed]",
      "text/plain": [
       "<Figure size 432x288 with 1 Axes>"
      ]
     },
     "metadata": {
      "needs_background": "light"
     },
     "output_type": "display_data"
    }
   ],
   "source": [
    "viewed.ndays_act.hist(density=True, range=[0, 10], bins=10, color=\"blue\")\n",
    "plt.xlim(left=1)\n",
    "plt.xticks(range(1, 11))\n",
    "plt.xlabel(\"Days Active\")\n",
    "plt.ylabel(\"Percentage of Cohort\")\n",
    "plt.title(\"View Only Days Active\")\n",
    "plt.savefig(\"viewOnlyActivity.png\")"
   ]
  },
  {
   "cell_type": "code",
   "execution_count": 270,
   "metadata": {},
   "outputs": [
    {
     "name": "stderr",
     "output_type": "stream",
     "text": [
      "/anaconda3/lib/python3.7/site-packages/numpy/lib/histograms.py:754: RuntimeWarning: invalid value encountered in greater_equal\n",
      "  keep = (tmp_a >= first_edge)\n",
      "/anaconda3/lib/python3.7/site-packages/numpy/lib/histograms.py:755: RuntimeWarning: invalid value encountered in less_equal\n",
      "  keep &= (tmp_a <= last_edge)\n"
     ]
    },
    {
     "data": {
      "image/png": "[encoded data removed]",
      "text/plain": [
       "<Figure size 432x288 with 1 Axes>"
      ]
     },
     "metadata": {},
     "output_type": "display_data"
    }
   ],
   "source": [
    "weights = np.ones_like(viewed.chapter_percent)/float(len(viewed.chapter_percent))\n",
    "plt.hist(viewed.chapter_percent, weights=weights, range=[0,0.5], bins=10, color=\"blue\")\n",
    "plt.xlabel(\"% of Chapters Available\")\n",
    "plt.ylabel(\"Percentage of Cohort\")\n",
    "plt.title(\"View Only Chapters Read\")\n",
    "plt.savefig(\"viewOnlyChapters.png\")"
   ]
  },
  {
   "cell_type": "code",
   "execution_count": 280,
   "metadata": {},
   "outputs": [
    {
     "data": {
      "image/png": "[encoded data removed]",
      "text/plain": [
       "<Figure size 432x288 with 1 Axes>"
      ]
     },
     "metadata": {},
     "output_type": "display_data"
    }
   ],
   "source": [
    "viewed.nevents.value_counts(normalize=True).plot()\n",
    "plt.xlim(left=0, right=15)\n",
    "plt.ylabel(\"% of users\")\n",
    "plt.xlabel(\"Number of Events\")\n",
    "plt.title(\"Activity Dropoff \\n Viewed Only\")\n",
    "plt.savefig(\"viewdRegisterEvents.png\")"
   ]
  },
  {
   "cell_type": "markdown",
   "metadata": {},
   "source": [
    "### Gender"
   ]
  },
  {
   "cell_type": "code",
   "execution_count": 282,
   "metadata": {},
   "outputs": [
    {
     "data": {
      "image/png": "[encoded data removed]",
      "text/plain": [
       "<Figure size 432x288 with 1 Axes>"
      ]
     },
     "metadata": {},
     "output_type": "display_data"
    }
   ],
   "source": [
    "ovByGender = students.groupby('gender')['only_viewed'].mean()\n",
    "_ = ovByGender.plot.bar(title=\"Only Viewed Rate by Gender\")\n",
    "_ = plt.xlabel(\"Gender\")\n",
    "_ = plt.xticks([0,1],[\"Men\", \"Women\"])\n",
    "_ = plt.ylabel(\"Only Viewed Rate\")\n",
    "_ = plt.legend(('Men', 'Women'))\n"
   ]
  },
  {
   "cell_type": "code",
   "execution_count": 73,
   "metadata": {},
   "outputs": [
    {
     "data": {
      "image/png": "[encoded data removed]",
      "text/plain": [
       "<Figure size 432x288 with 1 Axes>"
      ]
     },
     "metadata": {
      "needs_background": "light"
     },
     "output_type": "display_data"
    },
    {
     "data": {
      "text/plain": [
       "gender\n",
       "f    0.486511\n",
       "m    0.537813\n",
       "Name: only_viewed, dtype: float64"
      ]
     },
     "execution_count": 73,
     "metadata": {},
     "output_type": "execute_result"
    }
   ],
   "source": [
    "x, y, hue = \"only_viewed\", \"prop\", \"gender\"\n",
    "gender_prop = (students[x]\n",
    "                       .groupby(students[hue])\n",
    "                       .value_counts(normalize=True)\n",
    "                       .rename(y)\n",
    "                       .reset_index()\n",
    "                       .pipe((sns.barplot, \"data\"), x=x, y=y, hue=hue))\n",
    "gender_prop = plt.xlabel(\"Only Registered\")\n",
    "gender_prop = plt.ylabel(\"Percent of Users\")\n",
    "plt.show()\n",
    "ovByGender"
   ]
  },
  {
   "cell_type": "markdown",
   "metadata": {},
   "source": [
    "Women seem to only view at a higher rate than men"
   ]
  },
  {
   "cell_type": "markdown",
   "metadata": {
    "heading_collapsed": true
   },
   "source": [
    "### Date of Birth"
   ]
  },
  {
   "cell_type": "code",
   "execution_count": 47,
   "metadata": {
    "hidden": true
   },
   "outputs": [
    {
     "data": {
      "text/plain": [
       "<matplotlib.axes._subplots.AxesSubplot at 0x1a4101df60>"
      ]
     },
     "execution_count": 47,
     "metadata": {},
     "output_type": "execute_result"
    },
    {
     "data": {
      "image/png": "[encoded data removed]",
      "text/plain": [
       "<Figure size 432x288 with 1 Axes>"
      ]
     },
     "metadata": {
      "needs_background": "light"
     },
     "output_type": "display_data"
    }
   ],
   "source": [
    "students.groupby('YoB')['only_viewed'].mean().plot()"
   ]
  },
  {
   "cell_type": "markdown",
   "metadata": {
    "hidden": true
   },
   "source": [
    "dip at the bottom is due to a lack of data for those years"
   ]
  },
  {
   "cell_type": "markdown",
   "metadata": {
    "heading_collapsed": true
   },
   "source": [
    "### Education"
   ]
  },
  {
   "cell_type": "code",
   "execution_count": 48,
   "metadata": {
    "hidden": true
   },
   "outputs": [
    {
     "data": {
      "text/plain": [
       "<matplotlib.axes._subplots.AxesSubplot at 0x1a41055630>"
      ]
     },
     "execution_count": 48,
     "metadata": {},
     "output_type": "execute_result"
    },
    {
     "data": {
      "image/png": "[encoded data removed]",
      "text/plain": [
       "<Figure size 432x288 with 1 Axes>"
      ]
     },
     "metadata": {
      "needs_background": "light"
     },
     "output_type": "display_data"
    }
   ],
   "source": [
    "students.groupby('LoE_DI')['only_viewed'].mean().plot(xticks=[0,1,2,3,4])"
   ]
  },
  {
   "cell_type": "markdown",
   "metadata": {
    "hidden": true
   },
   "source": [
    "students with Bachelor's and Master's degree have lowest view only rate"
   ]
  },
  {
   "cell_type": "markdown",
   "metadata": {
    "heading_collapsed": true
   },
   "source": [
    "### Course"
   ]
  },
  {
   "cell_type": "code",
   "execution_count": 49,
   "metadata": {
    "hidden": true
   },
   "outputs": [
    {
     "data": {
      "text/plain": [
       "<matplotlib.axes._subplots.AxesSubplot at 0x1a41071710>"
      ]
     },
     "execution_count": 49,
     "metadata": {},
     "output_type": "execute_result"
    },
    {
     "data": {
      "image/png": "[encoded data removed]",
      "text/plain": [
       "<Figure size 432x288 with 1 Axes>"
      ]
     },
     "metadata": {
      "needs_background": "light"
     },
     "output_type": "display_data"
    }
   ],
   "source": [
    "students.groupby('course')['only_viewed'].mean().plot(kind='bar')"
   ]
  },
  {
   "cell_type": "code",
   "execution_count": 268,
   "metadata": {
    "hidden": true,
    "scrolled": true
   },
   "outputs": [
    {
     "data": {
      "text/plain": [
       "<matplotlib.axes._subplots.AxesSubplot at 0x1a3a800320>"
      ]
     },
     "execution_count": 268,
     "metadata": {},
     "output_type": "execute_result"
    },
    {
     "data": {
      "image/png": "[encoded data removed]",
      "text/plain": [
       "<Figure size 432x288 with 1 Axes>"
      ]
     },
     "metadata": {},
     "output_type": "display_data"
    }
   ],
   "source": [
    "students.groupby('university')['only_viewed'].mean().plot(kind=\"bar\")"
   ]
  },
  {
   "cell_type": "code",
   "execution_count": null,
   "metadata": {
    "hidden": true
   },
   "outputs": [],
   "source": []
  },
  {
   "cell_type": "markdown",
   "metadata": {
    "heading_collapsed": true
   },
   "source": [
    "## Only explored"
   ]
  },
  {
   "cell_type": "markdown",
   "metadata": {
    "hidden": true
   },
   "source": [
    "This is the group I am most interested in. Since they have boasted the most commitment to the course, but still did not earn a certificate. I want to understand if this was due to motivation, difficulty"
   ]
  },
  {
   "cell_type": "code",
   "execution_count": 283,
   "metadata": {
    "hidden": true
   },
   "outputs": [
    {
     "data": {
      "text/plain": [
       "0.06957699979111558"
      ]
     },
     "execution_count": 283,
     "metadata": {},
     "output_type": "execute_result"
    }
   ],
   "source": [
    "students.explored.mean()"
   ]
  },
  {
   "cell_type": "code",
   "execution_count": 84,
   "metadata": {
    "hidden": true
   },
   "outputs": [
    {
     "data": {
      "text/plain": [
       "course_id            0.032673\n",
       "userid_DI            0.032673\n",
       "viewed               0.032673\n",
       "explored             0.032673\n",
       "certified            0.032673\n",
       "final_cc_cname_DI    0.032673\n",
       "LoE_DI               0.025436\n",
       "YoB                  0.025525\n",
       "gender               0.026005\n",
       "grade                0.032673\n",
       "start_time_DI        0.032673\n",
       "last_event_DI        0.032673\n",
       "nevents              0.032673\n",
       "ndays_act            0.032673\n",
       "nplay_video          0.024597\n",
       "nchapters            0.032673\n",
       "nforum_posts         0.032673\n",
       "incomplete_flag      0.000000\n",
       "university           0.032673\n",
       "course               0.032673\n",
       "course_variant       0.032673\n",
       "chapter_percent      0.032673\n",
       "only_registered      0.032673\n",
       "only_viewed          0.032673\n",
       "only_explored        0.032673\n",
       "eventsPerDay         0.032673\n",
       "active_interval      0.032673\n",
       "postsPerDay          0.032673\n",
       "dtype: float64"
      ]
     },
     "execution_count": 84,
     "metadata": {},
     "output_type": "execute_result"
    }
   ],
   "source": [
    "students[students.certified == 1].count()/len(students)"
   ]
  },
  {
   "cell_type": "markdown",
   "metadata": {
    "hidden": true
   },
   "source": []
  },
  {
   "cell_type": "code",
   "execution_count": 284,
   "metadata": {
    "hidden": true
   },
   "outputs": [],
   "source": [
    "explored = students[students.explored == 1 ]"
   ]
  },
  {
   "cell_type": "code",
   "execution_count": 285,
   "metadata": {
    "hidden": true
   },
   "outputs": [
    {
     "data": {
      "text/html": [
       "<div>\n",
       "<style scoped>\n",
       "    .dataframe tbody tr th:only-of-type {\n",
       "        vertical-align: middle;\n",
       "    }\n",
       "\n",
       "    .dataframe tbody tr th {\n",
       "        vertical-align: top;\n",
       "    }\n",
       "\n",
       "    .dataframe thead th {\n",
       "        text-align: right;\n",
       "    }\n",
       "</style>\n",
       "<table border=\"1\" class=\"dataframe\">\n",
       "  <thead>\n",
       "    <tr style=\"text-align: right;\">\n",
       "      <th></th>\n",
       "      <th>viewed</th>\n",
       "      <th>explored</th>\n",
       "      <th>certified</th>\n",
       "      <th>LoE_DI</th>\n",
       "      <th>YoB</th>\n",
       "      <th>grade</th>\n",
       "      <th>nevents</th>\n",
       "      <th>ndays_act</th>\n",
       "      <th>nplay_video</th>\n",
       "      <th>nchapters</th>\n",
       "      <th>nforum_posts</th>\n",
       "      <th>incomplete_flag</th>\n",
       "      <th>chapter_percent</th>\n",
       "      <th>only_registered</th>\n",
       "      <th>only_viewed</th>\n",
       "      <th>only_explored</th>\n",
       "      <th>eventsPerDay</th>\n",
       "      <th>active_interval</th>\n",
       "      <th>postsPerDay</th>\n",
       "    </tr>\n",
       "  </thead>\n",
       "  <tbody>\n",
       "    <tr>\n",
       "      <th>count</th>\n",
       "      <td>37639.000000</td>\n",
       "      <td>37639.0</td>\n",
       "      <td>37639.000000</td>\n",
       "      <td>29570.000000</td>\n",
       "      <td>29772.000000</td>\n",
       "      <td>36740.000000</td>\n",
       "      <td>37639.000000</td>\n",
       "      <td>37639.000000</td>\n",
       "      <td>23790.000000</td>\n",
       "      <td>37639.000000</td>\n",
       "      <td>37639.000000</td>\n",
       "      <td>0.0</td>\n",
       "      <td>37639.000000</td>\n",
       "      <td>37639.0</td>\n",
       "      <td>37639.0</td>\n",
       "      <td>37639.000000</td>\n",
       "      <td>37639.000000</td>\n",
       "      <td>37639</td>\n",
       "      <td>37639.000000</td>\n",
       "    </tr>\n",
       "    <tr>\n",
       "      <th>mean</th>\n",
       "      <td>0.999841</td>\n",
       "      <td>1.0</td>\n",
       "      <td>0.451287</td>\n",
       "      <td>1.986811</td>\n",
       "      <td>1984.993719</td>\n",
       "      <td>0.453887</td>\n",
       "      <td>3369.528043</td>\n",
       "      <td>32.640692</td>\n",
       "      <td>550.434889</td>\n",
       "      <td>14.448418</td>\n",
       "      <td>0.140227</td>\n",
       "      <td>NaN</td>\n",
       "      <td>0.811626</td>\n",
       "      <td>0.0</td>\n",
       "      <td>0.0</td>\n",
       "      <td>0.548713</td>\n",
       "      <td>91.661892</td>\n",
       "      <td>148 days 14:22:18.080182</td>\n",
       "      <td>0.003390</td>\n",
       "    </tr>\n",
       "    <tr>\n",
       "      <th>std</th>\n",
       "      <td>0.012625</td>\n",
       "      <td>0.0</td>\n",
       "      <td>0.497628</td>\n",
       "      <td>0.902776</td>\n",
       "      <td>9.116362</td>\n",
       "      <td>0.389936</td>\n",
       "      <td>3781.258967</td>\n",
       "      <td>26.076337</td>\n",
       "      <td>820.407163</td>\n",
       "      <td>6.275304</td>\n",
       "      <td>0.707799</td>\n",
       "      <td>NaN</td>\n",
       "      <td>0.168577</td>\n",
       "      <td>0.0</td>\n",
       "      <td>0.0</td>\n",
       "      <td>0.497628</td>\n",
       "      <td>83.173569</td>\n",
       "      <td>78 days 15:28:45.026809</td>\n",
       "      <td>0.017849</td>\n",
       "    </tr>\n",
       "    <tr>\n",
       "      <th>min</th>\n",
       "      <td>0.000000</td>\n",
       "      <td>1.0</td>\n",
       "      <td>0.000000</td>\n",
       "      <td>0.000000</td>\n",
       "      <td>1931.000000</td>\n",
       "      <td>0.000000</td>\n",
       "      <td>1.000000</td>\n",
       "      <td>1.000000</td>\n",
       "      <td>1.000000</td>\n",
       "      <td>6.000000</td>\n",
       "      <td>0.000000</td>\n",
       "      <td>NaN</td>\n",
       "      <td>0.473684</td>\n",
       "      <td>0.0</td>\n",
       "      <td>0.0</td>\n",
       "      <td>0.000000</td>\n",
       "      <td>0.250000</td>\n",
       "      <td>-194 days +00:00:00</td>\n",
       "      <td>0.000000</td>\n",
       "    </tr>\n",
       "    <tr>\n",
       "      <th>25%</th>\n",
       "      <td>1.000000</td>\n",
       "      <td>1.0</td>\n",
       "      <td>0.000000</td>\n",
       "      <td>1.000000</td>\n",
       "      <td>1982.000000</td>\n",
       "      <td>0.000000</td>\n",
       "      <td>362.000000</td>\n",
       "      <td>12.000000</td>\n",
       "      <td>101.000000</td>\n",
       "      <td>11.000000</td>\n",
       "      <td>0.000000</td>\n",
       "      <td>NaN</td>\n",
       "      <td>0.666667</td>\n",
       "      <td>0.0</td>\n",
       "      <td>0.0</td>\n",
       "      <td>0.000000</td>\n",
       "      <td>28.738636</td>\n",
       "      <td>97 days 00:00:00</td>\n",
       "      <td>0.000000</td>\n",
       "    </tr>\n",
       "    <tr>\n",
       "      <th>50%</th>\n",
       "      <td>1.000000</td>\n",
       "      <td>1.0</td>\n",
       "      <td>0.000000</td>\n",
       "      <td>2.000000</td>\n",
       "      <td>1987.000000</td>\n",
       "      <td>0.470000</td>\n",
       "      <td>2123.000000</td>\n",
       "      <td>27.000000</td>\n",
       "      <td>318.000000</td>\n",
       "      <td>12.000000</td>\n",
       "      <td>0.000000</td>\n",
       "      <td>NaN</td>\n",
       "      <td>0.842105</td>\n",
       "      <td>0.0</td>\n",
       "      <td>0.0</td>\n",
       "      <td>1.000000</td>\n",
       "      <td>83.750000</td>\n",
       "      <td>140 days 00:00:00</td>\n",
       "      <td>0.000000</td>\n",
       "    </tr>\n",
       "    <tr>\n",
       "      <th>75%</th>\n",
       "      <td>1.000000</td>\n",
       "      <td>1.0</td>\n",
       "      <td>1.000000</td>\n",
       "      <td>3.000000</td>\n",
       "      <td>1991.000000</td>\n",
       "      <td>0.850000</td>\n",
       "      <td>5203.000000</td>\n",
       "      <td>48.000000</td>\n",
       "      <td>701.000000</td>\n",
       "      <td>17.000000</td>\n",
       "      <td>0.000000</td>\n",
       "      <td>NaN</td>\n",
       "      <td>0.947368</td>\n",
       "      <td>0.0</td>\n",
       "      <td>0.0</td>\n",
       "      <td>1.000000</td>\n",
       "      <td>128.648011</td>\n",
       "      <td>193 days 00:00:00</td>\n",
       "      <td>0.000000</td>\n",
       "    </tr>\n",
       "    <tr>\n",
       "      <th>max</th>\n",
       "      <td>1.000000</td>\n",
       "      <td>1.0</td>\n",
       "      <td>1.000000</td>\n",
       "      <td>4.000000</td>\n",
       "      <td>2013.000000</td>\n",
       "      <td>1.010000</td>\n",
       "      <td>61376.000000</td>\n",
       "      <td>162.000000</td>\n",
       "      <td>34596.000000</td>\n",
       "      <td>48.000000</td>\n",
       "      <td>20.000000</td>\n",
       "      <td>NaN</td>\n",
       "      <td>1.000000</td>\n",
       "      <td>0.0</td>\n",
       "      <td>0.0</td>\n",
       "      <td>1.000000</td>\n",
       "      <td>2457.153846</td>\n",
       "      <td>409 days 00:00:00</td>\n",
       "      <td>0.714286</td>\n",
       "    </tr>\n",
       "  </tbody>\n",
       "</table>\n",
       "</div>"
      ],
      "text/plain": [
       "             viewed  explored     certified        LoE_DI           YoB  \\\n",
       "count  37639.000000   37639.0  37639.000000  29570.000000  29772.000000   \n",
       "mean       0.999841       1.0      0.451287      1.986811   1984.993719   \n",
       "std        0.012625       0.0      0.497628      0.902776      9.116362   \n",
       "min        0.000000       1.0      0.000000      0.000000   1931.000000   \n",
       "25%        1.000000       1.0      0.000000      1.000000   1982.000000   \n",
       "50%        1.000000       1.0      0.000000      2.000000   1987.000000   \n",
       "75%        1.000000       1.0      1.000000      3.000000   1991.000000   \n",
       "max        1.000000       1.0      1.000000      4.000000   2013.000000   \n",
       "\n",
       "              grade       nevents     ndays_act   nplay_video     nchapters  \\\n",
       "count  36740.000000  37639.000000  37639.000000  23790.000000  37639.000000   \n",
       "mean       0.453887   3369.528043     32.640692    550.434889     14.448418   \n",
       "std        0.389936   3781.258967     26.076337    820.407163      6.275304   \n",
       "min        0.000000      1.000000      1.000000      1.000000      6.000000   \n",
       "25%        0.000000    362.000000     12.000000    101.000000     11.000000   \n",
       "50%        0.470000   2123.000000     27.000000    318.000000     12.000000   \n",
       "75%        0.850000   5203.000000     48.000000    701.000000     17.000000   \n",
       "max        1.010000  61376.000000    162.000000  34596.000000     48.000000   \n",
       "\n",
       "       nforum_posts  incomplete_flag  chapter_percent  only_registered  \\\n",
       "count  37639.000000              0.0     37639.000000          37639.0   \n",
       "mean       0.140227              NaN         0.811626              0.0   \n",
       "std        0.707799              NaN         0.168577              0.0   \n",
       "min        0.000000              NaN         0.473684              0.0   \n",
       "25%        0.000000              NaN         0.666667              0.0   \n",
       "50%        0.000000              NaN         0.842105              0.0   \n",
       "75%        0.000000              NaN         0.947368              0.0   \n",
       "max       20.000000              NaN         1.000000              0.0   \n",
       "\n",
       "       only_viewed  only_explored  eventsPerDay           active_interval  \\\n",
       "count      37639.0   37639.000000  37639.000000                     37639   \n",
       "mean           0.0       0.548713     91.661892  148 days 14:22:18.080182   \n",
       "std            0.0       0.497628     83.173569   78 days 15:28:45.026809   \n",
       "min            0.0       0.000000      0.250000       -194 days +00:00:00   \n",
       "25%            0.0       0.000000     28.738636          97 days 00:00:00   \n",
       "50%            0.0       1.000000     83.750000         140 days 00:00:00   \n",
       "75%            0.0       1.000000    128.648011         193 days 00:00:00   \n",
       "max            0.0       1.000000   2457.153846         409 days 00:00:00   \n",
       "\n",
       "        postsPerDay  \n",
       "count  37639.000000  \n",
       "mean       0.003390  \n",
       "std        0.017849  \n",
       "min        0.000000  \n",
       "25%        0.000000  \n",
       "50%        0.000000  \n",
       "75%        0.000000  \n",
       "max        0.714286  "
      ]
     },
     "execution_count": 285,
     "metadata": {},
     "output_type": "execute_result"
    }
   ],
   "source": [
    "explored.describe()"
   ]
  },
  {
   "cell_type": "markdown",
   "metadata": {
    "hidden": true
   },
   "source": [
    "1. Same number of chapters as only registered\n",
    "2. Most will only interact once per day\n",
    "3. Most will only look at 2 chapters or 11% of content\n",
    "4. Slightly lower education level\n",
    "5. much more active"
   ]
  },
  {
   "cell_type": "markdown",
   "metadata": {
    "heading_collapsed": true,
    "hidden": true
   },
   "source": [
    "### Gender"
   ]
  },
  {
   "cell_type": "code",
   "execution_count": 289,
   "metadata": {
    "hidden": true
   },
   "outputs": [
    {
     "data": {
      "image/png": "[encoded data removed]",
      "text/plain": [
       "<Figure size 432x288 with 1 Axes>"
      ]
     },
     "metadata": {},
     "output_type": "display_data"
    }
   ],
   "source": [
    "ovByGender = students.groupby('gender')['explored'].mean()\n",
    "_ = ovByGender.plot.bar(title=\"Explored Rate by Gender\")\n",
    "_ = plt.xlabel(\"Gender\")\n",
    "_ = plt.ylabel(\"Only Viewed Rate\")\n",
    "_ = plt.legend(('Men', 'Women'))\n"
   ]
  },
  {
   "cell_type": "markdown",
   "metadata": {
    "hidden": true
   },
   "source": [
    "Women seem to only view at a higher rate than men"
   ]
  },
  {
   "cell_type": "markdown",
   "metadata": {
    "heading_collapsed": true,
    "hidden": true
   },
   "source": [
    "### Date of Birth"
   ]
  },
  {
   "cell_type": "code",
   "execution_count": 290,
   "metadata": {
    "hidden": true
   },
   "outputs": [
    {
     "data": {
      "text/plain": [
       "<matplotlib.axes._subplots.AxesSubplot at 0x1a306e57f0>"
      ]
     },
     "execution_count": 290,
     "metadata": {},
     "output_type": "execute_result"
    },
    {
     "data": {
      "image/png": "[encoded data removed]",
      "text/plain": [
       "<Figure size 432x288 with 1 Axes>"
      ]
     },
     "metadata": {},
     "output_type": "display_data"
    }
   ],
   "source": [
    "students.groupby('YoB')['explored'].mean().plot()"
   ]
  },
  {
   "cell_type": "markdown",
   "metadata": {
    "hidden": true
   },
   "source": [
    "dip at the bottom is due to a lack of data for those years"
   ]
  },
  {
   "cell_type": "markdown",
   "metadata": {
    "hidden": true
   },
   "source": [
    "### Education"
   ]
  },
  {
   "cell_type": "code",
   "execution_count": 56,
   "metadata": {
    "hidden": true
   },
   "outputs": [
    {
     "data": {
      "text/plain": [
       "<matplotlib.axes._subplots.AxesSubplot at 0x1a4171b400>"
      ]
     },
     "execution_count": 56,
     "metadata": {},
     "output_type": "execute_result"
    },
    {
     "data": {
      "image/png": "[encoded data removed]",
      "text/plain": [
       "<Figure size 432x288 with 1 Axes>"
      ]
     },
     "metadata": {
      "needs_background": "light"
     },
     "output_type": "display_data"
    }
   ],
   "source": [
    "students.groupby('LoE_DI')['only_viewed'].mean().plot(xticks=[0,1,2,3,4])"
   ]
  },
  {
   "cell_type": "markdown",
   "metadata": {
    "hidden": true
   },
   "source": [
    "students with Bachelor's and Master's degree have lowest view only rate"
   ]
  },
  {
   "cell_type": "markdown",
   "metadata": {
    "hidden": true
   },
   "source": [
    "**Course**"
   ]
  },
  {
   "cell_type": "code",
   "execution_count": null,
   "metadata": {
    "hidden": true,
    "scrolled": true
   },
   "outputs": [],
   "source": [
    "students.groupby('course')['only_viewed'].mean().plot(kind='bar')"
   ]
  },
  {
   "cell_type": "code",
   "execution_count": null,
   "metadata": {
    "hidden": true,
    "scrolled": true
   },
   "outputs": [],
   "source": [
    "students.groupby('university')['only_viewed'].mean().plot(kind=\"bar\")"
   ]
  },
  {
   "cell_type": "code",
   "execution_count": null,
   "metadata": {
    "hidden": true
   },
   "outputs": [],
   "source": []
  },
  {
   "cell_type": "markdown",
   "metadata": {},
   "source": [
    "# Causes of Non-Completion"
   ]
  },
  {
   "cell_type": "markdown",
   "metadata": {},
   "source": [
    "Examining the different reasons students didn't complete a certificate"
   ]
  },
  {
   "cell_type": "code",
   "execution_count": 342,
   "metadata": {},
   "outputs": [],
   "source": [
    "explored = students[students.explored == 1 ]"
   ]
  },
  {
   "cell_type": "code",
   "execution_count": 343,
   "metadata": {},
   "outputs": [
    {
     "data": {
      "text/html": [
       "<div>\n",
       "<style scoped>\n",
       "    .dataframe tbody tr th:only-of-type {\n",
       "        vertical-align: middle;\n",
       "    }\n",
       "\n",
       "    .dataframe tbody tr th {\n",
       "        vertical-align: top;\n",
       "    }\n",
       "\n",
       "    .dataframe thead th {\n",
       "        text-align: right;\n",
       "    }\n",
       "</style>\n",
       "<table border=\"1\" class=\"dataframe\">\n",
       "  <thead>\n",
       "    <tr style=\"text-align: right;\">\n",
       "      <th></th>\n",
       "      <th>viewed</th>\n",
       "      <th>explored</th>\n",
       "      <th>certified</th>\n",
       "      <th>LoE_DI</th>\n",
       "      <th>YoB</th>\n",
       "      <th>grade</th>\n",
       "      <th>nevents</th>\n",
       "      <th>ndays_act</th>\n",
       "      <th>nplay_video</th>\n",
       "      <th>nchapters</th>\n",
       "      <th>nforum_posts</th>\n",
       "      <th>incomplete_flag</th>\n",
       "      <th>chapter_percent</th>\n",
       "      <th>only_registered</th>\n",
       "      <th>only_viewed</th>\n",
       "      <th>only_explored</th>\n",
       "      <th>eventsPerDay</th>\n",
       "      <th>active_interval</th>\n",
       "      <th>postsPerDay</th>\n",
       "      <th>videosPerDay</th>\n",
       "    </tr>\n",
       "  </thead>\n",
       "  <tbody>\n",
       "    <tr>\n",
       "      <th>count</th>\n",
       "      <td>37639.000000</td>\n",
       "      <td>37639.0</td>\n",
       "      <td>37639.000000</td>\n",
       "      <td>29570.000000</td>\n",
       "      <td>29772.000000</td>\n",
       "      <td>36740.000000</td>\n",
       "      <td>37639.000000</td>\n",
       "      <td>37639.000000</td>\n",
       "      <td>23790.000000</td>\n",
       "      <td>37639.000000</td>\n",
       "      <td>37639.000000</td>\n",
       "      <td>0.0</td>\n",
       "      <td>37639.000000</td>\n",
       "      <td>37639.0</td>\n",
       "      <td>37639.0</td>\n",
       "      <td>37639.000000</td>\n",
       "      <td>37639.000000</td>\n",
       "      <td>37639</td>\n",
       "      <td>37639.000000</td>\n",
       "      <td>23790.000000</td>\n",
       "    </tr>\n",
       "    <tr>\n",
       "      <th>mean</th>\n",
       "      <td>0.999841</td>\n",
       "      <td>1.0</td>\n",
       "      <td>0.451287</td>\n",
       "      <td>1.986811</td>\n",
       "      <td>1984.993719</td>\n",
       "      <td>0.453887</td>\n",
       "      <td>3369.528043</td>\n",
       "      <td>32.640692</td>\n",
       "      <td>550.434889</td>\n",
       "      <td>14.448418</td>\n",
       "      <td>0.140227</td>\n",
       "      <td>NaN</td>\n",
       "      <td>0.811626</td>\n",
       "      <td>0.0</td>\n",
       "      <td>0.0</td>\n",
       "      <td>0.548713</td>\n",
       "      <td>91.661892</td>\n",
       "      <td>148 days 14:22:18.080182</td>\n",
       "      <td>0.003390</td>\n",
       "      <td>13.375645</td>\n",
       "    </tr>\n",
       "    <tr>\n",
       "      <th>std</th>\n",
       "      <td>0.012625</td>\n",
       "      <td>0.0</td>\n",
       "      <td>0.497628</td>\n",
       "      <td>0.902776</td>\n",
       "      <td>9.116362</td>\n",
       "      <td>0.389936</td>\n",
       "      <td>3781.258967</td>\n",
       "      <td>26.076337</td>\n",
       "      <td>820.407163</td>\n",
       "      <td>6.275304</td>\n",
       "      <td>0.707799</td>\n",
       "      <td>NaN</td>\n",
       "      <td>0.168577</td>\n",
       "      <td>0.0</td>\n",
       "      <td>0.0</td>\n",
       "      <td>0.497628</td>\n",
       "      <td>83.173569</td>\n",
       "      <td>78 days 15:28:45.026809</td>\n",
       "      <td>0.017849</td>\n",
       "      <td>19.570895</td>\n",
       "    </tr>\n",
       "    <tr>\n",
       "      <th>min</th>\n",
       "      <td>0.000000</td>\n",
       "      <td>1.0</td>\n",
       "      <td>0.000000</td>\n",
       "      <td>0.000000</td>\n",
       "      <td>1931.000000</td>\n",
       "      <td>0.000000</td>\n",
       "      <td>1.000000</td>\n",
       "      <td>1.000000</td>\n",
       "      <td>1.000000</td>\n",
       "      <td>6.000000</td>\n",
       "      <td>0.000000</td>\n",
       "      <td>NaN</td>\n",
       "      <td>0.473684</td>\n",
       "      <td>0.0</td>\n",
       "      <td>0.0</td>\n",
       "      <td>0.000000</td>\n",
       "      <td>0.250000</td>\n",
       "      <td>-194 days +00:00:00</td>\n",
       "      <td>0.000000</td>\n",
       "      <td>0.009009</td>\n",
       "    </tr>\n",
       "    <tr>\n",
       "      <th>25%</th>\n",
       "      <td>1.000000</td>\n",
       "      <td>1.0</td>\n",
       "      <td>0.000000</td>\n",
       "      <td>1.000000</td>\n",
       "      <td>1982.000000</td>\n",
       "      <td>0.000000</td>\n",
       "      <td>362.000000</td>\n",
       "      <td>12.000000</td>\n",
       "      <td>101.000000</td>\n",
       "      <td>11.000000</td>\n",
       "      <td>0.000000</td>\n",
       "      <td>NaN</td>\n",
       "      <td>0.666667</td>\n",
       "      <td>0.0</td>\n",
       "      <td>0.0</td>\n",
       "      <td>0.000000</td>\n",
       "      <td>28.738636</td>\n",
       "      <td>97 days 00:00:00</td>\n",
       "      <td>0.000000</td>\n",
       "      <td>3.909091</td>\n",
       "    </tr>\n",
       "    <tr>\n",
       "      <th>50%</th>\n",
       "      <td>1.000000</td>\n",
       "      <td>1.0</td>\n",
       "      <td>0.000000</td>\n",
       "      <td>2.000000</td>\n",
       "      <td>1987.000000</td>\n",
       "      <td>0.470000</td>\n",
       "      <td>2123.000000</td>\n",
       "      <td>27.000000</td>\n",
       "      <td>318.000000</td>\n",
       "      <td>12.000000</td>\n",
       "      <td>0.000000</td>\n",
       "      <td>NaN</td>\n",
       "      <td>0.842105</td>\n",
       "      <td>0.0</td>\n",
       "      <td>0.0</td>\n",
       "      <td>1.000000</td>\n",
       "      <td>83.750000</td>\n",
       "      <td>140 days 00:00:00</td>\n",
       "      <td>0.000000</td>\n",
       "      <td>8.876524</td>\n",
       "    </tr>\n",
       "    <tr>\n",
       "      <th>75%</th>\n",
       "      <td>1.000000</td>\n",
       "      <td>1.0</td>\n",
       "      <td>1.000000</td>\n",
       "      <td>3.000000</td>\n",
       "      <td>1991.000000</td>\n",
       "      <td>0.850000</td>\n",
       "      <td>5203.000000</td>\n",
       "      <td>48.000000</td>\n",
       "      <td>701.000000</td>\n",
       "      <td>17.000000</td>\n",
       "      <td>0.000000</td>\n",
       "      <td>NaN</td>\n",
       "      <td>0.947368</td>\n",
       "      <td>0.0</td>\n",
       "      <td>0.0</td>\n",
       "      <td>1.000000</td>\n",
       "      <td>128.648011</td>\n",
       "      <td>193 days 00:00:00</td>\n",
       "      <td>0.000000</td>\n",
       "      <td>16.909091</td>\n",
       "    </tr>\n",
       "    <tr>\n",
       "      <th>max</th>\n",
       "      <td>1.000000</td>\n",
       "      <td>1.0</td>\n",
       "      <td>1.000000</td>\n",
       "      <td>4.000000</td>\n",
       "      <td>2013.000000</td>\n",
       "      <td>1.010000</td>\n",
       "      <td>61376.000000</td>\n",
       "      <td>162.000000</td>\n",
       "      <td>34596.000000</td>\n",
       "      <td>48.000000</td>\n",
       "      <td>20.000000</td>\n",
       "      <td>NaN</td>\n",
       "      <td>1.000000</td>\n",
       "      <td>0.0</td>\n",
       "      <td>0.0</td>\n",
       "      <td>1.000000</td>\n",
       "      <td>2457.153846</td>\n",
       "      <td>409 days 00:00:00</td>\n",
       "      <td>0.714286</td>\n",
       "      <td>957.583333</td>\n",
       "    </tr>\n",
       "  </tbody>\n",
       "</table>\n",
       "</div>"
      ],
      "text/plain": [
       "             viewed  explored     certified        LoE_DI           YoB  \\\n",
       "count  37639.000000   37639.0  37639.000000  29570.000000  29772.000000   \n",
       "mean       0.999841       1.0      0.451287      1.986811   1984.993719   \n",
       "std        0.012625       0.0      0.497628      0.902776      9.116362   \n",
       "min        0.000000       1.0      0.000000      0.000000   1931.000000   \n",
       "25%        1.000000       1.0      0.000000      1.000000   1982.000000   \n",
       "50%        1.000000       1.0      0.000000      2.000000   1987.000000   \n",
       "75%        1.000000       1.0      1.000000      3.000000   1991.000000   \n",
       "max        1.000000       1.0      1.000000      4.000000   2013.000000   \n",
       "\n",
       "              grade       nevents     ndays_act   nplay_video     nchapters  \\\n",
       "count  36740.000000  37639.000000  37639.000000  23790.000000  37639.000000   \n",
       "mean       0.453887   3369.528043     32.640692    550.434889     14.448418   \n",
       "std        0.389936   3781.258967     26.076337    820.407163      6.275304   \n",
       "min        0.000000      1.000000      1.000000      1.000000      6.000000   \n",
       "25%        0.000000    362.000000     12.000000    101.000000     11.000000   \n",
       "50%        0.470000   2123.000000     27.000000    318.000000     12.000000   \n",
       "75%        0.850000   5203.000000     48.000000    701.000000     17.000000   \n",
       "max        1.010000  61376.000000    162.000000  34596.000000     48.000000   \n",
       "\n",
       "       nforum_posts  incomplete_flag  chapter_percent  only_registered  \\\n",
       "count  37639.000000              0.0     37639.000000          37639.0   \n",
       "mean       0.140227              NaN         0.811626              0.0   \n",
       "std        0.707799              NaN         0.168577              0.0   \n",
       "min        0.000000              NaN         0.473684              0.0   \n",
       "25%        0.000000              NaN         0.666667              0.0   \n",
       "50%        0.000000              NaN         0.842105              0.0   \n",
       "75%        0.000000              NaN         0.947368              0.0   \n",
       "max       20.000000              NaN         1.000000              0.0   \n",
       "\n",
       "       only_viewed  only_explored  eventsPerDay           active_interval  \\\n",
       "count      37639.0   37639.000000  37639.000000                     37639   \n",
       "mean           0.0       0.548713     91.661892  148 days 14:22:18.080182   \n",
       "std            0.0       0.497628     83.173569   78 days 15:28:45.026809   \n",
       "min            0.0       0.000000      0.250000       -194 days +00:00:00   \n",
       "25%            0.0       0.000000     28.738636          97 days 00:00:00   \n",
       "50%            0.0       1.000000     83.750000         140 days 00:00:00   \n",
       "75%            0.0       1.000000    128.648011         193 days 00:00:00   \n",
       "max            0.0       1.000000   2457.153846         409 days 00:00:00   \n",
       "\n",
       "        postsPerDay  videosPerDay  \n",
       "count  37639.000000  23790.000000  \n",
       "mean       0.003390     13.375645  \n",
       "std        0.017849     19.570895  \n",
       "min        0.000000      0.009009  \n",
       "25%        0.000000      3.909091  \n",
       "50%        0.000000      8.876524  \n",
       "75%        0.000000     16.909091  \n",
       "max        0.714286    957.583333  "
      ]
     },
     "execution_count": 343,
     "metadata": {},
     "output_type": "execute_result"
    }
   ],
   "source": [
    "explored.describe()"
   ]
  },
  {
   "cell_type": "markdown",
   "metadata": {},
   "source": [
    "## Forum Posts"
   ]
  },
  {
   "cell_type": "code",
   "execution_count": 311,
   "metadata": {},
   "outputs": [
    {
     "data": {
      "text/plain": [
       "[<matplotlib.lines.Line2D at 0x1a3a58a5c0>]"
      ]
     },
     "execution_count": 311,
     "metadata": {},
     "output_type": "execute_result"
    },
    {
     "data": {
      "image/png": "[encoded data removed]",
      "text/plain": [
       "<Figure size 432x288 with 1 Axes>"
      ]
     },
     "metadata": {},
     "output_type": "display_data"
    }
   ],
   "source": [
    "plt.plot(explored.ndays_act, explored.postsPerDay, color='green', marker='o')"
   ]
  },
  {
   "cell_type": "code",
   "execution_count": 310,
   "metadata": {},
   "outputs": [
    {
     "data": {
      "text/plain": [
       "array([[1.        , 0.19929595],\n",
       "       [0.19929595, 1.        ]])"
      ]
     },
     "execution_count": 310,
     "metadata": {},
     "output_type": "execute_result"
    }
   ],
   "source": [
    "np.corrcoef(explored.ndays_act, explored.nforum_posts)"
   ]
  },
  {
   "cell_type": "code",
   "execution_count": 309,
   "metadata": {},
   "outputs": [
    {
     "data": {
      "text/plain": [
       "array([[1.        , 0.06357385],\n",
       "       [0.06357385, 1.        ]])"
      ]
     },
     "execution_count": 309,
     "metadata": {},
     "output_type": "execute_result"
    }
   ],
   "source": [
    "np.corrcoef(explored.ndays_act, explored.postsPerDay)"
   ]
  },
  {
   "cell_type": "code",
   "execution_count": 326,
   "metadata": {},
   "outputs": [
    {
     "data": {
      "image/png": "[encoded data removed]",
      "text/plain": [
       "<Figure size 432x288 with 1 Axes>"
      ]
     },
     "metadata": {},
     "output_type": "display_data"
    }
   ],
   "source": [
    "plt.plot(explored.postsPerDay, explored.grade, color='blue', marker='o', linestyle=\"none\")\n",
    "plt.xlabel(\"forum posts per day\")\n",
    "plt.ylabel(\"Grade\")\n",
    "plt.savefig(\"forumPosts.png\")"
   ]
  },
  {
   "cell_type": "code",
   "execution_count": 323,
   "metadata": {},
   "outputs": [
    {
     "data": {
      "text/html": [
       "<div>\n",
       "<style scoped>\n",
       "    .dataframe tbody tr th:only-of-type {\n",
       "        vertical-align: middle;\n",
       "    }\n",
       "\n",
       "    .dataframe tbody tr th {\n",
       "        vertical-align: top;\n",
       "    }\n",
       "\n",
       "    .dataframe thead th {\n",
       "        text-align: right;\n",
       "    }\n",
       "</style>\n",
       "<table border=\"1\" class=\"dataframe\">\n",
       "  <thead>\n",
       "    <tr style=\"text-align: right;\">\n",
       "      <th></th>\n",
       "      <th>postsPerDay</th>\n",
       "      <th>grade</th>\n",
       "      <th>certified</th>\n",
       "    </tr>\n",
       "  </thead>\n",
       "  <tbody>\n",
       "    <tr>\n",
       "      <th>postsPerDay</th>\n",
       "      <td>1.000000</td>\n",
       "      <td>0.048250</td>\n",
       "      <td>0.042654</td>\n",
       "    </tr>\n",
       "    <tr>\n",
       "      <th>grade</th>\n",
       "      <td>0.048250</td>\n",
       "      <td>1.000000</td>\n",
       "      <td>0.911893</td>\n",
       "    </tr>\n",
       "    <tr>\n",
       "      <th>certified</th>\n",
       "      <td>0.042654</td>\n",
       "      <td>0.911893</td>\n",
       "      <td>1.000000</td>\n",
       "    </tr>\n",
       "  </tbody>\n",
       "</table>\n",
       "</div>"
      ],
      "text/plain": [
       "             postsPerDay     grade  certified\n",
       "postsPerDay     1.000000  0.048250   0.042654\n",
       "grade           0.048250  1.000000   0.911893\n",
       "certified       0.042654  0.911893   1.000000"
      ]
     },
     "execution_count": 323,
     "metadata": {},
     "output_type": "execute_result"
    }
   ],
   "source": [
    "postCorr = explored[[\"postsPerDay\", \"grade\", \"certified\"]]\n",
    "postCorr.corr()"
   ]
  },
  {
   "cell_type": "markdown",
   "metadata": {},
   "source": [
    "## Videos"
   ]
  },
  {
   "cell_type": "code",
   "execution_count": 345,
   "metadata": {},
   "outputs": [
    {
     "data": {
      "text/plain": [
       "[<matplotlib.lines.Line2D at 0x1a306fe390>]"
      ]
     },
     "execution_count": 345,
     "metadata": {},
     "output_type": "execute_result"
    },
    {
     "data": {
      "image/png": "[encoded data removed]",
      "text/plain": [
       "<Figure size 432x288 with 1 Axes>"
      ]
     },
     "metadata": {},
     "output_type": "display_data"
    }
   ],
   "source": [
    "plt.plot(explored.ndays_act, explored.videosPerDay, color='blue', marker='o', linestyle=\"none\")\n"
   ]
  },
  {
   "cell_type": "code",
   "execution_count": 383,
   "metadata": {},
   "outputs": [
    {
     "data": {
      "text/html": [
       "<div>\n",
       "<style scoped>\n",
       "    .dataframe tbody tr th:only-of-type {\n",
       "        vertical-align: middle;\n",
       "    }\n",
       "\n",
       "    .dataframe tbody tr th {\n",
       "        vertical-align: top;\n",
       "    }\n",
       "\n",
       "    .dataframe thead th {\n",
       "        text-align: right;\n",
       "    }\n",
       "</style>\n",
       "<table border=\"1\" class=\"dataframe\">\n",
       "  <thead>\n",
       "    <tr style=\"text-align: right;\">\n",
       "      <th></th>\n",
       "      <th>videosPerDay</th>\n",
       "      <th>ndays_act</th>\n",
       "      <th>grade</th>\n",
       "    </tr>\n",
       "  </thead>\n",
       "  <tbody>\n",
       "    <tr>\n",
       "      <th>videosPerDay</th>\n",
       "      <td>1.000000</td>\n",
       "      <td>-0.018253</td>\n",
       "      <td>-0.061213</td>\n",
       "    </tr>\n",
       "    <tr>\n",
       "      <th>ndays_act</th>\n",
       "      <td>-0.018253</td>\n",
       "      <td>1.000000</td>\n",
       "      <td>0.584436</td>\n",
       "    </tr>\n",
       "    <tr>\n",
       "      <th>grade</th>\n",
       "      <td>-0.061213</td>\n",
       "      <td>0.584436</td>\n",
       "      <td>1.000000</td>\n",
       "    </tr>\n",
       "  </tbody>\n",
       "</table>\n",
       "</div>"
      ],
      "text/plain": [
       "              videosPerDay  ndays_act     grade\n",
       "videosPerDay      1.000000  -0.018253 -0.061213\n",
       "ndays_act        -0.018253   1.000000  0.584436\n",
       "grade            -0.061213   0.584436  1.000000"
      ]
     },
     "execution_count": 383,
     "metadata": {},
     "output_type": "execute_result"
    }
   ],
   "source": [
    "videoCorr = explored[[\"videosPerDay\", \"ndays_act\", \"grade\"]]\n",
    "videoCorr.corr()"
   ]
  },
  {
   "cell_type": "code",
   "execution_count": 348,
   "metadata": {},
   "outputs": [
    {
     "data": {
      "image/png": "[encoded data removed]",
      "text/plain": [
       "<Figure size 432x288 with 1 Axes>"
      ]
     },
     "metadata": {},
     "output_type": "display_data"
    }
   ],
   "source": [
    "plt.plot(explored.videosPerDay, explored.grade, color='blue', marker='o', linestyle=\"none\")\n",
    "plt.xlabel(\"video plays per day\")\n",
    "plt.ylabel(\"Grade\")\n",
    "plt.xlim(0,100)\n",
    "plt.savefig(\"videos.png\")"
   ]
  },
  {
   "cell_type": "code",
   "execution_count": 391,
   "metadata": {},
   "outputs": [],
   "source": [
    "X = explored.loc[:,['videosPerDay']].fillna(0)\n",
    "y = explored.loc[:,[\"certified\"]]"
   ]
  },
  {
   "cell_type": "code",
   "execution_count": 392,
   "metadata": {},
   "outputs": [],
   "source": [
    "X_train, X_test, y_train, y_test = train_test_split(X, y, test_size = .3, random_state=25)"
   ]
  },
  {
   "cell_type": "code",
   "execution_count": 393,
   "metadata": {},
   "outputs": [
    {
     "data": {
      "text/plain": [
       "LogisticRegression(C=1.0, class_weight=None, dual=False, fit_intercept=True,\n",
       "          intercept_scaling=1, max_iter=100, multi_class='warn',\n",
       "          n_jobs=None, penalty='l2', random_state=None, solver='liblinear',\n",
       "          tol=0.0001, verbose=0, warm_start=False)"
      ]
     },
     "execution_count": 393,
     "metadata": {},
     "output_type": "execute_result"
    }
   ],
   "source": [
    "LogReg = LogisticRegression(solver='liblinear')\n",
    "LogReg.fit(X_train, y_train.values.ravel())"
   ]
  },
  {
   "cell_type": "code",
   "execution_count": 394,
   "metadata": {},
   "outputs": [],
   "source": [
    "y_pred = LogReg.predict(X_test)"
   ]
  },
  {
   "cell_type": "code",
   "execution_count": 395,
   "metadata": {},
   "outputs": [
    {
     "data": {
      "text/plain": [
       "array([[5932,  297],\n",
       "       [4805,  258]])"
      ]
     },
     "execution_count": 395,
     "metadata": {},
     "output_type": "execute_result"
    }
   ],
   "source": [
    "confusionMatrix = confusion_matrix(y_test, y_pred)\n",
    "confusionMatrix"
   ]
  },
  {
   "cell_type": "code",
   "execution_count": 396,
   "metadata": {},
   "outputs": [
    {
     "name": "stdout",
     "output_type": "stream",
     "text": [
      "              precision    recall  f1-score   support\n",
      "\n",
      "           0       0.55      0.95      0.70      6229\n",
      "           1       0.46      0.05      0.09      5063\n",
      "\n",
      "   micro avg       0.55      0.55      0.55     11292\n",
      "   macro avg       0.51      0.50      0.40     11292\n",
      "weighted avg       0.51      0.55      0.43     11292\n",
      "\n",
      "0.5481756996103436\n"
     ]
    }
   ],
   "source": [
    "print(classification_report(y_test, y_pred))\n",
    "print(accuracy_score(y_test, y_pred))"
   ]
  },
  {
   "cell_type": "code",
   "execution_count": 397,
   "metadata": {},
   "outputs": [
    {
     "data": {
      "image/png": "[encoded data removed]",
      "text/plain": [
       "<Figure size 432x288 with 1 Axes>"
      ]
     },
     "metadata": {},
     "output_type": "display_data"
    }
   ],
   "source": [
    "plt.figure(1)\n",
    "plt.clf()\n",
    "plt.scatter(X.values.ravel(), y, color='black', zorder=20)\n",
    "X_test = np.linspace(0, 200, 2000)\n",
    "\n",
    "\n",
    "def model(x):\n",
    "    return 1 / (1 + np.exp(-x))\n",
    "\n",
    "loss = model(X_test * LogReg.coef_ + LogReg.intercept_).ravel()\n",
    "plt.plot(X_test, loss, color='red', linewidth=3)\n",
    "plt.xlim(0, 100)\n",
    "plt.ylabel('Probability of Completion')\n",
    "plt.xlabel('Video Plays Per Day')\n",
    "plt.xticks(range(0, 200, 20))\n",
    "plt.title(\"Completion vs. Video Plays per Day\")\n",
    "plt.tight_layout()\n",
    "plt.savefig('videoCurve.png')\n",
    "plt.show()"
   ]
  },
  {
   "cell_type": "code",
   "execution_count": 381,
   "metadata": {},
   "outputs": [
    {
     "data": {
      "text/plain": [
       "0.4512872286723877"
      ]
     },
     "execution_count": 381,
     "metadata": {},
     "output_type": "execute_result"
    }
   ],
   "source": [
    "explored.certified.mean()"
   ]
  },
  {
   "cell_type": "markdown",
   "metadata": {},
   "source": [
    "# Grade Distribution"
   ]
  },
  {
   "cell_type": "code",
   "execution_count": 405,
   "metadata": {},
   "outputs": [
    {
     "data": {
      "text/html": [
       "<div>\n",
       "<style scoped>\n",
       "    .dataframe tbody tr th:only-of-type {\n",
       "        vertical-align: middle;\n",
       "    }\n",
       "\n",
       "    .dataframe tbody tr th {\n",
       "        vertical-align: top;\n",
       "    }\n",
       "\n",
       "    .dataframe thead th {\n",
       "        text-align: right;\n",
       "    }\n",
       "</style>\n",
       "<table border=\"1\" class=\"dataframe\">\n",
       "  <thead>\n",
       "    <tr style=\"text-align: right;\">\n",
       "      <th></th>\n",
       "      <th>count</th>\n",
       "      <th>mean</th>\n",
       "      <th>std</th>\n",
       "      <th>min</th>\n",
       "      <th>25%</th>\n",
       "      <th>50%</th>\n",
       "      <th>75%</th>\n",
       "      <th>max</th>\n",
       "    </tr>\n",
       "    <tr>\n",
       "      <th>course</th>\n",
       "      <th></th>\n",
       "      <th></th>\n",
       "      <th></th>\n",
       "      <th></th>\n",
       "      <th></th>\n",
       "      <th></th>\n",
       "      <th></th>\n",
       "      <th></th>\n",
       "    </tr>\n",
       "  </thead>\n",
       "  <tbody>\n",
       "    <tr>\n",
       "      <th>14.73x</th>\n",
       "      <td>6253.0</td>\n",
       "      <td>0.333109</td>\n",
       "      <td>0.345071</td>\n",
       "      <td>0.01</td>\n",
       "      <td>0.03</td>\n",
       "      <td>0.15</td>\n",
       "      <td>0.70</td>\n",
       "      <td>1.00</td>\n",
       "    </tr>\n",
       "    <tr>\n",
       "      <th>2.01x</th>\n",
       "      <td>1064.0</td>\n",
       "      <td>0.270282</td>\n",
       "      <td>0.324696</td>\n",
       "      <td>0.01</td>\n",
       "      <td>0.06</td>\n",
       "      <td>0.06</td>\n",
       "      <td>0.55</td>\n",
       "      <td>1.00</td>\n",
       "    </tr>\n",
       "    <tr>\n",
       "      <th>3.091x</th>\n",
       "      <td>2700.0</td>\n",
       "      <td>0.309504</td>\n",
       "      <td>0.359283</td>\n",
       "      <td>0.01</td>\n",
       "      <td>0.04</td>\n",
       "      <td>0.08</td>\n",
       "      <td>0.69</td>\n",
       "      <td>1.00</td>\n",
       "    </tr>\n",
       "    <tr>\n",
       "      <th>6.002x</th>\n",
       "      <td>8907.0</td>\n",
       "      <td>0.296782</td>\n",
       "      <td>0.362546</td>\n",
       "      <td>0.01</td>\n",
       "      <td>0.03</td>\n",
       "      <td>0.08</td>\n",
       "      <td>0.60</td>\n",
       "      <td>1.00</td>\n",
       "    </tr>\n",
       "    <tr>\n",
       "      <th>6.00x</th>\n",
       "      <td>24885.0</td>\n",
       "      <td>0.173598</td>\n",
       "      <td>0.285661</td>\n",
       "      <td>0.01</td>\n",
       "      <td>0.01</td>\n",
       "      <td>0.02</td>\n",
       "      <td>0.20</td>\n",
       "      <td>1.00</td>\n",
       "    </tr>\n",
       "    <tr>\n",
       "      <th>7.00x</th>\n",
       "      <td>3651.0</td>\n",
       "      <td>0.244092</td>\n",
       "      <td>0.303034</td>\n",
       "      <td>0.01</td>\n",
       "      <td>0.02</td>\n",
       "      <td>0.06</td>\n",
       "      <td>0.46</td>\n",
       "      <td>0.99</td>\n",
       "    </tr>\n",
       "    <tr>\n",
       "      <th>8.02x</th>\n",
       "      <td>3860.0</td>\n",
       "      <td>0.244997</td>\n",
       "      <td>0.327470</td>\n",
       "      <td>0.01</td>\n",
       "      <td>0.01</td>\n",
       "      <td>0.05</td>\n",
       "      <td>0.40</td>\n",
       "      <td>1.00</td>\n",
       "    </tr>\n",
       "    <tr>\n",
       "      <th>8.MReV</th>\n",
       "      <td>1677.0</td>\n",
       "      <td>0.215194</td>\n",
       "      <td>0.282435</td>\n",
       "      <td>0.01</td>\n",
       "      <td>0.02</td>\n",
       "      <td>0.06</td>\n",
       "      <td>0.36</td>\n",
       "      <td>1.00</td>\n",
       "    </tr>\n",
       "    <tr>\n",
       "      <th>CB22x</th>\n",
       "      <td>2125.0</td>\n",
       "      <td>0.190151</td>\n",
       "      <td>0.273948</td>\n",
       "      <td>0.01</td>\n",
       "      <td>0.02</td>\n",
       "      <td>0.05</td>\n",
       "      <td>0.20</td>\n",
       "      <td>1.00</td>\n",
       "    </tr>\n",
       "    <tr>\n",
       "      <th>CS50x</th>\n",
       "      <td>1286.0</td>\n",
       "      <td>1.000000</td>\n",
       "      <td>0.000000</td>\n",
       "      <td>1.00</td>\n",
       "      <td>1.00</td>\n",
       "      <td>1.00</td>\n",
       "      <td>1.00</td>\n",
       "      <td>1.00</td>\n",
       "    </tr>\n",
       "    <tr>\n",
       "      <th>ER22x</th>\n",
       "      <td>5686.0</td>\n",
       "      <td>0.405900</td>\n",
       "      <td>0.371357</td>\n",
       "      <td>0.01</td>\n",
       "      <td>0.04</td>\n",
       "      <td>0.26</td>\n",
       "      <td>0.79</td>\n",
       "      <td>1.00</td>\n",
       "    </tr>\n",
       "    <tr>\n",
       "      <th>PH207x</th>\n",
       "      <td>8611.0</td>\n",
       "      <td>0.301795</td>\n",
       "      <td>0.366249</td>\n",
       "      <td>0.01</td>\n",
       "      <td>0.02</td>\n",
       "      <td>0.09</td>\n",
       "      <td>0.62</td>\n",
       "      <td>1.01</td>\n",
       "    </tr>\n",
       "    <tr>\n",
       "      <th>PH278x</th>\n",
       "      <td>3238.0</td>\n",
       "      <td>0.266121</td>\n",
       "      <td>0.283718</td>\n",
       "      <td>0.01</td>\n",
       "      <td>0.05</td>\n",
       "      <td>0.14</td>\n",
       "      <td>0.42</td>\n",
       "      <td>0.89</td>\n",
       "    </tr>\n",
       "  </tbody>\n",
       "</table>\n",
       "</div>"
      ],
      "text/plain": [
       "          count      mean       std   min   25%   50%   75%   max\n",
       "course                                                           \n",
       "14.73x   6253.0  0.333109  0.345071  0.01  0.03  0.15  0.70  1.00\n",
       "2.01x    1064.0  0.270282  0.324696  0.01  0.06  0.06  0.55  1.00\n",
       "3.091x   2700.0  0.309504  0.359283  0.01  0.04  0.08  0.69  1.00\n",
       "6.002x   8907.0  0.296782  0.362546  0.01  0.03  0.08  0.60  1.00\n",
       "6.00x   24885.0  0.173598  0.285661  0.01  0.01  0.02  0.20  1.00\n",
       "7.00x    3651.0  0.244092  0.303034  0.01  0.02  0.06  0.46  0.99\n",
       "8.02x    3860.0  0.244997  0.327470  0.01  0.01  0.05  0.40  1.00\n",
       "8.MReV   1677.0  0.215194  0.282435  0.01  0.02  0.06  0.36  1.00\n",
       "CB22x    2125.0  0.190151  0.273948  0.01  0.02  0.05  0.20  1.00\n",
       "CS50x    1286.0  1.000000  0.000000  1.00  1.00  1.00  1.00  1.00\n",
       "ER22x    5686.0  0.405900  0.371357  0.01  0.04  0.26  0.79  1.00\n",
       "PH207x   8611.0  0.301795  0.366249  0.01  0.02  0.09  0.62  1.01\n",
       "PH278x   3238.0  0.266121  0.283718  0.01  0.05  0.14  0.42  0.89"
      ]
     },
     "execution_count": 405,
     "metadata": {},
     "output_type": "execute_result"
    }
   ],
   "source": [
    "nonzero_grades = students[students.grade != 0]\n",
    "nonzero_grades.groupby(['course']).grade.describe()"
   ]
  },
  {
   "cell_type": "code",
   "execution_count": 457,
   "metadata": {},
   "outputs": [
    {
     "data": {
      "text/plain": [
       "Text(0.5, 1.0, 'Grade Distribution')"
      ]
     },
     "execution_count": 457,
     "metadata": {},
     "output_type": "execute_result"
    },
    {
     "data": {
      "image/png": "[encoded data removed]",
      "text/plain": [
       "<Figure size 432x288 with 1 Axes>"
      ]
     },
     "metadata": {},
     "output_type": "display_data"
    }
   ],
   "source": [
    "nonzero_grades = explored[explored.grade > 0]\n",
    "nonzero_grades.groupby(['course']).grade.mean().plot(kind=\"bar\")\n",
    "plt.ylabel(\"Average Grade\")\n",
    "plt.title(\"Grade Distribution\")"
   ]
  },
  {
   "cell_type": "code",
   "execution_count": 458,
   "metadata": {},
   "outputs": [
    {
     "name": "stderr",
     "output_type": "stream",
     "text": [
      "/anaconda3/lib/python3.7/site-packages/ipykernel_launcher.py:2: SettingWithCopyWarning: \n",
      "A value is trying to be set on a copy of a slice from a DataFrame\n",
      "\n",
      "See the caveats in the documentation: http://pandas.pydata.org/pandas-docs/stable/indexing.html#indexing-view-versus-copy\n",
      "  \n"
     ]
    }
   ],
   "source": [
    "grade_table = nonzero_grades[['course', 'grade']]\n",
    "grade_table.dropna(inplace=True)"
   ]
  },
  {
   "cell_type": "code",
   "execution_count": 459,
   "metadata": {},
   "outputs": [
    {
     "data": {
      "text/plain": [
       "<matplotlib.axes._subplots.AxesSubplot at 0x1a409767f0>"
      ]
     },
     "execution_count": 459,
     "metadata": {},
     "output_type": "execute_result"
    },
    {
     "data": {
      "image/png": "[encoded data removed]",
      "text/plain": [
       "<Figure size 432x288 with 1 Axes>"
      ]
     },
     "metadata": {},
     "output_type": "display_data"
    }
   ],
   "source": [
    "grade_table.boxplot(column='grade', by='course', rot=90)"
   ]
  },
  {
   "cell_type": "code",
   "execution_count": 460,
   "metadata": {},
   "outputs": [
    {
     "data": {
      "text/plain": [
       "<matplotlib.axes._subplots.AxesSubplot at 0x1a432697f0>"
      ]
     },
     "execution_count": 460,
     "metadata": {},
     "output_type": "execute_result"
    },
    {
     "data": {
      "image/png": "[encoded data removed]",
      "text/plain": [
       "<Figure size 432x288 with 1 Axes>"
      ]
     },
     "metadata": {},
     "output_type": "display_data"
    }
   ],
   "source": [
    "nonzero_grades.grade.hist(density=True)"
   ]
  },
  {
   "cell_type": "code",
   "execution_count": 462,
   "metadata": {},
   "outputs": [
    {
     "data": {
      "image/png": "[encoded data removed]",
      "text/plain": [
       "<Figure size 432x288 with 1 Axes>"
      ]
     },
     "metadata": {},
     "output_type": "display_data"
    }
   ],
   "source": [
    "sns.boxplot(x=\"course\", y=\"grade\", data=nonzero_grades)\n",
    "plt.xticks(rotation=90)\n",
    "plt.savefig(\"gradeDist.png\")"
   ]
  },
  {
   "cell_type": "code",
   "execution_count": 463,
   "metadata": {},
   "outputs": [
    {
     "data": {
      "text/plain": [
       "<matplotlib.axes._subplots.AxesSubplot at 0x1a3a2896a0>"
      ]
     },
     "execution_count": 463,
     "metadata": {},
     "output_type": "execute_result"
    },
    {
     "data": {
      "image/png": "[encoded data removed]",
      "text/plain": [
       "<Figure size 432x288 with 1 Axes>"
      ]
     },
     "metadata": {},
     "output_type": "display_data"
    }
   ],
   "source": [
    "nonzero_grades.grade.hist()"
   ]
  },
  {
   "cell_type": "code",
   "execution_count": null,
   "metadata": {},
   "outputs": [],
   "source": []
  },
  {
   "cell_type": "code",
   "execution_count": 534,
   "metadata": {},
   "outputs": [],
   "source": [
    "def check_list(N, L):\n",
    "    test_list = [i for i in L]\n",
    "    for item in L:\n",
    "        test_list.remove(item)\n",
    "        if (N-item) in test_list:\n",
    "            return True\n",
    "    return False\n",
    "            \n",
    "        \n",
    "    \n",
    "        "
   ]
  },
  {
   "cell_type": "code",
   "execution_count": null,
   "metadata": {},
   "outputs": [],
   "source": []
  },
  {
   "cell_type": "code",
   "execution_count": 537,
   "metadata": {},
   "outputs": [
    {
     "data": {
      "text/plain": [
       "False"
      ]
     },
     "execution_count": 537,
     "metadata": {},
     "output_type": "execute_result"
    }
   ],
   "source": [
    "check_list(6,l)"
   ]
  },
  {
   "cell_type": "code",
   "execution_count": 535,
   "metadata": {},
   "outputs": [
    {
     "data": {
      "text/plain": [
       "[1, 2, 3]"
      ]
     },
     "execution_count": 535,
     "metadata": {},
     "output_type": "execute_result"
    }
   ],
   "source": [
    "l"
   ]
  },
  {
   "cell_type": "code",
   "execution_count": 499,
   "metadata": {},
   "outputs": [
    {
     "data": {
      "text/plain": [
       "True"
      ]
     },
     "execution_count": 499,
     "metadata": {},
     "output_type": "execute_result"
    }
   ],
   "source": [
    "5-3 in l"
   ]
  },
  {
   "cell_type": "code",
   "execution_count": 531,
   "metadata": {},
   "outputs": [],
   "source": [
    "l = [1,2,3]"
   ]
  },
  {
   "cell_type": "code",
   "execution_count": 473,
   "metadata": {},
   "outputs": [],
   "source": [
    "l.remove(3)"
   ]
  },
  {
   "cell_type": "code",
   "execution_count": 496,
   "metadata": {},
   "outputs": [
    {
     "ename": "TypeError",
     "evalue": "'int' object is not iterable",
     "output_type": "error",
     "traceback": [
      "\u001b[0;31m---------------------------------------------------------------------------\u001b[0m",
      "\u001b[0;31mTypeError\u001b[0m                                 Traceback (most recent call last)",
      "\u001b[0;32m<ipython-input-496-4584e5390159>\u001b[0m in \u001b[0;36m<module>\u001b[0;34m\u001b[0m\n\u001b[0;32m----> 1\u001b[0;31m \u001b[0msum\u001b[0m\u001b[0;34m(\u001b[0m\u001b[0;36m4\u001b[0m\u001b[0;34m,\u001b[0m\u001b[0;36m3\u001b[0m\u001b[0;34m)\u001b[0m\u001b[0;34m\u001b[0m\u001b[0;34m\u001b[0m\u001b[0m\n\u001b[0m",
      "\u001b[0;31mTypeError\u001b[0m: 'int' object is not iterable"
     ]
    }
   ],
   "source": [
    "sum(4,3)"
   ]
  },
  {
   "cell_type": "code",
   "execution_count": null,
   "metadata": {},
   "outputs": [],
   "source": []
  }
 ],
 "metadata": {
  "kernelspec": {
   "display_name": "Python 3",
   "language": "python",
   "name": "python3"
  },
  "language_info": {
   "codemirror_mode": {
    "name": "ipython",
    "version": 3
   },
   "file_extension": ".py",
   "mimetype": "text/x-python",
   "name": "python",
   "nbconvert_exporter": "python",
   "pygments_lexer": "ipython3",
   "version": "3.7.1"
  },
  "toc": {
   "base_numbering": 1,
   "nav_menu": {},
   "number_sections": true,
   "sideBar": true,
   "skip_h1_title": false,
   "title_cell": "Table of Contents",
   "title_sidebar": "Contents",
   "toc_cell": true,
   "toc_position": {},
   "toc_section_display": true,
   "toc_window_display": true
  }
 },
 "nbformat": 4,
 "nbformat_minor": 2
}
